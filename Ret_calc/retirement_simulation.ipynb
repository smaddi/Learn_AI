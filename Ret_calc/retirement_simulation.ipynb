{
 "cells": [
  {
   "cell_type": "code",
   "execution_count": 1,
   "id": "a18e5f31-5cb8-4249-8a2e-ad4862644ff3",
   "metadata": {},
   "outputs": [],
   "source": [
    "import numpy as np\n",
    "import matplotlib.pyplot as plt\n",
    "import pandas as pd\n",
    "import plotly.graph_objs as go\n",
    "import plotly.io as pio\n",
    "import plotly.express as px\n",
    "import requests\n",
    "from datetime import datetime"
   ]
  },
  {
   "cell_type": "code",
   "execution_count": 16,
   "id": "21f88643-565d-46ae-9685-a05b3cb212d3",
   "metadata": {},
   "outputs": [
    {
     "name": "stdout",
     "output_type": "stream",
     "text": [
      "unable to reach server to get live USD to INR, using default USD to INR\n"
     ]
    }
   ],
   "source": [
    "# Age Variables, head of household\n",
    "\n",
    "year_of_birth = 1992\n",
    "Age_diff_spouse = 4\n",
    "retirement_year = 2028\n",
    "# Investment Variables\n",
    "\n",
    "# stock market parameters\n",
    "stock_market_mean_yoy_growthrate_percent = 8\n",
    "stock_market_std_yoy_growthrate = 0.180977\n",
    "\n",
    "Investments = {\n",
    "    'Ret_accnts' :  {\n",
    "        'type': 'stock',\n",
    "        'current_value': 400000,\n",
    "        'beta': 1,\n",
    "        'mean_yoy_growthrate_percent': 8, \n",
    "        'std_yoy_growthrate': 0.180977,\n",
    "        'additions_yearly' : 0,\n",
    "        'currency' : 'USD'\n",
    "    },\n",
    "    'TSLA' :  {\n",
    "        'type': 'stock',\n",
    "        'current_value': 1400000,\n",
    "        'beta': 1,\n",
    "        'mean_yoy_growthrate_percent': 8, \n",
    "        'std_yoy_growthrate': 0.180977,\n",
    "        'additions_yearly' : 0,\n",
    "        'currency' : 'USD'\n",
    "    },\n",
    "    'Marcus' :  {\n",
    "        'type': 'cash_certificate',\n",
    "        'current_value': 20000,\n",
    "        'additions_yearly' : 0,\n",
    "        'mean_yoy_growthrate_percent': 5,\n",
    "        'currency' : 'USD'\n",
    "    },\n",
    "    'ret_home' : {\n",
    "        'type': 'real_estate',\n",
    "        'current_value': 20000000,\n",
    "        'mean_yoy_growthrate_percent': 7,\n",
    "        'down_percent': 25,\n",
    "        'mortgage_term': 30,\n",
    "        'mortgage_start_year': retirement_year,\n",
    "        'mortgage_percent': 9.85,\n",
    "        'closing_costs_onetime': 3500000,\n",
    "        'currency': 'INR', # Currency of loan\n",
    "        'rental_income': 0,\n",
    "        'rental_income_yoy_inc_percent': 3,\n",
    "        'property_tax_percent': 1.36,\n",
    "        'HOA_or_maintainance': 2000,\n",
    "        'home_insurance': 1390,\n",
    "        'yearly_misc_repair_or_other': 12000\n",
    "        \n",
    "    },\n",
    "    'us_rent' : {\n",
    "        'type': 'real_estate',\n",
    "        'current_value': 300000,\n",
    "        'mean_yoy_growthrate_percent': 7.83,\n",
    "        'down_percent': 20,\n",
    "        'mortgage_term': 30,\n",
    "        'mortgage_start_year': 2024,\n",
    "        'mortgage_percent': 6.25,\n",
    "        'closing_costs_onetime': 30000,\n",
    "        'currency': 'USD',\n",
    "        'rental_income': 1500,\n",
    "        'rental_income_yoy_inc_percent': 3,\n",
    "        'property_tax_percent': 1.36,\n",
    "        'HOA_or_maintainance': 200,\n",
    "        'home_insurance': 50,\n",
    "        'yearly_misc_repair_or_other': 1200\n",
    "    },\n",
    "    'Ind_land' : {\n",
    "        'type': 'real_estate',\n",
    "        'current_value': 5000000,\n",
    "        'mean_yoy_growthrate_percent': 5,\n",
    "        'down_percent': 50,\n",
    "        'mortgage_term': 15,\n",
    "        'mortgage_start_year': 2024,\n",
    "        'mortgage_percent': 6.25,\n",
    "        'closing_costs_onetime': 500000,\n",
    "        'currency': 'INR',\n",
    "        'rental_income': 0,\n",
    "        'rental_income_yoy_inc_percent': 0,\n",
    "        'property_tax_percent': 1.36,\n",
    "        'HOA_or_maintainance': 10000,\n",
    "        'home_insurance': 0,\n",
    "        'yearly_misc_repair_or_other': 0\n",
    "    }\n",
    "}\n",
    "\n",
    "# India Living\n",
    "Monthly_living = 200000\n",
    "Monthly_living_currency = 'INR' # USD or INR\n",
    "India_infaltion_mean = 7.379\n",
    "India_inflation_std = 0.04878\n",
    "\n",
    "# Unexpected expenses percent of living expense\n",
    "Unexpected_expense_min_percent = 0.5\n",
    "Unexpected_expense_max_percent = 15\n",
    "\n",
    "# Post retirement support job\n",
    "job_income = 2000000\n",
    "job_yoy_increment_percent = 3\n",
    "job_years_after_ret = 5\n",
    "job_parameter_curency = 'INR' # USD or INR\n",
    "\n",
    "# US tax brackets \n",
    "# Federal tax brackets (married filing jointly) for 2023\n",
    "US_federal_brackets = [\n",
    "    (0, 22000, 0.10),\n",
    "    (22000, 89450, 0.12),\n",
    "    (89450, 190750, 0.22),\n",
    "    (190750, 364200, 0.24),\n",
    "    (364200, 462500, 0.32),\n",
    "    (462500, 693750, 0.35),\n",
    "    (693750, 1_000_000, 0.37)\n",
    "]\n",
    "\n",
    "\n",
    "# California state tax brackets (married filing jointly) for 2023\n",
    "US_state_brackets = [\n",
    "    (0, 20198, 0.01),\n",
    "    (20198, 47884, 0.02),\n",
    "    (47884, 75576, 0.04),\n",
    "    (75576, 104910, 0.06),\n",
    "    (104910, 132590, 0.08),\n",
    "    (132590, 677278, 0.093),\n",
    "    (677278, 812728, 0.103),\n",
    "    (812728, 1354550, 0.113),\n",
    "    (1354550, 1_000_000, 0.123)\n",
    "]\n",
    "\n",
    "\n",
    "# India tax brackets\n",
    "India_federal_brackets = [\n",
    "    (0, 250000, 0.0),\n",
    "    (250000, 500000, 0.05),\n",
    "    (500000, 1000000, 0.20),\n",
    "    (1000000, 10000000, 0.30)\n",
    "]\n",
    "\n",
    "\n",
    "# USD to INR rates \n",
    "# Fetching the current USD to INR conversion rate from an API\n",
    "\n",
    "default_USD_to_INR = 83.5\n",
    "USD_INR_comission_percent = 0.550\n",
    "USD_INR_mean_growth_percent = 3.040\n",
    "USD_INR_STD = 0.0557\n",
    "\n",
    "try : \n",
    "    response = requests.get(\"https://api.exchangerate-api.com/v4/latest/USD\")\n",
    "    data = response.json()\n",
    "    \n",
    "    # Extracting the USD to INR conversion rate\n",
    "    USD_INR_rate = data[\"rates\"][\"INR\"]\n",
    "except : \n",
    "    USD_INR_rate = default_USD_to_INR\n",
    "    print('unable to reach server to get live USD to INR, using default USD to INR')\n",
    "\n",
    "#Calculated_parameters \n",
    "current_year = datetime.now().year\n",
    "target_survival_year = year_of_birth+Age_diff_spouse+100\n",
    "years_to_calculate = target_survival_year - current_year"
   ]
  },
  {
   "cell_type": "code",
   "execution_count": 32,
   "id": "77ee5558-4bd3-4533-8fc7-ece40aacd68b",
   "metadata": {},
   "outputs": [
    {
     "data": {
      "application/vnd.plotly.v1+json": {
       "config": {
        "plotlyServerURL": "https://plot.ly"
       },
       "data": [
        {
         "alignmentgroup": "True",
         "hovertemplate": "variable=%{x}<br>value=%{y}<extra></extra>",
         "legendgroup": "",
         "marker": {
          "color": "#636efa"
         },
         "name": "",
         "notched": false,
         "offsetgroup": "",
         "orientation": "v",
         "showlegend": false,
         "type": "box",
         "x": [
          "USD_INR_growth",
          "USD_INR_growth",
          "USD_INR_growth",
          "USD_INR_growth",
          "USD_INR_growth",
          "USD_INR_growth",
          "USD_INR_growth",
          "USD_INR_growth",
          "USD_INR_growth",
          "USD_INR_growth",
          "USD_INR_growth",
          "USD_INR_growth",
          "USD_INR_growth",
          "USD_INR_growth",
          "USD_INR_growth",
          "USD_INR_growth",
          "USD_INR_growth",
          "USD_INR_growth",
          "USD_INR_growth",
          "USD_INR_growth",
          "USD_INR_growth",
          "USD_INR_growth",
          "USD_INR_growth",
          "USD_INR_growth",
          "USD_INR_growth",
          "USD_INR_growth",
          "USD_INR_growth",
          "USD_INR_growth",
          "USD_INR_growth",
          "USD_INR_growth",
          "USD_INR_growth",
          "USD_INR_growth",
          "USD_INR_growth",
          "USD_INR_growth",
          "USD_INR_growth",
          "USD_INR_growth",
          "USD_INR_growth",
          "USD_INR_growth",
          "USD_INR_growth",
          "USD_INR_growth",
          "USD_INR_growth",
          "USD_INR_growth",
          "USD_INR_growth",
          "USD_INR_growth",
          "USD_INR_growth",
          "USD_INR_growth",
          "USD_INR_growth",
          "USD_INR_growth",
          "USD_INR_growth",
          "USD_INR_growth",
          "USD_INR_growth",
          "USD_INR_growth",
          "USD_INR_growth",
          "USD_INR_growth",
          "USD_INR_growth",
          "USD_INR_growth",
          "USD_INR_growth",
          "USD_INR_growth",
          "USD_INR_growth",
          "USD_INR_growth",
          "USD_INR_growth",
          "USD_INR_growth",
          "USD_INR_growth",
          "USD_INR_growth",
          "USD_INR_growth",
          "USD_INR_growth",
          "USD_INR_growth",
          "USD_INR_growth",
          "USD_INR_growth",
          "USD_INR_growth",
          "USD_INR_growth",
          "USD_INR_growth",
          "Inflation_growth",
          "Inflation_growth",
          "Inflation_growth",
          "Inflation_growth",
          "Inflation_growth",
          "Inflation_growth",
          "Inflation_growth",
          "Inflation_growth",
          "Inflation_growth",
          "Inflation_growth",
          "Inflation_growth",
          "Inflation_growth",
          "Inflation_growth",
          "Inflation_growth",
          "Inflation_growth",
          "Inflation_growth",
          "Inflation_growth",
          "Inflation_growth",
          "Inflation_growth",
          "Inflation_growth",
          "Inflation_growth",
          "Inflation_growth",
          "Inflation_growth",
          "Inflation_growth",
          "Inflation_growth",
          "Inflation_growth",
          "Inflation_growth",
          "Inflation_growth",
          "Inflation_growth",
          "Inflation_growth",
          "Inflation_growth",
          "Inflation_growth",
          "Inflation_growth",
          "Inflation_growth",
          "Inflation_growth",
          "Inflation_growth",
          "Inflation_growth",
          "Inflation_growth",
          "Inflation_growth",
          "Inflation_growth",
          "Inflation_growth",
          "Inflation_growth",
          "Inflation_growth",
          "Inflation_growth",
          "Inflation_growth",
          "Inflation_growth",
          "Inflation_growth",
          "Inflation_growth",
          "Inflation_growth",
          "Inflation_growth",
          "Inflation_growth",
          "Inflation_growth",
          "Inflation_growth",
          "Inflation_growth",
          "Inflation_growth",
          "Inflation_growth",
          "Inflation_growth",
          "Inflation_growth",
          "Inflation_growth",
          "Inflation_growth",
          "Inflation_growth",
          "Inflation_growth",
          "Inflation_growth",
          "Inflation_growth",
          "Inflation_growth",
          "Inflation_growth",
          "Inflation_growth",
          "Inflation_growth",
          "Inflation_growth",
          "Inflation_growth",
          "Inflation_growth",
          "Inflation_growth",
          "unexpected_expense_rate",
          "unexpected_expense_rate",
          "unexpected_expense_rate",
          "unexpected_expense_rate",
          "unexpected_expense_rate",
          "unexpected_expense_rate",
          "unexpected_expense_rate",
          "unexpected_expense_rate",
          "unexpected_expense_rate",
          "unexpected_expense_rate",
          "unexpected_expense_rate",
          "unexpected_expense_rate",
          "unexpected_expense_rate",
          "unexpected_expense_rate",
          "unexpected_expense_rate",
          "unexpected_expense_rate",
          "unexpected_expense_rate",
          "unexpected_expense_rate",
          "unexpected_expense_rate",
          "unexpected_expense_rate",
          "unexpected_expense_rate",
          "unexpected_expense_rate",
          "unexpected_expense_rate",
          "unexpected_expense_rate",
          "unexpected_expense_rate",
          "unexpected_expense_rate",
          "unexpected_expense_rate",
          "unexpected_expense_rate",
          "unexpected_expense_rate",
          "unexpected_expense_rate",
          "unexpected_expense_rate",
          "unexpected_expense_rate",
          "unexpected_expense_rate",
          "unexpected_expense_rate",
          "unexpected_expense_rate",
          "unexpected_expense_rate",
          "unexpected_expense_rate",
          "unexpected_expense_rate",
          "unexpected_expense_rate",
          "unexpected_expense_rate",
          "unexpected_expense_rate",
          "unexpected_expense_rate",
          "unexpected_expense_rate",
          "unexpected_expense_rate",
          "unexpected_expense_rate",
          "unexpected_expense_rate",
          "unexpected_expense_rate",
          "unexpected_expense_rate",
          "unexpected_expense_rate",
          "unexpected_expense_rate",
          "unexpected_expense_rate",
          "unexpected_expense_rate",
          "unexpected_expense_rate",
          "unexpected_expense_rate",
          "unexpected_expense_rate",
          "unexpected_expense_rate",
          "unexpected_expense_rate",
          "unexpected_expense_rate",
          "unexpected_expense_rate",
          "unexpected_expense_rate",
          "unexpected_expense_rate",
          "unexpected_expense_rate",
          "unexpected_expense_rate",
          "unexpected_expense_rate",
          "unexpected_expense_rate",
          "unexpected_expense_rate",
          "unexpected_expense_rate",
          "unexpected_expense_rate",
          "unexpected_expense_rate",
          "unexpected_expense_rate",
          "unexpected_expense_rate",
          "unexpected_expense_rate",
          "Ret_accnts_growth",
          "Ret_accnts_growth",
          "Ret_accnts_growth",
          "Ret_accnts_growth",
          "Ret_accnts_growth",
          "Ret_accnts_growth",
          "Ret_accnts_growth",
          "Ret_accnts_growth",
          "Ret_accnts_growth",
          "Ret_accnts_growth",
          "Ret_accnts_growth",
          "Ret_accnts_growth",
          "Ret_accnts_growth",
          "Ret_accnts_growth",
          "Ret_accnts_growth",
          "Ret_accnts_growth",
          "Ret_accnts_growth",
          "Ret_accnts_growth",
          "Ret_accnts_growth",
          "Ret_accnts_growth",
          "Ret_accnts_growth",
          "Ret_accnts_growth",
          "Ret_accnts_growth",
          "Ret_accnts_growth",
          "Ret_accnts_growth",
          "Ret_accnts_growth",
          "Ret_accnts_growth",
          "Ret_accnts_growth",
          "Ret_accnts_growth",
          "Ret_accnts_growth",
          "Ret_accnts_growth",
          "Ret_accnts_growth",
          "Ret_accnts_growth",
          "Ret_accnts_growth",
          "Ret_accnts_growth",
          "Ret_accnts_growth",
          "Ret_accnts_growth",
          "Ret_accnts_growth",
          "Ret_accnts_growth",
          "Ret_accnts_growth",
          "Ret_accnts_growth",
          "Ret_accnts_growth",
          "Ret_accnts_growth",
          "Ret_accnts_growth",
          "Ret_accnts_growth",
          "Ret_accnts_growth",
          "Ret_accnts_growth",
          "Ret_accnts_growth",
          "Ret_accnts_growth",
          "Ret_accnts_growth",
          "Ret_accnts_growth",
          "Ret_accnts_growth",
          "Ret_accnts_growth",
          "Ret_accnts_growth",
          "Ret_accnts_growth",
          "Ret_accnts_growth",
          "Ret_accnts_growth",
          "Ret_accnts_growth",
          "Ret_accnts_growth",
          "Ret_accnts_growth",
          "Ret_accnts_growth",
          "Ret_accnts_growth",
          "Ret_accnts_growth",
          "Ret_accnts_growth",
          "Ret_accnts_growth",
          "Ret_accnts_growth",
          "Ret_accnts_growth",
          "Ret_accnts_growth",
          "Ret_accnts_growth",
          "Ret_accnts_growth",
          "Ret_accnts_growth",
          "Ret_accnts_growth",
          "TSLA_growth",
          "TSLA_growth",
          "TSLA_growth",
          "TSLA_growth",
          "TSLA_growth",
          "TSLA_growth",
          "TSLA_growth",
          "TSLA_growth",
          "TSLA_growth",
          "TSLA_growth",
          "TSLA_growth",
          "TSLA_growth",
          "TSLA_growth",
          "TSLA_growth",
          "TSLA_growth",
          "TSLA_growth",
          "TSLA_growth",
          "TSLA_growth",
          "TSLA_growth",
          "TSLA_growth",
          "TSLA_growth",
          "TSLA_growth",
          "TSLA_growth",
          "TSLA_growth",
          "TSLA_growth",
          "TSLA_growth",
          "TSLA_growth",
          "TSLA_growth",
          "TSLA_growth",
          "TSLA_growth",
          "TSLA_growth",
          "TSLA_growth",
          "TSLA_growth",
          "TSLA_growth",
          "TSLA_growth",
          "TSLA_growth",
          "TSLA_growth",
          "TSLA_growth",
          "TSLA_growth",
          "TSLA_growth",
          "TSLA_growth",
          "TSLA_growth",
          "TSLA_growth",
          "TSLA_growth",
          "TSLA_growth",
          "TSLA_growth",
          "TSLA_growth",
          "TSLA_growth",
          "TSLA_growth",
          "TSLA_growth",
          "TSLA_growth",
          "TSLA_growth",
          "TSLA_growth",
          "TSLA_growth",
          "TSLA_growth",
          "TSLA_growth",
          "TSLA_growth",
          "TSLA_growth",
          "TSLA_growth",
          "TSLA_growth",
          "TSLA_growth",
          "TSLA_growth",
          "TSLA_growth",
          "TSLA_growth",
          "TSLA_growth",
          "TSLA_growth",
          "TSLA_growth",
          "TSLA_growth",
          "TSLA_growth",
          "TSLA_growth",
          "TSLA_growth",
          "TSLA_growth",
          "Marcus_growth",
          "Marcus_growth",
          "Marcus_growth",
          "Marcus_growth",
          "Marcus_growth",
          "Marcus_growth",
          "Marcus_growth",
          "Marcus_growth",
          "Marcus_growth",
          "Marcus_growth",
          "Marcus_growth",
          "Marcus_growth",
          "Marcus_growth",
          "Marcus_growth",
          "Marcus_growth",
          "Marcus_growth",
          "Marcus_growth",
          "Marcus_growth",
          "Marcus_growth",
          "Marcus_growth",
          "Marcus_growth",
          "Marcus_growth",
          "Marcus_growth",
          "Marcus_growth",
          "Marcus_growth",
          "Marcus_growth",
          "Marcus_growth",
          "Marcus_growth",
          "Marcus_growth",
          "Marcus_growth",
          "Marcus_growth",
          "Marcus_growth",
          "Marcus_growth",
          "Marcus_growth",
          "Marcus_growth",
          "Marcus_growth",
          "Marcus_growth",
          "Marcus_growth",
          "Marcus_growth",
          "Marcus_growth",
          "Marcus_growth",
          "Marcus_growth",
          "Marcus_growth",
          "Marcus_growth",
          "Marcus_growth",
          "Marcus_growth",
          "Marcus_growth",
          "Marcus_growth",
          "Marcus_growth",
          "Marcus_growth",
          "Marcus_growth",
          "Marcus_growth",
          "Marcus_growth",
          "Marcus_growth",
          "Marcus_growth",
          "Marcus_growth",
          "Marcus_growth",
          "Marcus_growth",
          "Marcus_growth",
          "Marcus_growth",
          "Marcus_growth",
          "Marcus_growth",
          "Marcus_growth",
          "Marcus_growth",
          "Marcus_growth",
          "Marcus_growth",
          "Marcus_growth",
          "Marcus_growth",
          "Marcus_growth",
          "Marcus_growth",
          "Marcus_growth",
          "Marcus_growth",
          "ret_home_growth",
          "ret_home_growth",
          "ret_home_growth",
          "ret_home_growth",
          "ret_home_growth",
          "ret_home_growth",
          "ret_home_growth",
          "ret_home_growth",
          "ret_home_growth",
          "ret_home_growth",
          "ret_home_growth",
          "ret_home_growth",
          "ret_home_growth",
          "ret_home_growth",
          "ret_home_growth",
          "ret_home_growth",
          "ret_home_growth",
          "ret_home_growth",
          "ret_home_growth",
          "ret_home_growth",
          "ret_home_growth",
          "ret_home_growth",
          "ret_home_growth",
          "ret_home_growth",
          "ret_home_growth",
          "ret_home_growth",
          "ret_home_growth",
          "ret_home_growth",
          "ret_home_growth",
          "ret_home_growth",
          "ret_home_growth",
          "ret_home_growth",
          "ret_home_growth",
          "ret_home_growth",
          "ret_home_growth",
          "ret_home_growth",
          "ret_home_growth",
          "ret_home_growth",
          "ret_home_growth",
          "ret_home_growth",
          "ret_home_growth",
          "ret_home_growth",
          "ret_home_growth",
          "ret_home_growth",
          "ret_home_growth",
          "ret_home_growth",
          "ret_home_growth",
          "ret_home_growth",
          "ret_home_growth",
          "ret_home_growth",
          "ret_home_growth",
          "ret_home_growth",
          "ret_home_growth",
          "ret_home_growth",
          "ret_home_growth",
          "ret_home_growth",
          "ret_home_growth",
          "ret_home_growth",
          "ret_home_growth",
          "ret_home_growth",
          "ret_home_growth",
          "ret_home_growth",
          "ret_home_growth",
          "ret_home_growth",
          "ret_home_growth",
          "ret_home_growth",
          "ret_home_growth",
          "ret_home_growth",
          "ret_home_growth",
          "ret_home_growth",
          "ret_home_growth",
          "ret_home_growth",
          "us_rent_growth",
          "us_rent_growth",
          "us_rent_growth",
          "us_rent_growth",
          "us_rent_growth",
          "us_rent_growth",
          "us_rent_growth",
          "us_rent_growth",
          "us_rent_growth",
          "us_rent_growth",
          "us_rent_growth",
          "us_rent_growth",
          "us_rent_growth",
          "us_rent_growth",
          "us_rent_growth",
          "us_rent_growth",
          "us_rent_growth",
          "us_rent_growth",
          "us_rent_growth",
          "us_rent_growth",
          "us_rent_growth",
          "us_rent_growth",
          "us_rent_growth",
          "us_rent_growth",
          "us_rent_growth",
          "us_rent_growth",
          "us_rent_growth",
          "us_rent_growth",
          "us_rent_growth",
          "us_rent_growth",
          "us_rent_growth",
          "us_rent_growth",
          "us_rent_growth",
          "us_rent_growth",
          "us_rent_growth",
          "us_rent_growth",
          "us_rent_growth",
          "us_rent_growth",
          "us_rent_growth",
          "us_rent_growth",
          "us_rent_growth",
          "us_rent_growth",
          "us_rent_growth",
          "us_rent_growth",
          "us_rent_growth",
          "us_rent_growth",
          "us_rent_growth",
          "us_rent_growth",
          "us_rent_growth",
          "us_rent_growth",
          "us_rent_growth",
          "us_rent_growth",
          "us_rent_growth",
          "us_rent_growth",
          "us_rent_growth",
          "us_rent_growth",
          "us_rent_growth",
          "us_rent_growth",
          "us_rent_growth",
          "us_rent_growth",
          "us_rent_growth",
          "us_rent_growth",
          "us_rent_growth",
          "us_rent_growth",
          "us_rent_growth",
          "us_rent_growth",
          "us_rent_growth",
          "us_rent_growth",
          "us_rent_growth",
          "us_rent_growth",
          "us_rent_growth",
          "us_rent_growth",
          "Ind_land_growth",
          "Ind_land_growth",
          "Ind_land_growth",
          "Ind_land_growth",
          "Ind_land_growth",
          "Ind_land_growth",
          "Ind_land_growth",
          "Ind_land_growth",
          "Ind_land_growth",
          "Ind_land_growth",
          "Ind_land_growth",
          "Ind_land_growth",
          "Ind_land_growth",
          "Ind_land_growth",
          "Ind_land_growth",
          "Ind_land_growth",
          "Ind_land_growth",
          "Ind_land_growth",
          "Ind_land_growth",
          "Ind_land_growth",
          "Ind_land_growth",
          "Ind_land_growth",
          "Ind_land_growth",
          "Ind_land_growth",
          "Ind_land_growth",
          "Ind_land_growth",
          "Ind_land_growth",
          "Ind_land_growth",
          "Ind_land_growth",
          "Ind_land_growth",
          "Ind_land_growth",
          "Ind_land_growth",
          "Ind_land_growth",
          "Ind_land_growth",
          "Ind_land_growth",
          "Ind_land_growth",
          "Ind_land_growth",
          "Ind_land_growth",
          "Ind_land_growth",
          "Ind_land_growth",
          "Ind_land_growth",
          "Ind_land_growth",
          "Ind_land_growth",
          "Ind_land_growth",
          "Ind_land_growth",
          "Ind_land_growth",
          "Ind_land_growth",
          "Ind_land_growth",
          "Ind_land_growth",
          "Ind_land_growth",
          "Ind_land_growth",
          "Ind_land_growth",
          "Ind_land_growth",
          "Ind_land_growth",
          "Ind_land_growth",
          "Ind_land_growth",
          "Ind_land_growth",
          "Ind_land_growth",
          "Ind_land_growth",
          "Ind_land_growth",
          "Ind_land_growth",
          "Ind_land_growth",
          "Ind_land_growth",
          "Ind_land_growth",
          "Ind_land_growth",
          "Ind_land_growth",
          "Ind_land_growth",
          "Ind_land_growth",
          "Ind_land_growth",
          "Ind_land_growth",
          "Ind_land_growth",
          "Ind_land_growth"
         ],
         "x0": " ",
         "xaxis": "x",
         "y": [
          2.9701201989153008,
          3.0344818650523493,
          3.0731619146495133,
          3.0715535806201943,
          3.1005682957543703,
          2.996249718753521,
          3.020823553549259,
          3.111302953538112,
          3.0763982331466733,
          2.9719978758780763,
          3.0619248144310625,
          3.0659729224517758,
          3.0480355210822028,
          3.112398019452551,
          2.9821035708582992,
          3.0517708226326845,
          3.0840582532677874,
          3.002875932388085,
          3.040081739469393,
          3.101767978561479,
          3.0811614860905765,
          3.072954148230374,
          3.0602026331615693,
          2.967099709464832,
          3.048497897480192,
          2.9871901329391175,
          3.1140507640639337,
          3.090748371923554,
          3.0627658694100037,
          3.007128152516854,
          3.014657628074905,
          3.0553877161128677,
          3.1111532317351367,
          3.0478694141676845,
          3.023676096596119,
          2.9607084621680912,
          2.9624097404705116,
          3.050460869221038,
          3.031878704554559,
          3.044543033196641,
          2.994156354549402,
          3.035597627381133,
          2.9586685761676965,
          2.966454625564935,
          2.988748334459912,
          3.0368935067271887,
          2.976691967762986,
          3.019694760996244,
          2.931495026987002,
          3.0181467538524305,
          3.0530742870572736,
          3.042243490132192,
          3.1209871207710282,
          3.0464862037468254,
          3.0088075430747936,
          2.996106674142066,
          2.9858718297725413,
          3.0024417698781383,
          2.9734975588510966,
          3.034806579472957,
          3.053899508405121,
          3.0312794329356523,
          3.022313261292982,
          3.0610424942784302,
          3.03514651331432,
          3.026073008962854,
          2.9259845624334258,
          2.9832093741735872,
          3.0937763030696326,
          3.0790412803953933,
          3.0348456874106406,
          3.0773943872295173,
          7.314483079358519,
          7.387987682397114,
          7.300001616634043,
          7.366249073361975,
          7.452299509666734,
          7.30602083397496,
          7.387757914436042,
          7.366681313434933,
          7.3794146303374255,
          7.4343281991569325,
          7.365771882559729,
          7.372895304634035,
          7.357486094494969,
          7.374222013440975,
          7.446556320529912,
          7.389138834356225,
          7.434423416257625,
          7.368340238300351,
          7.415773334790974,
          7.359313133169147,
          7.363459766843198,
          7.283190207000158,
          7.436231110214572,
          7.382403730527274,
          7.30135424751609,
          7.337173724799605,
          7.300983841060193,
          7.309475752279886,
          7.274344406089423,
          7.239748338870345,
          7.36111978790802,
          7.326547203730233,
          7.349780948880368,
          7.456086351761772,
          7.396981701510526,
          7.415325282492278,
          7.424739700815448,
          7.324491656445857,
          7.384334711200931,
          7.3907232505143785,
          7.366287199203347,
          7.3512829019357255,
          7.34660711972927,
          7.395711264626333,
          7.332405596211391,
          7.357703341528763,
          7.406877904962726,
          7.35595305099371,
          7.432231430711996,
          7.404146171905503,
          7.362219428640218,
          7.34233325383877,
          7.394303139202279,
          7.455932567340667,
          7.408522644624084,
          7.395992432333458,
          7.506285992315147,
          7.4119752377616654,
          7.430989322863261,
          7.398128883095069,
          7.366696727842845,
          7.377167663762654,
          7.317746530733703,
          7.3647183210957925,
          7.4184292053358,
          7.3135837043500045,
          7.472514250591487,
          7.458017029405334,
          7.381590896101607,
          7.429735900566215,
          7.405957147329785,
          7.428565870038658,
          3.1304579483285813,
          1.6607446623975253,
          8.793221665791659,
          12.698408649440005,
          5.207472144658509,
          5.367427602298644,
          5.440217894678065,
          6.366769418808962,
          7.970009758005598,
          4.1081925686430365,
          7.6526254158053435,
          14.189528001831183,
          0.7516944483000674,
          8.486154253387067,
          12.002751293558806,
          6.447701287201662,
          10.059603527832094,
          3.9681125577037553,
          2.686860231471428,
          0.9947244459502613,
          3.7274990615830363,
          1.4144895193632534,
          8.178699082153846,
          3.4016896095277023,
          5.916580980387704,
          14.083512828765201,
          13.3360374987942,
          12.167900791582097,
          7.308761678431426,
          3.8213274894945357,
          3.052129376409514,
          9.196920384250618,
          5.53856060250617,
          10.10604797726336,
          9.261297535556846,
          7.348350322590336,
          3.148798041935195,
          7.273674849600368,
          2.2421073002261096,
          10.075437603030718,
          5.320499272874509,
          1.530536841477553,
          11.749454847216125,
          6.304285416785196,
          4.4826586877371195,
          1.9645766857995322,
          14.175147010926606,
          9.167469225076479,
          1.6191096163977197,
          4.464114119563669,
          2.303791317523891,
          11.31169129864801,
          8.834393271888223,
          13.45154866490659,
          5.585119577378423,
          3.9272337438065104,
          3.896121641668564,
          5.482373486534527,
          13.735055326165787,
          1.926891175127269,
          14.67676063954274,
          10.493556134533856,
          2.1360894979066565,
          5.164264871500023,
          4.020405274224014,
          9.302740993262063,
          3.053247578429346,
          9.084535561263124,
          10.992914937284114,
          13.953408904951022,
          8.354142931664908,
          7.056064496356751,
          8.115997090124027,
          8.115634971129483,
          7.92162325907608,
          8.188564549106795,
          8.147483075439734,
          7.85999813142334,
          7.666526150877917,
          7.973890003792811,
          7.658565836754241,
          7.887145100732535,
          7.935820453578141,
          8.038533531894114,
          7.969588715806583,
          7.873205843733736,
          8.032380816753124,
          8.156539676282994,
          7.665813555549272,
          8.104483144699236,
          8.316227613339182,
          8.169243973808573,
          8.301715349041077,
          8.140399905376148,
          7.884056326455554,
          8.003100340790054,
          8.131112368161734,
          8.233357004009436,
          7.816278824218198,
          8.119305321326411,
          8.06585531035739,
          7.974497485266722,
          7.835415377885139,
          8.3528090456888,
          7.899592802208239,
          8.112956628259239,
          7.8898197931326575,
          7.966910728373429,
          7.551175664280317,
          7.950062953165258,
          8.014518948593848,
          8.310556397874134,
          8.140504774101696,
          7.923074656856187,
          8.17100672083938,
          7.740285484489209,
          7.7877771282280905,
          7.804707985341079,
          7.82007991272707,
          8.077701325123924,
          8.062413986153574,
          7.820795219091469,
          8.000873659018549,
          7.760496721995855,
          8.078543426727999,
          8.196324576776487,
          8.19459682458445,
          7.746687778433594,
          8.412516075935827,
          7.9034893231573715,
          7.839996070154339,
          8.084537952696492,
          8.208449811681799,
          7.876215519510146,
          8.38279574833406,
          8.075022368353379,
          8.261985194708595,
          8.438097297449305,
          8.170813903891402,
          7.9287761245538615,
          8.026133844102274,
          7.989201728291788,
          8.071599004645849,
          7.825118078098878,
          8.062618780745746,
          7.790747739499226,
          7.925758511670506,
          7.992499541167016,
          7.747368294605885,
          8.426398372953544,
          8.127344131615162,
          7.882400953491617,
          8.103719699938148,
          7.891816443024223,
          8.344642941328278,
          8.114537213661514,
          7.681046548384476,
          8.162064773698523,
          7.969647218294828,
          8.146852458112772,
          7.949033111139194,
          8.12256917056347,
          8.297567083180448,
          7.99921235122253,
          8.034891334166305,
          7.96837678665682,
          8.00445777743534,
          8.091469270172857,
          7.882224756798995,
          7.977475222081145,
          8.152730227504,
          7.892674135284892,
          8.007556200488217,
          8.032045627483482,
          8.03148706994376,
          8.301226306635511,
          8.050358448102552,
          7.903211930339215,
          7.9571596064301575,
          8.201505358610714,
          7.9098888021072815,
          8.054329371210386,
          8.227226119216242,
          8.195281134279064,
          7.873852901112191,
          7.993137811924971,
          8.050797583012407,
          8.240318603355496,
          7.803966109807642,
          7.813949658543886,
          8.035921465565877,
          7.664815179916348,
          7.904822913587765,
          7.541589265609938,
          7.984602849053355,
          7.89483881843532,
          8.109799911296141,
          7.921647533665662,
          8.03821145465772,
          8.196867623989428,
          8.059659400544962,
          7.810123342546549,
          8.017800745463866,
          7.925672570234145,
          7.87304358282836,
          8.172212261093064,
          7.556244919050615,
          8.101993858257519,
          8.122911533201993,
          7.937247274796106,
          7.834337672107328,
          7.923230904864473,
          8.088983068046268,
          7.989751488744806,
          8.190999255559346,
          7.907444488418062,
          5,
          5,
          5,
          5,
          5,
          5,
          5,
          5,
          5,
          5,
          5,
          5,
          5,
          5,
          5,
          5,
          5,
          5,
          5,
          5,
          5,
          5,
          5,
          5,
          5,
          5,
          5,
          5,
          5,
          5,
          5,
          5,
          5,
          5,
          5,
          5,
          5,
          5,
          5,
          5,
          5,
          5,
          5,
          5,
          5,
          5,
          5,
          5,
          5,
          5,
          5,
          5,
          5,
          5,
          5,
          5,
          5,
          5,
          5,
          5,
          5,
          5,
          5,
          5,
          5,
          5,
          5,
          5,
          5,
          5,
          5,
          5,
          7,
          7,
          7,
          7,
          7,
          7,
          7,
          7,
          7,
          7,
          7,
          7,
          7,
          7,
          7,
          7,
          7,
          7,
          7,
          7,
          7,
          7,
          7,
          7,
          7,
          7,
          7,
          7,
          7,
          7,
          7,
          7,
          7,
          7,
          7,
          7,
          7,
          7,
          7,
          7,
          7,
          7,
          7,
          7,
          7,
          7,
          7,
          7,
          7,
          7,
          7,
          7,
          7,
          7,
          7,
          7,
          7,
          7,
          7,
          7,
          7,
          7,
          7,
          7,
          7,
          7,
          7,
          7,
          7,
          7,
          7,
          7,
          7.83,
          7.83,
          7.83,
          7.83,
          7.83,
          7.83,
          7.83,
          7.83,
          7.83,
          7.83,
          7.83,
          7.83,
          7.83,
          7.83,
          7.83,
          7.83,
          7.83,
          7.83,
          7.83,
          7.83,
          7.83,
          7.83,
          7.83,
          7.83,
          7.83,
          7.83,
          7.83,
          7.83,
          7.83,
          7.83,
          7.83,
          7.83,
          7.83,
          7.83,
          7.83,
          7.83,
          7.83,
          7.83,
          7.83,
          7.83,
          7.83,
          7.83,
          7.83,
          7.83,
          7.83,
          7.83,
          7.83,
          7.83,
          7.83,
          7.83,
          7.83,
          7.83,
          7.83,
          7.83,
          7.83,
          7.83,
          7.83,
          7.83,
          7.83,
          7.83,
          7.83,
          7.83,
          7.83,
          7.83,
          7.83,
          7.83,
          7.83,
          7.83,
          7.83,
          7.83,
          7.83,
          7.83,
          5,
          5,
          5,
          5,
          5,
          5,
          5,
          5,
          5,
          5,
          5,
          5,
          5,
          5,
          5,
          5,
          5,
          5,
          5,
          5,
          5,
          5,
          5,
          5,
          5,
          5,
          5,
          5,
          5,
          5,
          5,
          5,
          5,
          5,
          5,
          5,
          5,
          5,
          5,
          5,
          5,
          5,
          5,
          5,
          5,
          5,
          5,
          5,
          5,
          5,
          5,
          5,
          5,
          5,
          5,
          5,
          5,
          5,
          5,
          5,
          5,
          5,
          5,
          5,
          5,
          5,
          5,
          5,
          5,
          5,
          5,
          5
         ],
         "y0": " ",
         "yaxis": "y"
        }
       ],
       "layout": {
        "autosize": true,
        "boxmode": "group",
        "legend": {
         "tracegroupgap": 0
        },
        "margin": {
         "t": 60
        },
        "template": {
         "data": {
          "bar": [
           {
            "error_x": {
             "color": "#2a3f5f"
            },
            "error_y": {
             "color": "#2a3f5f"
            },
            "marker": {
             "line": {
              "color": "#E5ECF6",
              "width": 0.5
             },
             "pattern": {
              "fillmode": "overlay",
              "size": 10,
              "solidity": 0.2
             }
            },
            "type": "bar"
           }
          ],
          "barpolar": [
           {
            "marker": {
             "line": {
              "color": "#E5ECF6",
              "width": 0.5
             },
             "pattern": {
              "fillmode": "overlay",
              "size": 10,
              "solidity": 0.2
             }
            },
            "type": "barpolar"
           }
          ],
          "carpet": [
           {
            "aaxis": {
             "endlinecolor": "#2a3f5f",
             "gridcolor": "white",
             "linecolor": "white",
             "minorgridcolor": "white",
             "startlinecolor": "#2a3f5f"
            },
            "baxis": {
             "endlinecolor": "#2a3f5f",
             "gridcolor": "white",
             "linecolor": "white",
             "minorgridcolor": "white",
             "startlinecolor": "#2a3f5f"
            },
            "type": "carpet"
           }
          ],
          "choropleth": [
           {
            "colorbar": {
             "outlinewidth": 0,
             "ticks": ""
            },
            "type": "choropleth"
           }
          ],
          "contour": [
           {
            "colorbar": {
             "outlinewidth": 0,
             "ticks": ""
            },
            "colorscale": [
             [
              0,
              "#0d0887"
             ],
             [
              0.1111111111111111,
              "#46039f"
             ],
             [
              0.2222222222222222,
              "#7201a8"
             ],
             [
              0.3333333333333333,
              "#9c179e"
             ],
             [
              0.4444444444444444,
              "#bd3786"
             ],
             [
              0.5555555555555556,
              "#d8576b"
             ],
             [
              0.6666666666666666,
              "#ed7953"
             ],
             [
              0.7777777777777778,
              "#fb9f3a"
             ],
             [
              0.8888888888888888,
              "#fdca26"
             ],
             [
              1,
              "#f0f921"
             ]
            ],
            "type": "contour"
           }
          ],
          "contourcarpet": [
           {
            "colorbar": {
             "outlinewidth": 0,
             "ticks": ""
            },
            "type": "contourcarpet"
           }
          ],
          "heatmap": [
           {
            "colorbar": {
             "outlinewidth": 0,
             "ticks": ""
            },
            "colorscale": [
             [
              0,
              "#0d0887"
             ],
             [
              0.1111111111111111,
              "#46039f"
             ],
             [
              0.2222222222222222,
              "#7201a8"
             ],
             [
              0.3333333333333333,
              "#9c179e"
             ],
             [
              0.4444444444444444,
              "#bd3786"
             ],
             [
              0.5555555555555556,
              "#d8576b"
             ],
             [
              0.6666666666666666,
              "#ed7953"
             ],
             [
              0.7777777777777778,
              "#fb9f3a"
             ],
             [
              0.8888888888888888,
              "#fdca26"
             ],
             [
              1,
              "#f0f921"
             ]
            ],
            "type": "heatmap"
           }
          ],
          "heatmapgl": [
           {
            "colorbar": {
             "outlinewidth": 0,
             "ticks": ""
            },
            "colorscale": [
             [
              0,
              "#0d0887"
             ],
             [
              0.1111111111111111,
              "#46039f"
             ],
             [
              0.2222222222222222,
              "#7201a8"
             ],
             [
              0.3333333333333333,
              "#9c179e"
             ],
             [
              0.4444444444444444,
              "#bd3786"
             ],
             [
              0.5555555555555556,
              "#d8576b"
             ],
             [
              0.6666666666666666,
              "#ed7953"
             ],
             [
              0.7777777777777778,
              "#fb9f3a"
             ],
             [
              0.8888888888888888,
              "#fdca26"
             ],
             [
              1,
              "#f0f921"
             ]
            ],
            "type": "heatmapgl"
           }
          ],
          "histogram": [
           {
            "marker": {
             "pattern": {
              "fillmode": "overlay",
              "size": 10,
              "solidity": 0.2
             }
            },
            "type": "histogram"
           }
          ],
          "histogram2d": [
           {
            "colorbar": {
             "outlinewidth": 0,
             "ticks": ""
            },
            "colorscale": [
             [
              0,
              "#0d0887"
             ],
             [
              0.1111111111111111,
              "#46039f"
             ],
             [
              0.2222222222222222,
              "#7201a8"
             ],
             [
              0.3333333333333333,
              "#9c179e"
             ],
             [
              0.4444444444444444,
              "#bd3786"
             ],
             [
              0.5555555555555556,
              "#d8576b"
             ],
             [
              0.6666666666666666,
              "#ed7953"
             ],
             [
              0.7777777777777778,
              "#fb9f3a"
             ],
             [
              0.8888888888888888,
              "#fdca26"
             ],
             [
              1,
              "#f0f921"
             ]
            ],
            "type": "histogram2d"
           }
          ],
          "histogram2dcontour": [
           {
            "colorbar": {
             "outlinewidth": 0,
             "ticks": ""
            },
            "colorscale": [
             [
              0,
              "#0d0887"
             ],
             [
              0.1111111111111111,
              "#46039f"
             ],
             [
              0.2222222222222222,
              "#7201a8"
             ],
             [
              0.3333333333333333,
              "#9c179e"
             ],
             [
              0.4444444444444444,
              "#bd3786"
             ],
             [
              0.5555555555555556,
              "#d8576b"
             ],
             [
              0.6666666666666666,
              "#ed7953"
             ],
             [
              0.7777777777777778,
              "#fb9f3a"
             ],
             [
              0.8888888888888888,
              "#fdca26"
             ],
             [
              1,
              "#f0f921"
             ]
            ],
            "type": "histogram2dcontour"
           }
          ],
          "mesh3d": [
           {
            "colorbar": {
             "outlinewidth": 0,
             "ticks": ""
            },
            "type": "mesh3d"
           }
          ],
          "parcoords": [
           {
            "line": {
             "colorbar": {
              "outlinewidth": 0,
              "ticks": ""
             }
            },
            "type": "parcoords"
           }
          ],
          "pie": [
           {
            "automargin": true,
            "type": "pie"
           }
          ],
          "scatter": [
           {
            "fillpattern": {
             "fillmode": "overlay",
             "size": 10,
             "solidity": 0.2
            },
            "type": "scatter"
           }
          ],
          "scatter3d": [
           {
            "line": {
             "colorbar": {
              "outlinewidth": 0,
              "ticks": ""
             }
            },
            "marker": {
             "colorbar": {
              "outlinewidth": 0,
              "ticks": ""
             }
            },
            "type": "scatter3d"
           }
          ],
          "scattercarpet": [
           {
            "marker": {
             "colorbar": {
              "outlinewidth": 0,
              "ticks": ""
             }
            },
            "type": "scattercarpet"
           }
          ],
          "scattergeo": [
           {
            "marker": {
             "colorbar": {
              "outlinewidth": 0,
              "ticks": ""
             }
            },
            "type": "scattergeo"
           }
          ],
          "scattergl": [
           {
            "marker": {
             "colorbar": {
              "outlinewidth": 0,
              "ticks": ""
             }
            },
            "type": "scattergl"
           }
          ],
          "scattermapbox": [
           {
            "marker": {
             "colorbar": {
              "outlinewidth": 0,
              "ticks": ""
             }
            },
            "type": "scattermapbox"
           }
          ],
          "scatterpolar": [
           {
            "marker": {
             "colorbar": {
              "outlinewidth": 0,
              "ticks": ""
             }
            },
            "type": "scatterpolar"
           }
          ],
          "scatterpolargl": [
           {
            "marker": {
             "colorbar": {
              "outlinewidth": 0,
              "ticks": ""
             }
            },
            "type": "scatterpolargl"
           }
          ],
          "scatterternary": [
           {
            "marker": {
             "colorbar": {
              "outlinewidth": 0,
              "ticks": ""
             }
            },
            "type": "scatterternary"
           }
          ],
          "surface": [
           {
            "colorbar": {
             "outlinewidth": 0,
             "ticks": ""
            },
            "colorscale": [
             [
              0,
              "#0d0887"
             ],
             [
              0.1111111111111111,
              "#46039f"
             ],
             [
              0.2222222222222222,
              "#7201a8"
             ],
             [
              0.3333333333333333,
              "#9c179e"
             ],
             [
              0.4444444444444444,
              "#bd3786"
             ],
             [
              0.5555555555555556,
              "#d8576b"
             ],
             [
              0.6666666666666666,
              "#ed7953"
             ],
             [
              0.7777777777777778,
              "#fb9f3a"
             ],
             [
              0.8888888888888888,
              "#fdca26"
             ],
             [
              1,
              "#f0f921"
             ]
            ],
            "type": "surface"
           }
          ],
          "table": [
           {
            "cells": {
             "fill": {
              "color": "#EBF0F8"
             },
             "line": {
              "color": "white"
             }
            },
            "header": {
             "fill": {
              "color": "#C8D4E3"
             },
             "line": {
              "color": "white"
             }
            },
            "type": "table"
           }
          ]
         },
         "layout": {
          "annotationdefaults": {
           "arrowcolor": "#2a3f5f",
           "arrowhead": 0,
           "arrowwidth": 1
          },
          "autotypenumbers": "strict",
          "coloraxis": {
           "colorbar": {
            "outlinewidth": 0,
            "ticks": ""
           }
          },
          "colorscale": {
           "diverging": [
            [
             0,
             "#8e0152"
            ],
            [
             0.1,
             "#c51b7d"
            ],
            [
             0.2,
             "#de77ae"
            ],
            [
             0.3,
             "#f1b6da"
            ],
            [
             0.4,
             "#fde0ef"
            ],
            [
             0.5,
             "#f7f7f7"
            ],
            [
             0.6,
             "#e6f5d0"
            ],
            [
             0.7,
             "#b8e186"
            ],
            [
             0.8,
             "#7fbc41"
            ],
            [
             0.9,
             "#4d9221"
            ],
            [
             1,
             "#276419"
            ]
           ],
           "sequential": [
            [
             0,
             "#0d0887"
            ],
            [
             0.1111111111111111,
             "#46039f"
            ],
            [
             0.2222222222222222,
             "#7201a8"
            ],
            [
             0.3333333333333333,
             "#9c179e"
            ],
            [
             0.4444444444444444,
             "#bd3786"
            ],
            [
             0.5555555555555556,
             "#d8576b"
            ],
            [
             0.6666666666666666,
             "#ed7953"
            ],
            [
             0.7777777777777778,
             "#fb9f3a"
            ],
            [
             0.8888888888888888,
             "#fdca26"
            ],
            [
             1,
             "#f0f921"
            ]
           ],
           "sequentialminus": [
            [
             0,
             "#0d0887"
            ],
            [
             0.1111111111111111,
             "#46039f"
            ],
            [
             0.2222222222222222,
             "#7201a8"
            ],
            [
             0.3333333333333333,
             "#9c179e"
            ],
            [
             0.4444444444444444,
             "#bd3786"
            ],
            [
             0.5555555555555556,
             "#d8576b"
            ],
            [
             0.6666666666666666,
             "#ed7953"
            ],
            [
             0.7777777777777778,
             "#fb9f3a"
            ],
            [
             0.8888888888888888,
             "#fdca26"
            ],
            [
             1,
             "#f0f921"
            ]
           ]
          },
          "colorway": [
           "#636efa",
           "#EF553B",
           "#00cc96",
           "#ab63fa",
           "#FFA15A",
           "#19d3f3",
           "#FF6692",
           "#B6E880",
           "#FF97FF",
           "#FECB52"
          ],
          "font": {
           "color": "#2a3f5f"
          },
          "geo": {
           "bgcolor": "white",
           "lakecolor": "white",
           "landcolor": "#E5ECF6",
           "showlakes": true,
           "showland": true,
           "subunitcolor": "white"
          },
          "hoverlabel": {
           "align": "left"
          },
          "hovermode": "closest",
          "mapbox": {
           "style": "light"
          },
          "paper_bgcolor": "white",
          "plot_bgcolor": "#E5ECF6",
          "polar": {
           "angularaxis": {
            "gridcolor": "white",
            "linecolor": "white",
            "ticks": ""
           },
           "bgcolor": "#E5ECF6",
           "radialaxis": {
            "gridcolor": "white",
            "linecolor": "white",
            "ticks": ""
           }
          },
          "scene": {
           "xaxis": {
            "backgroundcolor": "#E5ECF6",
            "gridcolor": "white",
            "gridwidth": 2,
            "linecolor": "white",
            "showbackground": true,
            "ticks": "",
            "zerolinecolor": "white"
           },
           "yaxis": {
            "backgroundcolor": "#E5ECF6",
            "gridcolor": "white",
            "gridwidth": 2,
            "linecolor": "white",
            "showbackground": true,
            "ticks": "",
            "zerolinecolor": "white"
           },
           "zaxis": {
            "backgroundcolor": "#E5ECF6",
            "gridcolor": "white",
            "gridwidth": 2,
            "linecolor": "white",
            "showbackground": true,
            "ticks": "",
            "zerolinecolor": "white"
           }
          },
          "shapedefaults": {
           "line": {
            "color": "#2a3f5f"
           }
          },
          "ternary": {
           "aaxis": {
            "gridcolor": "white",
            "linecolor": "white",
            "ticks": ""
           },
           "baxis": {
            "gridcolor": "white",
            "linecolor": "white",
            "ticks": ""
           },
           "bgcolor": "#E5ECF6",
           "caxis": {
            "gridcolor": "white",
            "linecolor": "white",
            "ticks": ""
           }
          },
          "title": {
           "x": 0.05
          },
          "xaxis": {
           "automargin": true,
           "gridcolor": "white",
           "linecolor": "white",
           "ticks": "",
           "title": {
            "standoff": 15
           },
           "zerolinecolor": "white",
           "zerolinewidth": 2
          },
          "yaxis": {
           "automargin": true,
           "gridcolor": "white",
           "linecolor": "white",
           "ticks": "",
           "title": {
            "standoff": 15
           },
           "zerolinecolor": "white",
           "zerolinewidth": 2
          }
         }
        },
        "xaxis": {
         "anchor": "y",
         "autorange": true,
         "domain": [
          0,
          1
         ],
         "range": [
          -0.5,
          8.5
         ],
         "title": {
          "text": "variable"
         },
         "type": "category"
        },
        "yaxis": {
         "anchor": "x",
         "autorange": true,
         "domain": [
          0,
          1
         ],
         "range": [
          -0.02192034010230326,
          15.450375427945112
         ],
         "title": {
          "text": "value"
         },
         "type": "linear"
        }
       }
      },
      "image/png": "[encoded data removed]",
      "text/html": [
       "<div>                            <div id=\"596d0582-3bf9-4ef6-a116-73971320bc7b\" class=\"plotly-graph-div\" style=\"height:525px; width:100%;\"></div>            <script type=\"text/javascript\">                require([\"plotly\"], function(Plotly) {                    window.PLOTLYENV=window.PLOTLYENV || {};                                    if (document.getElementById(\"596d0582-3bf9-4ef6-a116-73971320bc7b\")) {                    Plotly.newPlot(                        \"596d0582-3bf9-4ef6-a116-73971320bc7b\",                        [{\"alignmentgroup\":\"True\",\"hovertemplate\":\"variable=%{x}\\u003cbr\\u003evalue=%{y}\\u003cextra\\u003e\\u003c\\u002fextra\\u003e\",\"legendgroup\":\"\",\"marker\":{\"color\":\"#636efa\"},\"name\":\"\",\"notched\":false,\"offsetgroup\":\"\",\"orientation\":\"v\",\"showlegend\":false,\"x\":[\"USD_INR_growth\",\"USD_INR_growth\",\"USD_INR_growth\",\"USD_INR_growth\",\"USD_INR_growth\",\"USD_INR_growth\",\"USD_INR_growth\",\"USD_INR_growth\",\"USD_INR_growth\",\"USD_INR_growth\",\"USD_INR_growth\",\"USD_INR_growth\",\"USD_INR_growth\",\"USD_INR_growth\",\"USD_INR_growth\",\"USD_INR_growth\",\"USD_INR_growth\",\"USD_INR_growth\",\"USD_INR_growth\",\"USD_INR_growth\",\"USD_INR_growth\",\"USD_INR_growth\",\"USD_INR_growth\",\"USD_INR_growth\",\"USD_INR_growth\",\"USD_INR_growth\",\"USD_INR_growth\",\"USD_INR_growth\",\"USD_INR_growth\",\"USD_INR_growth\",\"USD_INR_growth\",\"USD_INR_growth\",\"USD_INR_growth\",\"USD_INR_growth\",\"USD_INR_growth\",\"USD_INR_growth\",\"USD_INR_growth\",\"USD_INR_growth\",\"USD_INR_growth\",\"USD_INR_growth\",\"USD_INR_growth\",\"USD_INR_growth\",\"USD_INR_growth\",\"USD_INR_growth\",\"USD_INR_growth\",\"USD_INR_growth\",\"USD_INR_growth\",\"USD_INR_growth\",\"USD_INR_growth\",\"USD_INR_growth\",\"USD_INR_growth\",\"USD_INR_growth\",\"USD_INR_growth\",\"USD_INR_growth\",\"USD_INR_growth\",\"USD_INR_growth\",\"USD_INR_growth\",\"USD_INR_growth\",\"USD_INR_growth\",\"USD_INR_growth\",\"USD_INR_growth\",\"USD_INR_growth\",\"USD_INR_growth\",\"USD_INR_growth\",\"USD_INR_growth\",\"USD_INR_growth\",\"USD_INR_growth\",\"USD_INR_growth\",\"USD_INR_growth\",\"USD_INR_growth\",\"USD_INR_growth\",\"USD_INR_growth\",\"Inflation_growth\",\"Inflation_growth\",\"Inflation_growth\",\"Inflation_growth\",\"Inflation_growth\",\"Inflation_growth\",\"Inflation_growth\",\"Inflation_growth\",\"Inflation_growth\",\"Inflation_growth\",\"Inflation_growth\",\"Inflation_growth\",\"Inflation_growth\",\"Inflation_growth\",\"Inflation_growth\",\"Inflation_growth\",\"Inflation_growth\",\"Inflation_growth\",\"Inflation_growth\",\"Inflation_growth\",\"Inflation_growth\",\"Inflation_growth\",\"Inflation_growth\",\"Inflation_growth\",\"Inflation_growth\",\"Inflation_growth\",\"Inflation_growth\",\"Inflation_growth\",\"Inflation_growth\",\"Inflation_growth\",\"Inflation_growth\",\"Inflation_growth\",\"Inflation_growth\",\"Inflation_growth\",\"Inflation_growth\",\"Inflation_growth\",\"Inflation_growth\",\"Inflation_growth\",\"Inflation_growth\",\"Inflation_growth\",\"Inflation_growth\",\"Inflation_growth\",\"Inflation_growth\",\"Inflation_growth\",\"Inflation_growth\",\"Inflation_growth\",\"Inflation_growth\",\"Inflation_growth\",\"Inflation_growth\",\"Inflation_growth\",\"Inflation_growth\",\"Inflation_growth\",\"Inflation_growth\",\"Inflation_growth\",\"Inflation_growth\",\"Inflation_growth\",\"Inflation_growth\",\"Inflation_growth\",\"Inflation_growth\",\"Inflation_growth\",\"Inflation_growth\",\"Inflation_growth\",\"Inflation_growth\",\"Inflation_growth\",\"Inflation_growth\",\"Inflation_growth\",\"Inflation_growth\",\"Inflation_growth\",\"Inflation_growth\",\"Inflation_growth\",\"Inflation_growth\",\"Inflation_growth\",\"unexpected_expense_rate\",\"unexpected_expense_rate\",\"unexpected_expense_rate\",\"unexpected_expense_rate\",\"unexpected_expense_rate\",\"unexpected_expense_rate\",\"unexpected_expense_rate\",\"unexpected_expense_rate\",\"unexpected_expense_rate\",\"unexpected_expense_rate\",\"unexpected_expense_rate\",\"unexpected_expense_rate\",\"unexpected_expense_rate\",\"unexpected_expense_rate\",\"unexpected_expense_rate\",\"unexpected_expense_rate\",\"unexpected_expense_rate\",\"unexpected_expense_rate\",\"unexpected_expense_rate\",\"unexpected_expense_rate\",\"unexpected_expense_rate\",\"unexpected_expense_rate\",\"unexpected_expense_rate\",\"unexpected_expense_rate\",\"unexpected_expense_rate\",\"unexpected_expense_rate\",\"unexpected_expense_rate\",\"unexpected_expense_rate\",\"unexpected_expense_rate\",\"unexpected_expense_rate\",\"unexpected_expense_rate\",\"unexpected_expense_rate\",\"unexpected_expense_rate\",\"unexpected_expense_rate\",\"unexpected_expense_rate\",\"unexpected_expense_rate\",\"unexpected_expense_rate\",\"unexpected_expense_rate\",\"unexpected_expense_rate\",\"unexpected_expense_rate\",\"unexpected_expense_rate\",\"unexpected_expense_rate\",\"unexpected_expense_rate\",\"unexpected_expense_rate\",\"unexpected_expense_rate\",\"unexpected_expense_rate\",\"unexpected_expense_rate\",\"unexpected_expense_rate\",\"unexpected_expense_rate\",\"unexpected_expense_rate\",\"unexpected_expense_rate\",\"unexpected_expense_rate\",\"unexpected_expense_rate\",\"unexpected_expense_rate\",\"unexpected_expense_rate\",\"unexpected_expense_rate\",\"unexpected_expense_rate\",\"unexpected_expense_rate\",\"unexpected_expense_rate\",\"unexpected_expense_rate\",\"unexpected_expense_rate\",\"unexpected_expense_rate\",\"unexpected_expense_rate\",\"unexpected_expense_rate\",\"unexpected_expense_rate\",\"unexpected_expense_rate\",\"unexpected_expense_rate\",\"unexpected_expense_rate\",\"unexpected_expense_rate\",\"unexpected_expense_rate\",\"unexpected_expense_rate\",\"unexpected_expense_rate\",\"Ret_accnts_growth\",\"Ret_accnts_growth\",\"Ret_accnts_growth\",\"Ret_accnts_growth\",\"Ret_accnts_growth\",\"Ret_accnts_growth\",\"Ret_accnts_growth\",\"Ret_accnts_growth\",\"Ret_accnts_growth\",\"Ret_accnts_growth\",\"Ret_accnts_growth\",\"Ret_accnts_growth\",\"Ret_accnts_growth\",\"Ret_accnts_growth\",\"Ret_accnts_growth\",\"Ret_accnts_growth\",\"Ret_accnts_growth\",\"Ret_accnts_growth\",\"Ret_accnts_growth\",\"Ret_accnts_growth\",\"Ret_accnts_growth\",\"Ret_accnts_growth\",\"Ret_accnts_growth\",\"Ret_accnts_growth\",\"Ret_accnts_growth\",\"Ret_accnts_growth\",\"Ret_accnts_growth\",\"Ret_accnts_growth\",\"Ret_accnts_growth\",\"Ret_accnts_growth\",\"Ret_accnts_growth\",\"Ret_accnts_growth\",\"Ret_accnts_growth\",\"Ret_accnts_growth\",\"Ret_accnts_growth\",\"Ret_accnts_growth\",\"Ret_accnts_growth\",\"Ret_accnts_growth\",\"Ret_accnts_growth\",\"Ret_accnts_growth\",\"Ret_accnts_growth\",\"Ret_accnts_growth\",\"Ret_accnts_growth\",\"Ret_accnts_growth\",\"Ret_accnts_growth\",\"Ret_accnts_growth\",\"Ret_accnts_growth\",\"Ret_accnts_growth\",\"Ret_accnts_growth\",\"Ret_accnts_growth\",\"Ret_accnts_growth\",\"Ret_accnts_growth\",\"Ret_accnts_growth\",\"Ret_accnts_growth\",\"Ret_accnts_growth\",\"Ret_accnts_growth\",\"Ret_accnts_growth\",\"Ret_accnts_growth\",\"Ret_accnts_growth\",\"Ret_accnts_growth\",\"Ret_accnts_growth\",\"Ret_accnts_growth\",\"Ret_accnts_growth\",\"Ret_accnts_growth\",\"Ret_accnts_growth\",\"Ret_accnts_growth\",\"Ret_accnts_growth\",\"Ret_accnts_growth\",\"Ret_accnts_growth\",\"Ret_accnts_growth\",\"Ret_accnts_growth\",\"Ret_accnts_growth\",\"TSLA_growth\",\"TSLA_growth\",\"TSLA_growth\",\"TSLA_growth\",\"TSLA_growth\",\"TSLA_growth\",\"TSLA_growth\",\"TSLA_growth\",\"TSLA_growth\",\"TSLA_growth\",\"TSLA_growth\",\"TSLA_growth\",\"TSLA_growth\",\"TSLA_growth\",\"TSLA_growth\",\"TSLA_growth\",\"TSLA_growth\",\"TSLA_growth\",\"TSLA_growth\",\"TSLA_growth\",\"TSLA_growth\",\"TSLA_growth\",\"TSLA_growth\",\"TSLA_growth\",\"TSLA_growth\",\"TSLA_growth\",\"TSLA_growth\",\"TSLA_growth\",\"TSLA_growth\",\"TSLA_growth\",\"TSLA_growth\",\"TSLA_growth\",\"TSLA_growth\",\"TSLA_growth\",\"TSLA_growth\",\"TSLA_growth\",\"TSLA_growth\",\"TSLA_growth\",\"TSLA_growth\",\"TSLA_growth\",\"TSLA_growth\",\"TSLA_growth\",\"TSLA_growth\",\"TSLA_growth\",\"TSLA_growth\",\"TSLA_growth\",\"TSLA_growth\",\"TSLA_growth\",\"TSLA_growth\",\"TSLA_growth\",\"TSLA_growth\",\"TSLA_growth\",\"TSLA_growth\",\"TSLA_growth\",\"TSLA_growth\",\"TSLA_growth\",\"TSLA_growth\",\"TSLA_growth\",\"TSLA_growth\",\"TSLA_growth\",\"TSLA_growth\",\"TSLA_growth\",\"TSLA_growth\",\"TSLA_growth\",\"TSLA_growth\",\"TSLA_growth\",\"TSLA_growth\",\"TSLA_growth\",\"TSLA_growth\",\"TSLA_growth\",\"TSLA_growth\",\"TSLA_growth\",\"Marcus_growth\",\"Marcus_growth\",\"Marcus_growth\",\"Marcus_growth\",\"Marcus_growth\",\"Marcus_growth\",\"Marcus_growth\",\"Marcus_growth\",\"Marcus_growth\",\"Marcus_growth\",\"Marcus_growth\",\"Marcus_growth\",\"Marcus_growth\",\"Marcus_growth\",\"Marcus_growth\",\"Marcus_growth\",\"Marcus_growth\",\"Marcus_growth\",\"Marcus_growth\",\"Marcus_growth\",\"Marcus_growth\",\"Marcus_growth\",\"Marcus_growth\",\"Marcus_growth\",\"Marcus_growth\",\"Marcus_growth\",\"Marcus_growth\",\"Marcus_growth\",\"Marcus_growth\",\"Marcus_growth\",\"Marcus_growth\",\"Marcus_growth\",\"Marcus_growth\",\"Marcus_growth\",\"Marcus_growth\",\"Marcus_growth\",\"Marcus_growth\",\"Marcus_growth\",\"Marcus_growth\",\"Marcus_growth\",\"Marcus_growth\",\"Marcus_growth\",\"Marcus_growth\",\"Marcus_growth\",\"Marcus_growth\",\"Marcus_growth\",\"Marcus_growth\",\"Marcus_growth\",\"Marcus_growth\",\"Marcus_growth\",\"Marcus_growth\",\"Marcus_growth\",\"Marcus_growth\",\"Marcus_growth\",\"Marcus_growth\",\"Marcus_growth\",\"Marcus_growth\",\"Marcus_growth\",\"Marcus_growth\",\"Marcus_growth\",\"Marcus_growth\",\"Marcus_growth\",\"Marcus_growth\",\"Marcus_growth\",\"Marcus_growth\",\"Marcus_growth\",\"Marcus_growth\",\"Marcus_growth\",\"Marcus_growth\",\"Marcus_growth\",\"Marcus_growth\",\"Marcus_growth\",\"ret_home_growth\",\"ret_home_growth\",\"ret_home_growth\",\"ret_home_growth\",\"ret_home_growth\",\"ret_home_growth\",\"ret_home_growth\",\"ret_home_growth\",\"ret_home_growth\",\"ret_home_growth\",\"ret_home_growth\",\"ret_home_growth\",\"ret_home_growth\",\"ret_home_growth\",\"ret_home_growth\",\"ret_home_growth\",\"ret_home_growth\",\"ret_home_growth\",\"ret_home_growth\",\"ret_home_growth\",\"ret_home_growth\",\"ret_home_growth\",\"ret_home_growth\",\"ret_home_growth\",\"ret_home_growth\",\"ret_home_growth\",\"ret_home_growth\",\"ret_home_growth\",\"ret_home_growth\",\"ret_home_growth\",\"ret_home_growth\",\"ret_home_growth\",\"ret_home_growth\",\"ret_home_growth\",\"ret_home_growth\",\"ret_home_growth\",\"ret_home_growth\",\"ret_home_growth\",\"ret_home_growth\",\"ret_home_growth\",\"ret_home_growth\",\"ret_home_growth\",\"ret_home_growth\",\"ret_home_growth\",\"ret_home_growth\",\"ret_home_growth\",\"ret_home_growth\",\"ret_home_growth\",\"ret_home_growth\",\"ret_home_growth\",\"ret_home_growth\",\"ret_home_growth\",\"ret_home_growth\",\"ret_home_growth\",\"ret_home_growth\",\"ret_home_growth\",\"ret_home_growth\",\"ret_home_growth\",\"ret_home_growth\",\"ret_home_growth\",\"ret_home_growth\",\"ret_home_growth\",\"ret_home_growth\",\"ret_home_growth\",\"ret_home_growth\",\"ret_home_growth\",\"ret_home_growth\",\"ret_home_growth\",\"ret_home_growth\",\"ret_home_growth\",\"ret_home_growth\",\"ret_home_growth\",\"us_rent_growth\",\"us_rent_growth\",\"us_rent_growth\",\"us_rent_growth\",\"us_rent_growth\",\"us_rent_growth\",\"us_rent_growth\",\"us_rent_growth\",\"us_rent_growth\",\"us_rent_growth\",\"us_rent_growth\",\"us_rent_growth\",\"us_rent_growth\",\"us_rent_growth\",\"us_rent_growth\",\"us_rent_growth\",\"us_rent_growth\",\"us_rent_growth\",\"us_rent_growth\",\"us_rent_growth\",\"us_rent_growth\",\"us_rent_growth\",\"us_rent_growth\",\"us_rent_growth\",\"us_rent_growth\",\"us_rent_growth\",\"us_rent_growth\",\"us_rent_growth\",\"us_rent_growth\",\"us_rent_growth\",\"us_rent_growth\",\"us_rent_growth\",\"us_rent_growth\",\"us_rent_growth\",\"us_rent_growth\",\"us_rent_growth\",\"us_rent_growth\",\"us_rent_growth\",\"us_rent_growth\",\"us_rent_growth\",\"us_rent_growth\",\"us_rent_growth\",\"us_rent_growth\",\"us_rent_growth\",\"us_rent_growth\",\"us_rent_growth\",\"us_rent_growth\",\"us_rent_growth\",\"us_rent_growth\",\"us_rent_growth\",\"us_rent_growth\",\"us_rent_growth\",\"us_rent_growth\",\"us_rent_growth\",\"us_rent_growth\",\"us_rent_growth\",\"us_rent_growth\",\"us_rent_growth\",\"us_rent_growth\",\"us_rent_growth\",\"us_rent_growth\",\"us_rent_growth\",\"us_rent_growth\",\"us_rent_growth\",\"us_rent_growth\",\"us_rent_growth\",\"us_rent_growth\",\"us_rent_growth\",\"us_rent_growth\",\"us_rent_growth\",\"us_rent_growth\",\"us_rent_growth\",\"Ind_land_growth\",\"Ind_land_growth\",\"Ind_land_growth\",\"Ind_land_growth\",\"Ind_land_growth\",\"Ind_land_growth\",\"Ind_land_growth\",\"Ind_land_growth\",\"Ind_land_growth\",\"Ind_land_growth\",\"Ind_land_growth\",\"Ind_land_growth\",\"Ind_land_growth\",\"Ind_land_growth\",\"Ind_land_growth\",\"Ind_land_growth\",\"Ind_land_growth\",\"Ind_land_growth\",\"Ind_land_growth\",\"Ind_land_growth\",\"Ind_land_growth\",\"Ind_land_growth\",\"Ind_land_growth\",\"Ind_land_growth\",\"Ind_land_growth\",\"Ind_land_growth\",\"Ind_land_growth\",\"Ind_land_growth\",\"Ind_land_growth\",\"Ind_land_growth\",\"Ind_land_growth\",\"Ind_land_growth\",\"Ind_land_growth\",\"Ind_land_growth\",\"Ind_land_growth\",\"Ind_land_growth\",\"Ind_land_growth\",\"Ind_land_growth\",\"Ind_land_growth\",\"Ind_land_growth\",\"Ind_land_growth\",\"Ind_land_growth\",\"Ind_land_growth\",\"Ind_land_growth\",\"Ind_land_growth\",\"Ind_land_growth\",\"Ind_land_growth\",\"Ind_land_growth\",\"Ind_land_growth\",\"Ind_land_growth\",\"Ind_land_growth\",\"Ind_land_growth\",\"Ind_land_growth\",\"Ind_land_growth\",\"Ind_land_growth\",\"Ind_land_growth\",\"Ind_land_growth\",\"Ind_land_growth\",\"Ind_land_growth\",\"Ind_land_growth\",\"Ind_land_growth\",\"Ind_land_growth\",\"Ind_land_growth\",\"Ind_land_growth\",\"Ind_land_growth\",\"Ind_land_growth\",\"Ind_land_growth\",\"Ind_land_growth\",\"Ind_land_growth\",\"Ind_land_growth\",\"Ind_land_growth\",\"Ind_land_growth\"],\"x0\":\" \",\"xaxis\":\"x\",\"y\":[2.9701201989153008,3.0344818650523493,3.0731619146495133,3.0715535806201943,3.1005682957543703,2.996249718753521,3.020823553549259,3.111302953538112,3.0763982331466733,2.9719978758780763,3.0619248144310625,3.0659729224517758,3.0480355210822028,3.112398019452551,2.9821035708582992,3.0517708226326845,3.0840582532677874,3.002875932388085,3.040081739469393,3.101767978561479,3.0811614860905765,3.072954148230374,3.0602026331615693,2.967099709464832,3.048497897480192,2.9871901329391175,3.1140507640639337,3.090748371923554,3.0627658694100037,3.007128152516854,3.014657628074905,3.0553877161128677,3.1111532317351367,3.0478694141676845,3.023676096596119,2.9607084621680912,2.9624097404705116,3.050460869221038,3.031878704554559,3.044543033196641,2.994156354549402,3.035597627381133,2.9586685761676965,2.966454625564935,2.988748334459912,3.0368935067271887,2.976691967762986,3.019694760996244,2.931495026987002,3.0181467538524305,3.0530742870572736,3.042243490132192,3.1209871207710282,3.0464862037468254,3.0088075430747936,2.996106674142066,2.9858718297725413,3.0024417698781383,2.9734975588510966,3.034806579472957,3.053899508405121,3.0312794329356523,3.022313261292982,3.0610424942784302,3.03514651331432,3.026073008962854,2.9259845624334258,2.9832093741735872,3.0937763030696326,3.0790412803953933,3.0348456874106406,3.0773943872295173,7.314483079358519,7.387987682397114,7.300001616634043,7.366249073361975,7.452299509666734,7.30602083397496,7.387757914436042,7.366681313434933,7.3794146303374255,7.4343281991569325,7.365771882559729,7.372895304634035,7.357486094494969,7.374222013440975,7.446556320529912,7.389138834356225,7.434423416257625,7.368340238300351,7.415773334790974,7.359313133169147,7.363459766843198,7.283190207000158,7.436231110214572,7.382403730527274,7.30135424751609,7.337173724799605,7.300983841060193,7.309475752279886,7.274344406089423,7.239748338870345,7.36111978790802,7.326547203730233,7.349780948880368,7.456086351761772,7.396981701510526,7.415325282492278,7.424739700815448,7.324491656445857,7.384334711200931,7.3907232505143785,7.366287199203347,7.3512829019357255,7.34660711972927,7.395711264626333,7.332405596211391,7.357703341528763,7.406877904962726,7.35595305099371,7.432231430711996,7.404146171905503,7.362219428640218,7.34233325383877,7.394303139202279,7.455932567340667,7.408522644624084,7.395992432333458,7.506285992315147,7.4119752377616654,7.430989322863261,7.398128883095069,7.366696727842845,7.377167663762654,7.317746530733703,7.3647183210957925,7.4184292053358,7.3135837043500045,7.472514250591487,7.458017029405334,7.381590896101607,7.429735900566215,7.405957147329785,7.428565870038658,3.1304579483285813,1.6607446623975253,8.793221665791659,12.698408649440005,5.207472144658509,5.367427602298644,5.440217894678065,6.366769418808962,7.970009758005598,4.1081925686430365,7.6526254158053435,14.189528001831183,0.7516944483000674,8.486154253387067,12.002751293558806,6.447701287201662,10.059603527832094,3.9681125577037553,2.686860231471428,0.9947244459502613,3.7274990615830363,1.4144895193632534,8.178699082153846,3.4016896095277023,5.916580980387704,14.083512828765201,13.3360374987942,12.167900791582097,7.308761678431426,3.8213274894945357,3.052129376409514,9.196920384250618,5.53856060250617,10.10604797726336,9.261297535556846,7.348350322590336,3.148798041935195,7.273674849600368,2.2421073002261096,10.075437603030718,5.320499272874509,1.530536841477553,11.749454847216125,6.304285416785196,4.4826586877371195,1.9645766857995322,14.175147010926606,9.167469225076479,1.6191096163977197,4.464114119563669,2.303791317523891,11.31169129864801,8.834393271888223,13.45154866490659,5.585119577378423,3.9272337438065104,3.896121641668564,5.482373486534527,13.735055326165787,1.926891175127269,14.67676063954274,10.493556134533856,2.1360894979066565,5.164264871500023,4.020405274224014,9.302740993262063,3.053247578429346,9.084535561263124,10.992914937284114,13.953408904951022,8.354142931664908,7.056064496356751,8.115997090124027,8.115634971129483,7.92162325907608,8.188564549106795,8.147483075439734,7.85999813142334,7.666526150877917,7.973890003792811,7.658565836754241,7.887145100732535,7.935820453578141,8.038533531894114,7.969588715806583,7.873205843733736,8.032380816753124,8.156539676282994,7.665813555549272,8.104483144699236,8.316227613339182,8.169243973808573,8.301715349041077,8.140399905376148,7.884056326455554,8.003100340790054,8.131112368161734,8.233357004009436,7.816278824218198,8.119305321326411,8.06585531035739,7.974497485266722,7.835415377885139,8.3528090456888,7.899592802208239,8.112956628259239,7.8898197931326575,7.966910728373429,7.551175664280317,7.950062953165258,8.014518948593848,8.310556397874134,8.140504774101696,7.923074656856187,8.17100672083938,7.740285484489209,7.7877771282280905,7.804707985341079,7.82007991272707,8.077701325123924,8.062413986153574,7.820795219091469,8.000873659018549,7.760496721995855,8.078543426727999,8.196324576776487,8.19459682458445,7.746687778433594,8.412516075935827,7.9034893231573715,7.839996070154339,8.084537952696492,8.208449811681799,7.876215519510146,8.38279574833406,8.075022368353379,8.261985194708595,8.438097297449305,8.170813903891402,7.9287761245538615,8.026133844102274,7.989201728291788,8.071599004645849,7.825118078098878,8.062618780745746,7.790747739499226,7.925758511670506,7.992499541167016,7.747368294605885,8.426398372953544,8.127344131615162,7.882400953491617,8.103719699938148,7.891816443024223,8.344642941328278,8.114537213661514,7.681046548384476,8.162064773698523,7.969647218294828,8.146852458112772,7.949033111139194,8.12256917056347,8.297567083180448,7.99921235122253,8.034891334166305,7.96837678665682,8.00445777743534,8.091469270172857,7.882224756798995,7.977475222081145,8.152730227504,7.892674135284892,8.007556200488217,8.032045627483482,8.03148706994376,8.301226306635511,8.050358448102552,7.903211930339215,7.9571596064301575,8.201505358610714,7.9098888021072815,8.054329371210386,8.227226119216242,8.195281134279064,7.873852901112191,7.993137811924971,8.050797583012407,8.240318603355496,7.803966109807642,7.813949658543886,8.035921465565877,7.664815179916348,7.904822913587765,7.541589265609938,7.984602849053355,7.89483881843532,8.109799911296141,7.921647533665662,8.03821145465772,8.196867623989428,8.059659400544962,7.810123342546549,8.017800745463866,7.925672570234145,7.87304358282836,8.172212261093064,7.556244919050615,8.101993858257519,8.122911533201993,7.937247274796106,7.834337672107328,7.923230904864473,8.088983068046268,7.989751488744806,8.190999255559346,7.907444488418062,5.0,5.0,5.0,5.0,5.0,5.0,5.0,5.0,5.0,5.0,5.0,5.0,5.0,5.0,5.0,5.0,5.0,5.0,5.0,5.0,5.0,5.0,5.0,5.0,5.0,5.0,5.0,5.0,5.0,5.0,5.0,5.0,5.0,5.0,5.0,5.0,5.0,5.0,5.0,5.0,5.0,5.0,5.0,5.0,5.0,5.0,5.0,5.0,5.0,5.0,5.0,5.0,5.0,5.0,5.0,5.0,5.0,5.0,5.0,5.0,5.0,5.0,5.0,5.0,5.0,5.0,5.0,5.0,5.0,5.0,5.0,5.0,7.0,7.0,7.0,7.0,7.0,7.0,7.0,7.0,7.0,7.0,7.0,7.0,7.0,7.0,7.0,7.0,7.0,7.0,7.0,7.0,7.0,7.0,7.0,7.0,7.0,7.0,7.0,7.0,7.0,7.0,7.0,7.0,7.0,7.0,7.0,7.0,7.0,7.0,7.0,7.0,7.0,7.0,7.0,7.0,7.0,7.0,7.0,7.0,7.0,7.0,7.0,7.0,7.0,7.0,7.0,7.0,7.0,7.0,7.0,7.0,7.0,7.0,7.0,7.0,7.0,7.0,7.0,7.0,7.0,7.0,7.0,7.0,7.83,7.83,7.83,7.83,7.83,7.83,7.83,7.83,7.83,7.83,7.83,7.83,7.83,7.83,7.83,7.83,7.83,7.83,7.83,7.83,7.83,7.83,7.83,7.83,7.83,7.83,7.83,7.83,7.83,7.83,7.83,7.83,7.83,7.83,7.83,7.83,7.83,7.83,7.83,7.83,7.83,7.83,7.83,7.83,7.83,7.83,7.83,7.83,7.83,7.83,7.83,7.83,7.83,7.83,7.83,7.83,7.83,7.83,7.83,7.83,7.83,7.83,7.83,7.83,7.83,7.83,7.83,7.83,7.83,7.83,7.83,7.83,5.0,5.0,5.0,5.0,5.0,5.0,5.0,5.0,5.0,5.0,5.0,5.0,5.0,5.0,5.0,5.0,5.0,5.0,5.0,5.0,5.0,5.0,5.0,5.0,5.0,5.0,5.0,5.0,5.0,5.0,5.0,5.0,5.0,5.0,5.0,5.0,5.0,5.0,5.0,5.0,5.0,5.0,5.0,5.0,5.0,5.0,5.0,5.0,5.0,5.0,5.0,5.0,5.0,5.0,5.0,5.0,5.0,5.0,5.0,5.0,5.0,5.0,5.0,5.0,5.0,5.0,5.0,5.0,5.0,5.0,5.0,5.0],\"y0\":\" \",\"yaxis\":\"y\",\"type\":\"box\"}],                        {\"template\":{\"data\":{\"histogram2dcontour\":[{\"type\":\"histogram2dcontour\",\"colorbar\":{\"outlinewidth\":0,\"ticks\":\"\"},\"colorscale\":[[0.0,\"#0d0887\"],[0.1111111111111111,\"#46039f\"],[0.2222222222222222,\"#7201a8\"],[0.3333333333333333,\"#9c179e\"],[0.4444444444444444,\"#bd3786\"],[0.5555555555555556,\"#d8576b\"],[0.6666666666666666,\"#ed7953\"],[0.7777777777777778,\"#fb9f3a\"],[0.8888888888888888,\"#fdca26\"],[1.0,\"#f0f921\"]]}],\"choropleth\":[{\"type\":\"choropleth\",\"colorbar\":{\"outlinewidth\":0,\"ticks\":\"\"}}],\"histogram2d\":[{\"type\":\"histogram2d\",\"colorbar\":{\"outlinewidth\":0,\"ticks\":\"\"},\"colorscale\":[[0.0,\"#0d0887\"],[0.1111111111111111,\"#46039f\"],[0.2222222222222222,\"#7201a8\"],[0.3333333333333333,\"#9c179e\"],[0.4444444444444444,\"#bd3786\"],[0.5555555555555556,\"#d8576b\"],[0.6666666666666666,\"#ed7953\"],[0.7777777777777778,\"#fb9f3a\"],[0.8888888888888888,\"#fdca26\"],[1.0,\"#f0f921\"]]}],\"heatmap\":[{\"type\":\"heatmap\",\"colorbar\":{\"outlinewidth\":0,\"ticks\":\"\"},\"colorscale\":[[0.0,\"#0d0887\"],[0.1111111111111111,\"#46039f\"],[0.2222222222222222,\"#7201a8\"],[0.3333333333333333,\"#9c179e\"],[0.4444444444444444,\"#bd3786\"],[0.5555555555555556,\"#d8576b\"],[0.6666666666666666,\"#ed7953\"],[0.7777777777777778,\"#fb9f3a\"],[0.8888888888888888,\"#fdca26\"],[1.0,\"#f0f921\"]]}],\"heatmapgl\":[{\"type\":\"heatmapgl\",\"colorbar\":{\"outlinewidth\":0,\"ticks\":\"\"},\"colorscale\":[[0.0,\"#0d0887\"],[0.1111111111111111,\"#46039f\"],[0.2222222222222222,\"#7201a8\"],[0.3333333333333333,\"#9c179e\"],[0.4444444444444444,\"#bd3786\"],[0.5555555555555556,\"#d8576b\"],[0.6666666666666666,\"#ed7953\"],[0.7777777777777778,\"#fb9f3a\"],[0.8888888888888888,\"#fdca26\"],[1.0,\"#f0f921\"]]}],\"contourcarpet\":[{\"type\":\"contourcarpet\",\"colorbar\":{\"outlinewidth\":0,\"ticks\":\"\"}}],\"contour\":[{\"type\":\"contour\",\"colorbar\":{\"outlinewidth\":0,\"ticks\":\"\"},\"colorscale\":[[0.0,\"#0d0887\"],[0.1111111111111111,\"#46039f\"],[0.2222222222222222,\"#7201a8\"],[0.3333333333333333,\"#9c179e\"],[0.4444444444444444,\"#bd3786\"],[0.5555555555555556,\"#d8576b\"],[0.6666666666666666,\"#ed7953\"],[0.7777777777777778,\"#fb9f3a\"],[0.8888888888888888,\"#fdca26\"],[1.0,\"#f0f921\"]]}],\"surface\":[{\"type\":\"surface\",\"colorbar\":{\"outlinewidth\":0,\"ticks\":\"\"},\"colorscale\":[[0.0,\"#0d0887\"],[0.1111111111111111,\"#46039f\"],[0.2222222222222222,\"#7201a8\"],[0.3333333333333333,\"#9c179e\"],[0.4444444444444444,\"#bd3786\"],[0.5555555555555556,\"#d8576b\"],[0.6666666666666666,\"#ed7953\"],[0.7777777777777778,\"#fb9f3a\"],[0.8888888888888888,\"#fdca26\"],[1.0,\"#f0f921\"]]}],\"mesh3d\":[{\"type\":\"mesh3d\",\"colorbar\":{\"outlinewidth\":0,\"ticks\":\"\"}}],\"scatter\":[{\"fillpattern\":{\"fillmode\":\"overlay\",\"size\":10,\"solidity\":0.2},\"type\":\"scatter\"}],\"parcoords\":[{\"type\":\"parcoords\",\"line\":{\"colorbar\":{\"outlinewidth\":0,\"ticks\":\"\"}}}],\"scatterpolargl\":[{\"type\":\"scatterpolargl\",\"marker\":{\"colorbar\":{\"outlinewidth\":0,\"ticks\":\"\"}}}],\"bar\":[{\"error_x\":{\"color\":\"#2a3f5f\"},\"error_y\":{\"color\":\"#2a3f5f\"},\"marker\":{\"line\":{\"color\":\"#E5ECF6\",\"width\":0.5},\"pattern\":{\"fillmode\":\"overlay\",\"size\":10,\"solidity\":0.2}},\"type\":\"bar\"}],\"scattergeo\":[{\"type\":\"scattergeo\",\"marker\":{\"colorbar\":{\"outlinewidth\":0,\"ticks\":\"\"}}}],\"scatterpolar\":[{\"type\":\"scatterpolar\",\"marker\":{\"colorbar\":{\"outlinewidth\":0,\"ticks\":\"\"}}}],\"histogram\":[{\"marker\":{\"pattern\":{\"fillmode\":\"overlay\",\"size\":10,\"solidity\":0.2}},\"type\":\"histogram\"}],\"scattergl\":[{\"type\":\"scattergl\",\"marker\":{\"colorbar\":{\"outlinewidth\":0,\"ticks\":\"\"}}}],\"scatter3d\":[{\"type\":\"scatter3d\",\"line\":{\"colorbar\":{\"outlinewidth\":0,\"ticks\":\"\"}},\"marker\":{\"colorbar\":{\"outlinewidth\":0,\"ticks\":\"\"}}}],\"scattermapbox\":[{\"type\":\"scattermapbox\",\"marker\":{\"colorbar\":{\"outlinewidth\":0,\"ticks\":\"\"}}}],\"scatterternary\":[{\"type\":\"scatterternary\",\"marker\":{\"colorbar\":{\"outlinewidth\":0,\"ticks\":\"\"}}}],\"scattercarpet\":[{\"type\":\"scattercarpet\",\"marker\":{\"colorbar\":{\"outlinewidth\":0,\"ticks\":\"\"}}}],\"carpet\":[{\"aaxis\":{\"endlinecolor\":\"#2a3f5f\",\"gridcolor\":\"white\",\"linecolor\":\"white\",\"minorgridcolor\":\"white\",\"startlinecolor\":\"#2a3f5f\"},\"baxis\":{\"endlinecolor\":\"#2a3f5f\",\"gridcolor\":\"white\",\"linecolor\":\"white\",\"minorgridcolor\":\"white\",\"startlinecolor\":\"#2a3f5f\"},\"type\":\"carpet\"}],\"table\":[{\"cells\":{\"fill\":{\"color\":\"#EBF0F8\"},\"line\":{\"color\":\"white\"}},\"header\":{\"fill\":{\"color\":\"#C8D4E3\"},\"line\":{\"color\":\"white\"}},\"type\":\"table\"}],\"barpolar\":[{\"marker\":{\"line\":{\"color\":\"#E5ECF6\",\"width\":0.5},\"pattern\":{\"fillmode\":\"overlay\",\"size\":10,\"solidity\":0.2}},\"type\":\"barpolar\"}],\"pie\":[{\"automargin\":true,\"type\":\"pie\"}]},\"layout\":{\"autotypenumbers\":\"strict\",\"colorway\":[\"#636efa\",\"#EF553B\",\"#00cc96\",\"#ab63fa\",\"#FFA15A\",\"#19d3f3\",\"#FF6692\",\"#B6E880\",\"#FF97FF\",\"#FECB52\"],\"font\":{\"color\":\"#2a3f5f\"},\"hovermode\":\"closest\",\"hoverlabel\":{\"align\":\"left\"},\"paper_bgcolor\":\"white\",\"plot_bgcolor\":\"#E5ECF6\",\"polar\":{\"bgcolor\":\"#E5ECF6\",\"angularaxis\":{\"gridcolor\":\"white\",\"linecolor\":\"white\",\"ticks\":\"\"},\"radialaxis\":{\"gridcolor\":\"white\",\"linecolor\":\"white\",\"ticks\":\"\"}},\"ternary\":{\"bgcolor\":\"#E5ECF6\",\"aaxis\":{\"gridcolor\":\"white\",\"linecolor\":\"white\",\"ticks\":\"\"},\"baxis\":{\"gridcolor\":\"white\",\"linecolor\":\"white\",\"ticks\":\"\"},\"caxis\":{\"gridcolor\":\"white\",\"linecolor\":\"white\",\"ticks\":\"\"}},\"coloraxis\":{\"colorbar\":{\"outlinewidth\":0,\"ticks\":\"\"}},\"colorscale\":{\"sequential\":[[0.0,\"#0d0887\"],[0.1111111111111111,\"#46039f\"],[0.2222222222222222,\"#7201a8\"],[0.3333333333333333,\"#9c179e\"],[0.4444444444444444,\"#bd3786\"],[0.5555555555555556,\"#d8576b\"],[0.6666666666666666,\"#ed7953\"],[0.7777777777777778,\"#fb9f3a\"],[0.8888888888888888,\"#fdca26\"],[1.0,\"#f0f921\"]],\"sequentialminus\":[[0.0,\"#0d0887\"],[0.1111111111111111,\"#46039f\"],[0.2222222222222222,\"#7201a8\"],[0.3333333333333333,\"#9c179e\"],[0.4444444444444444,\"#bd3786\"],[0.5555555555555556,\"#d8576b\"],[0.6666666666666666,\"#ed7953\"],[0.7777777777777778,\"#fb9f3a\"],[0.8888888888888888,\"#fdca26\"],[1.0,\"#f0f921\"]],\"diverging\":[[0,\"#8e0152\"],[0.1,\"#c51b7d\"],[0.2,\"#de77ae\"],[0.3,\"#f1b6da\"],[0.4,\"#fde0ef\"],[0.5,\"#f7f7f7\"],[0.6,\"#e6f5d0\"],[0.7,\"#b8e186\"],[0.8,\"#7fbc41\"],[0.9,\"#4d9221\"],[1,\"#276419\"]]},\"xaxis\":{\"gridcolor\":\"white\",\"linecolor\":\"white\",\"ticks\":\"\",\"title\":{\"standoff\":15},\"zerolinecolor\":\"white\",\"automargin\":true,\"zerolinewidth\":2},\"yaxis\":{\"gridcolor\":\"white\",\"linecolor\":\"white\",\"ticks\":\"\",\"title\":{\"standoff\":15},\"zerolinecolor\":\"white\",\"automargin\":true,\"zerolinewidth\":2},\"scene\":{\"xaxis\":{\"backgroundcolor\":\"#E5ECF6\",\"gridcolor\":\"white\",\"linecolor\":\"white\",\"showbackground\":true,\"ticks\":\"\",\"zerolinecolor\":\"white\",\"gridwidth\":2},\"yaxis\":{\"backgroundcolor\":\"#E5ECF6\",\"gridcolor\":\"white\",\"linecolor\":\"white\",\"showbackground\":true,\"ticks\":\"\",\"zerolinecolor\":\"white\",\"gridwidth\":2},\"zaxis\":{\"backgroundcolor\":\"#E5ECF6\",\"gridcolor\":\"white\",\"linecolor\":\"white\",\"showbackground\":true,\"ticks\":\"\",\"zerolinecolor\":\"white\",\"gridwidth\":2}},\"shapedefaults\":{\"line\":{\"color\":\"#2a3f5f\"}},\"annotationdefaults\":{\"arrowcolor\":\"#2a3f5f\",\"arrowhead\":0,\"arrowwidth\":1},\"geo\":{\"bgcolor\":\"white\",\"landcolor\":\"#E5ECF6\",\"subunitcolor\":\"white\",\"showland\":true,\"showlakes\":true,\"lakecolor\":\"white\"},\"title\":{\"x\":0.05},\"mapbox\":{\"style\":\"light\"}}},\"xaxis\":{\"anchor\":\"y\",\"domain\":[0.0,1.0],\"title\":{\"text\":\"variable\"}},\"yaxis\":{\"anchor\":\"x\",\"domain\":[0.0,1.0],\"title\":{\"text\":\"value\"}},\"legend\":{\"tracegroupgap\":0},\"margin\":{\"t\":60},\"boxmode\":\"group\"},                        {\"responsive\": true}                    ).then(function(){\n",
       "                            \n",
       "var gd = document.getElementById('596d0582-3bf9-4ef6-a116-73971320bc7b');\n",
       "var x = new MutationObserver(function (mutations, observer) {{\n",
       "        var display = window.getComputedStyle(gd).display;\n",
       "        if (!display || display === 'none') {{\n",
       "            console.log([gd, 'removed!']);\n",
       "            Plotly.purge(gd);\n",
       "            observer.disconnect();\n",
       "        }}\n",
       "}});\n",
       "\n",
       "// Listen for the removal of the full notebook cells\n",
       "var notebookContainer = gd.closest('#notebook-container');\n",
       "if (notebookContainer) {{\n",
       "    x.observe(notebookContainer, {childList: true});\n",
       "}}\n",
       "\n",
       "// Listen for the clearing of the current output cell\n",
       "var outputEl = gd.closest('.output');\n",
       "if (outputEl) {{\n",
       "    x.observe(outputEl, {childList: true});\n",
       "}}\n",
       "\n",
       "                        })                };                });            </script>        </div>"
      ]
     },
     "metadata": {},
     "output_type": "display_data"
    }
   ],
   "source": [
    "# Random Variable Generation \n",
    "# Per investment YOY growth percent, include land and stocks\n",
    "# USD to INR YOY growth \n",
    "# India inflation\n",
    "\n",
    "def gen_simulation_variables(Investments,years_to_calculate,USD_INR_mean_growth_percent,USD_INR_STD,India_infaltion_mean,India_inflation_std,Unexpected_expense_min_percent, Unexpected_expense_max_percent):\n",
    "    rand_var_df = pd.DataFrame()\n",
    "    rand_var_df['USD_INR_growth'] = np.random.normal(loc=USD_INR_mean_growth_percent,scale = USD_INR_STD,size = years_to_calculate)\n",
    "    rand_var_df['Inflation_growth'] = np.random.normal(loc=India_infaltion_mean,scale = India_inflation_std,size = years_to_calculate)\n",
    "    rand_var_df['unexpected_expense_rate'] = np.random.uniform(Unexpected_expense_min_percent, Unexpected_expense_max_percent,size= years_to_calculate)\n",
    "    for key,invs in Investments.items(): \n",
    "        try: \n",
    "            means = invs['mean_yoy_growthrate_percent']\n",
    "        except: \n",
    "            means = 5\n",
    "            print(key,'analysis will be inaccurate for this investment without mean YOY growth')\n",
    "        try : \n",
    "            std_dev = invs['std_yoy_growthrate']\n",
    "        except :\n",
    "            std_dev = 0\n",
    "        # Investments input mean,stdev\n",
    "        # print(key, 'mean=',means,'stdev=',std_dev)\n",
    "        rand_var_df[f'{key}_growth'] = np.random.normal(loc=means,scale = std_dev,size = years_to_calculate)\n",
    "    \n",
    "    return rand_var_df\n",
    "\n",
    "# Investments output mean, stdev\n",
    "simulation_var_df = gen_simulation_variables(Investments,years_to_calculate,USD_INR_mean_growth_percent,USD_INR_STD,India_infaltion_mean,India_inflation_std,Unexpected_expense_min_percent, Unexpected_expense_max_percent)\n",
    "# print(rand_var_df.mean(),rand_var_df.std())\n",
    "fig = px.box(simulation_var_df)\n",
    "fig.show()\n"
   ]
  },
  {
   "cell_type": "code",
   "execution_count": 33,
   "id": "3a3d874c-316c-4610-b2e6-7121c67839b7",
   "metadata": {},
   "outputs": [
    {
     "data": {
      "text/html": [
       "<div>\n",
       "<style scoped>\n",
       "    .dataframe tbody tr th:only-of-type {\n",
       "        vertical-align: middle;\n",
       "    }\n",
       "\n",
       "    .dataframe tbody tr th {\n",
       "        vertical-align: top;\n",
       "    }\n",
       "\n",
       "    .dataframe thead th {\n",
       "        text-align: right;\n",
       "    }\n",
       "</style>\n",
       "<table border=\"1\" class=\"dataframe\">\n",
       "  <thead>\n",
       "    <tr style=\"text-align: right;\">\n",
       "      <th></th>\n",
       "      <th>USD_INR_growth</th>\n",
       "      <th>Inflation_growth</th>\n",
       "      <th>unexpected_expense_rate</th>\n",
       "      <th>Ret_accnts_growth</th>\n",
       "      <th>TSLA_growth</th>\n",
       "      <th>Marcus_growth</th>\n",
       "      <th>ret_home_growth</th>\n",
       "      <th>us_rent_growth</th>\n",
       "      <th>Ind_land_growth</th>\n",
       "    </tr>\n",
       "  </thead>\n",
       "  <tbody>\n",
       "    <tr>\n",
       "      <th>0</th>\n",
       "      <td>2.970120</td>\n",
       "      <td>7.314483</td>\n",
       "      <td>3.130458</td>\n",
       "      <td>8.115997</td>\n",
       "      <td>8.062619</td>\n",
       "      <td>5.0</td>\n",
       "      <td>7.0</td>\n",
       "      <td>7.83</td>\n",
       "      <td>5.0</td>\n",
       "    </tr>\n",
       "    <tr>\n",
       "      <th>1</th>\n",
       "      <td>3.034482</td>\n",
       "      <td>7.387988</td>\n",
       "      <td>1.660745</td>\n",
       "      <td>8.115635</td>\n",
       "      <td>7.790748</td>\n",
       "      <td>5.0</td>\n",
       "      <td>7.0</td>\n",
       "      <td>7.83</td>\n",
       "      <td>5.0</td>\n",
       "    </tr>\n",
       "    <tr>\n",
       "      <th>2</th>\n",
       "      <td>3.073162</td>\n",
       "      <td>7.300002</td>\n",
       "      <td>8.793222</td>\n",
       "      <td>7.921623</td>\n",
       "      <td>7.925759</td>\n",
       "      <td>5.0</td>\n",
       "      <td>7.0</td>\n",
       "      <td>7.83</td>\n",
       "      <td>5.0</td>\n",
       "    </tr>\n",
       "    <tr>\n",
       "      <th>3</th>\n",
       "      <td>3.071554</td>\n",
       "      <td>7.366249</td>\n",
       "      <td>12.698409</td>\n",
       "      <td>8.188565</td>\n",
       "      <td>7.992500</td>\n",
       "      <td>5.0</td>\n",
       "      <td>7.0</td>\n",
       "      <td>7.83</td>\n",
       "      <td>5.0</td>\n",
       "    </tr>\n",
       "    <tr>\n",
       "      <th>4</th>\n",
       "      <td>3.100568</td>\n",
       "      <td>7.452300</td>\n",
       "      <td>5.207472</td>\n",
       "      <td>8.147483</td>\n",
       "      <td>7.747368</td>\n",
       "      <td>5.0</td>\n",
       "      <td>7.0</td>\n",
       "      <td>7.83</td>\n",
       "      <td>5.0</td>\n",
       "    </tr>\n",
       "    <tr>\n",
       "      <th>...</th>\n",
       "      <td>...</td>\n",
       "      <td>...</td>\n",
       "      <td>...</td>\n",
       "      <td>...</td>\n",
       "      <td>...</td>\n",
       "      <td>...</td>\n",
       "      <td>...</td>\n",
       "      <td>...</td>\n",
       "      <td>...</td>\n",
       "    </tr>\n",
       "    <tr>\n",
       "      <th>67</th>\n",
       "      <td>2.983209</td>\n",
       "      <td>7.458017</td>\n",
       "      <td>9.084536</td>\n",
       "      <td>7.928776</td>\n",
       "      <td>7.923231</td>\n",
       "      <td>5.0</td>\n",
       "      <td>7.0</td>\n",
       "      <td>7.83</td>\n",
       "      <td>5.0</td>\n",
       "    </tr>\n",
       "    <tr>\n",
       "      <th>68</th>\n",
       "      <td>3.093776</td>\n",
       "      <td>7.381591</td>\n",
       "      <td>10.992915</td>\n",
       "      <td>8.026134</td>\n",
       "      <td>8.088983</td>\n",
       "      <td>5.0</td>\n",
       "      <td>7.0</td>\n",
       "      <td>7.83</td>\n",
       "      <td>5.0</td>\n",
       "    </tr>\n",
       "    <tr>\n",
       "      <th>69</th>\n",
       "      <td>3.079041</td>\n",
       "      <td>7.429736</td>\n",
       "      <td>13.953409</td>\n",
       "      <td>7.989202</td>\n",
       "      <td>7.989751</td>\n",
       "      <td>5.0</td>\n",
       "      <td>7.0</td>\n",
       "      <td>7.83</td>\n",
       "      <td>5.0</td>\n",
       "    </tr>\n",
       "    <tr>\n",
       "      <th>70</th>\n",
       "      <td>3.034846</td>\n",
       "      <td>7.405957</td>\n",
       "      <td>8.354143</td>\n",
       "      <td>8.071599</td>\n",
       "      <td>8.190999</td>\n",
       "      <td>5.0</td>\n",
       "      <td>7.0</td>\n",
       "      <td>7.83</td>\n",
       "      <td>5.0</td>\n",
       "    </tr>\n",
       "    <tr>\n",
       "      <th>71</th>\n",
       "      <td>3.077394</td>\n",
       "      <td>7.428566</td>\n",
       "      <td>7.056064</td>\n",
       "      <td>7.825118</td>\n",
       "      <td>7.907444</td>\n",
       "      <td>5.0</td>\n",
       "      <td>7.0</td>\n",
       "      <td>7.83</td>\n",
       "      <td>5.0</td>\n",
       "    </tr>\n",
       "  </tbody>\n",
       "</table>\n",
       "<p>72 rows × 9 columns</p>\n",
       "</div>"
      ],
      "text/plain": [
       "    USD_INR_growth  Inflation_growth  unexpected_expense_rate  \\\n",
       "0         2.970120          7.314483                 3.130458   \n",
       "1         3.034482          7.387988                 1.660745   \n",
       "2         3.073162          7.300002                 8.793222   \n",
       "3         3.071554          7.366249                12.698409   \n",
       "4         3.100568          7.452300                 5.207472   \n",
       "..             ...               ...                      ...   \n",
       "67        2.983209          7.458017                 9.084536   \n",
       "68        3.093776          7.381591                10.992915   \n",
       "69        3.079041          7.429736                13.953409   \n",
       "70        3.034846          7.405957                 8.354143   \n",
       "71        3.077394          7.428566                 7.056064   \n",
       "\n",
       "    Ret_accnts_growth  TSLA_growth  Marcus_growth  ret_home_growth  \\\n",
       "0            8.115997     8.062619            5.0              7.0   \n",
       "1            8.115635     7.790748            5.0              7.0   \n",
       "2            7.921623     7.925759            5.0              7.0   \n",
       "3            8.188565     7.992500            5.0              7.0   \n",
       "4            8.147483     7.747368            5.0              7.0   \n",
       "..                ...          ...            ...              ...   \n",
       "67           7.928776     7.923231            5.0              7.0   \n",
       "68           8.026134     8.088983            5.0              7.0   \n",
       "69           7.989202     7.989751            5.0              7.0   \n",
       "70           8.071599     8.190999            5.0              7.0   \n",
       "71           7.825118     7.907444            5.0              7.0   \n",
       "\n",
       "    us_rent_growth  Ind_land_growth  \n",
       "0             7.83              5.0  \n",
       "1             7.83              5.0  \n",
       "2             7.83              5.0  \n",
       "3             7.83              5.0  \n",
       "4             7.83              5.0  \n",
       "..             ...              ...  \n",
       "67            7.83              5.0  \n",
       "68            7.83              5.0  \n",
       "69            7.83              5.0  \n",
       "70            7.83              5.0  \n",
       "71            7.83              5.0  \n",
       "\n",
       "[72 rows x 9 columns]"
      ]
     },
     "execution_count": 33,
     "metadata": {},
     "output_type": "execute_result"
    }
   ],
   "source": [
    "simulation_var_df"
   ]
  },
  {
   "cell_type": "code",
   "execution_count": 41,
   "id": "b570f1a6-4612-4ac5-80ce-af8bb01b25c8",
   "metadata": {},
   "outputs": [
    {
     "data": {
      "text/html": [
       "<div>\n",
       "<style scoped>\n",
       "    .dataframe tbody tr th:only-of-type {\n",
       "        vertical-align: middle;\n",
       "    }\n",
       "\n",
       "    .dataframe tbody tr th {\n",
       "        vertical-align: top;\n",
       "    }\n",
       "\n",
       "    .dataframe thead th {\n",
       "        text-align: right;\n",
       "    }\n",
       "</style>\n",
       "<table border=\"1\" class=\"dataframe\">\n",
       "  <thead>\n",
       "    <tr style=\"text-align: right;\">\n",
       "      <th></th>\n",
       "      <th>USD_INR_growth</th>\n",
       "      <th>Inflation_growth</th>\n",
       "      <th>unexpected_expense_rate</th>\n",
       "      <th>Ret_accnts_growth</th>\n",
       "      <th>TSLA_growth</th>\n",
       "      <th>Marcus_growth</th>\n",
       "      <th>ret_home_growth</th>\n",
       "      <th>us_rent_growth</th>\n",
       "      <th>Ind_land_growth</th>\n",
       "      <th>year</th>\n",
       "      <th>age</th>\n",
       "      <th>living_expense</th>\n",
       "      <th>unexpected_expense</th>\n",
       "    </tr>\n",
       "  </thead>\n",
       "  <tbody>\n",
       "    <tr>\n",
       "      <th>0</th>\n",
       "      <td>2.970120</td>\n",
       "      <td>7.314483</td>\n",
       "      <td>3.130458</td>\n",
       "      <td>8.115997</td>\n",
       "      <td>8.062619</td>\n",
       "      <td>5.0</td>\n",
       "      <td>7.0</td>\n",
       "      <td>7.83</td>\n",
       "      <td>5.0</td>\n",
       "      <td>2024</td>\n",
       "      <td>32</td>\n",
       "      <td>0.000000e+00</td>\n",
       "      <td>0.000000</td>\n",
       "    </tr>\n",
       "    <tr>\n",
       "      <th>1</th>\n",
       "      <td>3.034482</td>\n",
       "      <td>7.387988</td>\n",
       "      <td>1.660745</td>\n",
       "      <td>8.115635</td>\n",
       "      <td>7.790748</td>\n",
       "      <td>5.0</td>\n",
       "      <td>7.0</td>\n",
       "      <td>7.83</td>\n",
       "      <td>5.0</td>\n",
       "      <td>2025</td>\n",
       "      <td>33</td>\n",
       "      <td>0.000000e+00</td>\n",
       "      <td>0.000000</td>\n",
       "    </tr>\n",
       "    <tr>\n",
       "      <th>2</th>\n",
       "      <td>3.073162</td>\n",
       "      <td>7.300002</td>\n",
       "      <td>8.793222</td>\n",
       "      <td>7.921623</td>\n",
       "      <td>7.925759</td>\n",
       "      <td>5.0</td>\n",
       "      <td>7.0</td>\n",
       "      <td>7.83</td>\n",
       "      <td>5.0</td>\n",
       "      <td>2026</td>\n",
       "      <td>34</td>\n",
       "      <td>0.000000e+00</td>\n",
       "      <td>0.000000</td>\n",
       "    </tr>\n",
       "    <tr>\n",
       "      <th>3</th>\n",
       "      <td>3.071554</td>\n",
       "      <td>7.366249</td>\n",
       "      <td>12.698409</td>\n",
       "      <td>8.188565</td>\n",
       "      <td>7.992500</td>\n",
       "      <td>5.0</td>\n",
       "      <td>7.0</td>\n",
       "      <td>7.83</td>\n",
       "      <td>5.0</td>\n",
       "      <td>2027</td>\n",
       "      <td>35</td>\n",
       "      <td>0.000000e+00</td>\n",
       "      <td>0.000000</td>\n",
       "    </tr>\n",
       "    <tr>\n",
       "      <th>4</th>\n",
       "      <td>3.100568</td>\n",
       "      <td>7.452300</td>\n",
       "      <td>5.207472</td>\n",
       "      <td>8.147483</td>\n",
       "      <td>7.747368</td>\n",
       "      <td>5.0</td>\n",
       "      <td>7.0</td>\n",
       "      <td>7.83</td>\n",
       "      <td>5.0</td>\n",
       "      <td>2028</td>\n",
       "      <td>36</td>\n",
       "      <td>2.576790e+06</td>\n",
       "      <td>134185.620318</td>\n",
       "    </tr>\n",
       "    <tr>\n",
       "      <th>...</th>\n",
       "      <td>...</td>\n",
       "      <td>...</td>\n",
       "      <td>...</td>\n",
       "      <td>...</td>\n",
       "      <td>...</td>\n",
       "      <td>...</td>\n",
       "      <td>...</td>\n",
       "      <td>...</td>\n",
       "      <td>...</td>\n",
       "      <td>...</td>\n",
       "      <td>...</td>\n",
       "      <td>...</td>\n",
       "      <td>...</td>\n",
       "    </tr>\n",
       "    <tr>\n",
       "      <th>67</th>\n",
       "      <td>2.983209</td>\n",
       "      <td>7.458017</td>\n",
       "      <td>9.084536</td>\n",
       "      <td>7.928776</td>\n",
       "      <td>7.923231</td>\n",
       "      <td>5.0</td>\n",
       "      <td>7.0</td>\n",
       "      <td>7.83</td>\n",
       "      <td>5.0</td>\n",
       "      <td>2091</td>\n",
       "      <td>99</td>\n",
       "      <td>2.579340e+06</td>\n",
       "      <td>234321.090616</td>\n",
       "    </tr>\n",
       "    <tr>\n",
       "      <th>68</th>\n",
       "      <td>3.093776</td>\n",
       "      <td>7.381591</td>\n",
       "      <td>10.992915</td>\n",
       "      <td>8.026134</td>\n",
       "      <td>8.088983</td>\n",
       "      <td>5.0</td>\n",
       "      <td>7.0</td>\n",
       "      <td>7.83</td>\n",
       "      <td>5.0</td>\n",
       "      <td>2092</td>\n",
       "      <td>100</td>\n",
       "      <td>2.578992e+06</td>\n",
       "      <td>283506.441728</td>\n",
       "    </tr>\n",
       "    <tr>\n",
       "      <th>69</th>\n",
       "      <td>3.079041</td>\n",
       "      <td>7.429736</td>\n",
       "      <td>13.953409</td>\n",
       "      <td>7.989202</td>\n",
       "      <td>7.989751</td>\n",
       "      <td>5.0</td>\n",
       "      <td>7.0</td>\n",
       "      <td>7.83</td>\n",
       "      <td>5.0</td>\n",
       "      <td>2093</td>\n",
       "      <td>101</td>\n",
       "      <td>2.577158e+06</td>\n",
       "      <td>359601.419193</td>\n",
       "    </tr>\n",
       "    <tr>\n",
       "      <th>70</th>\n",
       "      <td>3.034846</td>\n",
       "      <td>7.405957</td>\n",
       "      <td>8.354143</td>\n",
       "      <td>8.071599</td>\n",
       "      <td>8.190999</td>\n",
       "      <td>5.0</td>\n",
       "      <td>7.0</td>\n",
       "      <td>7.83</td>\n",
       "      <td>5.0</td>\n",
       "      <td>2094</td>\n",
       "      <td>102</td>\n",
       "      <td>2.578314e+06</td>\n",
       "      <td>215396.008518</td>\n",
       "    </tr>\n",
       "    <tr>\n",
       "      <th>71</th>\n",
       "      <td>3.077394</td>\n",
       "      <td>7.428566</td>\n",
       "      <td>7.056064</td>\n",
       "      <td>7.825118</td>\n",
       "      <td>7.907444</td>\n",
       "      <td>5.0</td>\n",
       "      <td>7.0</td>\n",
       "      <td>7.83</td>\n",
       "      <td>5.0</td>\n",
       "      <td>2095</td>\n",
       "      <td>103</td>\n",
       "      <td>2.577743e+06</td>\n",
       "      <td>181887.206622</td>\n",
       "    </tr>\n",
       "  </tbody>\n",
       "</table>\n",
       "<p>72 rows × 13 columns</p>\n",
       "</div>"
      ],
      "text/plain": [
       "    USD_INR_growth  Inflation_growth  unexpected_expense_rate  \\\n",
       "0         2.970120          7.314483                 3.130458   \n",
       "1         3.034482          7.387988                 1.660745   \n",
       "2         3.073162          7.300002                 8.793222   \n",
       "3         3.071554          7.366249                12.698409   \n",
       "4         3.100568          7.452300                 5.207472   \n",
       "..             ...               ...                      ...   \n",
       "67        2.983209          7.458017                 9.084536   \n",
       "68        3.093776          7.381591                10.992915   \n",
       "69        3.079041          7.429736                13.953409   \n",
       "70        3.034846          7.405957                 8.354143   \n",
       "71        3.077394          7.428566                 7.056064   \n",
       "\n",
       "    Ret_accnts_growth  TSLA_growth  Marcus_growth  ret_home_growth  \\\n",
       "0            8.115997     8.062619            5.0              7.0   \n",
       "1            8.115635     7.790748            5.0              7.0   \n",
       "2            7.921623     7.925759            5.0              7.0   \n",
       "3            8.188565     7.992500            5.0              7.0   \n",
       "4            8.147483     7.747368            5.0              7.0   \n",
       "..                ...          ...            ...              ...   \n",
       "67           7.928776     7.923231            5.0              7.0   \n",
       "68           8.026134     8.088983            5.0              7.0   \n",
       "69           7.989202     7.989751            5.0              7.0   \n",
       "70           8.071599     8.190999            5.0              7.0   \n",
       "71           7.825118     7.907444            5.0              7.0   \n",
       "\n",
       "    us_rent_growth  Ind_land_growth  year  age  living_expense  \\\n",
       "0             7.83              5.0  2024   32    0.000000e+00   \n",
       "1             7.83              5.0  2025   33    0.000000e+00   \n",
       "2             7.83              5.0  2026   34    0.000000e+00   \n",
       "3             7.83              5.0  2027   35    0.000000e+00   \n",
       "4             7.83              5.0  2028   36    2.576790e+06   \n",
       "..             ...              ...   ...  ...             ...   \n",
       "67            7.83              5.0  2091   99    2.579340e+06   \n",
       "68            7.83              5.0  2092  100    2.578992e+06   \n",
       "69            7.83              5.0  2093  101    2.577158e+06   \n",
       "70            7.83              5.0  2094  102    2.578314e+06   \n",
       "71            7.83              5.0  2095  103    2.577743e+06   \n",
       "\n",
       "    unexpected_expense  \n",
       "0             0.000000  \n",
       "1             0.000000  \n",
       "2             0.000000  \n",
       "3             0.000000  \n",
       "4        134185.620318  \n",
       "..                 ...  \n",
       "67       234321.090616  \n",
       "68       283506.441728  \n",
       "69       359601.419193  \n",
       "70       215396.008518  \n",
       "71       181887.206622  \n",
       "\n",
       "[72 rows x 13 columns]"
      ]
     },
     "execution_count": 41,
     "metadata": {},
     "output_type": "execute_result"
    }
   ],
   "source": [
    "#Simulating \n",
    "#Calculate spend needed per year\n",
    "# inflation adjusted Living expenses with vacation + Unexpected Expenses (like health) + Real_Estate_EMIs \n",
    "# Then calculate pre tax amount needed\n",
    "# Then subtract retirement job income\n",
    "# Then calculate post tax amount needed\n",
    "\n",
    "simulation_var_df['year'] =  current_year + simulation_var_df.index\n",
    "simulation_var_df['age'] = current_year + simulation_var_df.index - year_of_birth\n",
    "for sim_year in simulation_var_df.index: \n",
    "    # Calculation inflated living \n",
    "    try : \n",
    "        simulation_var_df.loc[sim_year,'inflated_living'] = Monthly_living * (1+ simulation_var_df.loc[sim_year-1,'Inflation_growth']/100)*12\n",
    "    except: \n",
    "        simulation_var_df.loc[sim_year,'inflated_living'] = Monthly_living*12\n",
    "    # making living expense zero until retirment year    \n",
    "    if simulation_var_df.loc[sim_year,'year'] < retirement_year: \n",
    "        simulation_var_df.loc[sim_year,'living_expense'] =0\n",
    "        simulation_var_df.loc[sim_year,'unexpected_expense'] = 0\n",
    "    else :\n",
    "        simulation_var_df.loc[sim_year,'living_expense'] = simulation_var_df.loc[sim_year,'inflated_living']\n",
    "        simulation_var_df.loc[sim_year,'unexpected_expense'] =  simulation_var_df.loc[sim_year,'living_expense']* (simulation_var_df.loc[sim_year,'unexpected_expense_rate']/100)\n",
    "    \n",
    "\n",
    "simulation_var_df.drop('inflated_living', axis=1, inplace=True)\n",
    "simulation_var_df"
   ]
  },
  {
   "cell_type": "code",
   "execution_count": 43,
   "id": "b5729f83-1b80-4af9-ae3b-03eec8041d92",
   "metadata": {},
   "outputs": [
    {
     "data": {
      "application/vnd.plotly.v1+json": {
       "config": {
        "plotlyServerURL": "https://plot.ly"
       },
       "data": [
        {
         "mode": "lines",
         "name": "USD_INR_growth",
         "type": "scatter",
         "x": [
          2024,
          2025,
          2026,
          2027,
          2028,
          2029,
          2030,
          2031,
          2032,
          2033,
          2034,
          2035,
          2036,
          2037,
          2038,
          2039,
          2040,
          2041,
          2042,
          2043,
          2044,
          2045,
          2046,
          2047,
          2048,
          2049,
          2050,
          2051,
          2052,
          2053,
          2054,
          2055,
          2056,
          2057,
          2058,
          2059,
          2060,
          2061,
          2062,
          2063,
          2064,
          2065,
          2066,
          2067,
          2068,
          2069,
          2070,
          2071,
          2072,
          2073,
          2074,
          2075,
          2076,
          2077,
          2078,
          2079,
          2080,
          2081,
          2082,
          2083,
          2084,
          2085,
          2086,
          2087,
          2088,
          2089,
          2090,
          2091,
          2092,
          2093,
          2094,
          2095
         ],
         "y": [
          2.9701201989153008,
          3.0344818650523493,
          3.0731619146495133,
          3.0715535806201943,
          3.1005682957543703,
          2.996249718753521,
          3.020823553549259,
          3.111302953538112,
          3.0763982331466733,
          2.9719978758780763,
          3.0619248144310625,
          3.0659729224517758,
          3.0480355210822028,
          3.112398019452551,
          2.9821035708582992,
          3.0517708226326845,
          3.0840582532677874,
          3.002875932388085,
          3.040081739469393,
          3.101767978561479,
          3.0811614860905765,
          3.072954148230374,
          3.0602026331615693,
          2.967099709464832,
          3.048497897480192,
          2.9871901329391175,
          3.1140507640639337,
          3.090748371923554,
          3.0627658694100037,
          3.007128152516854,
          3.014657628074905,
          3.0553877161128677,
          3.1111532317351367,
          3.0478694141676845,
          3.023676096596119,
          2.9607084621680912,
          2.9624097404705116,
          3.050460869221038,
          3.031878704554559,
          3.044543033196641,
          2.994156354549402,
          3.035597627381133,
          2.9586685761676965,
          2.966454625564935,
          2.988748334459912,
          3.0368935067271887,
          2.976691967762986,
          3.019694760996244,
          2.931495026987002,
          3.0181467538524305,
          3.0530742870572736,
          3.042243490132192,
          3.1209871207710282,
          3.0464862037468254,
          3.0088075430747936,
          2.996106674142066,
          2.9858718297725413,
          3.0024417698781383,
          2.9734975588510966,
          3.034806579472957,
          3.053899508405121,
          3.0312794329356523,
          3.022313261292982,
          3.0610424942784302,
          3.03514651331432,
          3.026073008962854,
          2.9259845624334258,
          2.9832093741735872,
          3.0937763030696326,
          3.0790412803953933,
          3.0348456874106406,
          3.0773943872295173
         ]
        },
        {
         "mode": "lines",
         "name": "Inflation_growth",
         "type": "scatter",
         "x": [
          2024,
          2025,
          2026,
          2027,
          2028,
          2029,
          2030,
          2031,
          2032,
          2033,
          2034,
          2035,
          2036,
          2037,
          2038,
          2039,
          2040,
          2041,
          2042,
          2043,
          2044,
          2045,
          2046,
          2047,
          2048,
          2049,
          2050,
          2051,
          2052,
          2053,
          2054,
          2055,
          2056,
          2057,
          2058,
          2059,
          2060,
          2061,
          2062,
          2063,
          2064,
          2065,
          2066,
          2067,
          2068,
          2069,
          2070,
          2071,
          2072,
          2073,
          2074,
          2075,
          2076,
          2077,
          2078,
          2079,
          2080,
          2081,
          2082,
          2083,
          2084,
          2085,
          2086,
          2087,
          2088,
          2089,
          2090,
          2091,
          2092,
          2093,
          2094,
          2095
         ],
         "y": [
          7.314483079358519,
          7.387987682397114,
          7.300001616634043,
          7.366249073361975,
          7.452299509666734,
          7.30602083397496,
          7.387757914436042,
          7.366681313434933,
          7.3794146303374255,
          7.4343281991569325,
          7.365771882559729,
          7.372895304634035,
          7.357486094494969,
          7.374222013440975,
          7.446556320529912,
          7.389138834356225,
          7.434423416257625,
          7.368340238300351,
          7.415773334790974,
          7.359313133169147,
          7.363459766843198,
          7.283190207000158,
          7.436231110214572,
          7.382403730527274,
          7.30135424751609,
          7.337173724799605,
          7.300983841060193,
          7.309475752279886,
          7.274344406089423,
          7.239748338870345,
          7.36111978790802,
          7.326547203730233,
          7.349780948880368,
          7.456086351761772,
          7.396981701510526,
          7.415325282492278,
          7.424739700815448,
          7.324491656445857,
          7.384334711200931,
          7.3907232505143785,
          7.366287199203347,
          7.3512829019357255,
          7.34660711972927,
          7.395711264626333,
          7.332405596211391,
          7.357703341528763,
          7.406877904962726,
          7.35595305099371,
          7.432231430711996,
          7.404146171905503,
          7.362219428640218,
          7.34233325383877,
          7.394303139202279,
          7.455932567340667,
          7.408522644624084,
          7.395992432333458,
          7.506285992315147,
          7.4119752377616654,
          7.430989322863261,
          7.398128883095069,
          7.366696727842845,
          7.377167663762654,
          7.317746530733703,
          7.3647183210957925,
          7.4184292053358,
          7.3135837043500045,
          7.472514250591487,
          7.458017029405334,
          7.381590896101607,
          7.429735900566215,
          7.405957147329785,
          7.428565870038658
         ]
        },
        {
         "mode": "lines",
         "name": "unexpected_expense_rate",
         "type": "scatter",
         "x": [
          2024,
          2025,
          2026,
          2027,
          2028,
          2029,
          2030,
          2031,
          2032,
          2033,
          2034,
          2035,
          2036,
          2037,
          2038,
          2039,
          2040,
          2041,
          2042,
          2043,
          2044,
          2045,
          2046,
          2047,
          2048,
          2049,
          2050,
          2051,
          2052,
          2053,
          2054,
          2055,
          2056,
          2057,
          2058,
          2059,
          2060,
          2061,
          2062,
          2063,
          2064,
          2065,
          2066,
          2067,
          2068,
          2069,
          2070,
          2071,
          2072,
          2073,
          2074,
          2075,
          2076,
          2077,
          2078,
          2079,
          2080,
          2081,
          2082,
          2083,
          2084,
          2085,
          2086,
          2087,
          2088,
          2089,
          2090,
          2091,
          2092,
          2093,
          2094,
          2095
         ],
         "y": [
          3.1304579483285813,
          1.6607446623975253,
          8.793221665791659,
          12.698408649440005,
          5.207472144658509,
          5.367427602298644,
          5.440217894678065,
          6.366769418808962,
          7.970009758005598,
          4.1081925686430365,
          7.6526254158053435,
          14.189528001831183,
          0.7516944483000674,
          8.486154253387067,
          12.002751293558806,
          6.447701287201662,
          10.059603527832094,
          3.9681125577037553,
          2.686860231471428,
          0.9947244459502613,
          3.7274990615830363,
          1.4144895193632534,
          8.178699082153846,
          3.4016896095277023,
          5.916580980387704,
          14.083512828765201,
          13.3360374987942,
          12.167900791582097,
          7.308761678431426,
          3.8213274894945357,
          3.052129376409514,
          9.196920384250618,
          5.53856060250617,
          10.10604797726336,
          9.261297535556846,
          7.348350322590336,
          3.148798041935195,
          7.273674849600368,
          2.2421073002261096,
          10.075437603030718,
          5.320499272874509,
          1.530536841477553,
          11.749454847216125,
          6.304285416785196,
          4.4826586877371195,
          1.9645766857995322,
          14.175147010926606,
          9.167469225076479,
          1.6191096163977197,
          4.464114119563669,
          2.303791317523891,
          11.31169129864801,
          8.834393271888223,
          13.45154866490659,
          5.585119577378423,
          3.9272337438065104,
          3.896121641668564,
          5.482373486534527,
          13.735055326165787,
          1.926891175127269,
          14.67676063954274,
          10.493556134533856,
          2.1360894979066565,
          5.164264871500023,
          4.020405274224014,
          9.302740993262063,
          3.053247578429346,
          9.084535561263124,
          10.992914937284114,
          13.953408904951022,
          8.354142931664908,
          7.056064496356751
         ]
        },
        {
         "mode": "lines",
         "name": "Ret_accnts_growth",
         "type": "scatter",
         "x": [
          2024,
          2025,
          2026,
          2027,
          2028,
          2029,
          2030,
          2031,
          2032,
          2033,
          2034,
          2035,
          2036,
          2037,
          2038,
          2039,
          2040,
          2041,
          2042,
          2043,
          2044,
          2045,
          2046,
          2047,
          2048,
          2049,
          2050,
          2051,
          2052,
          2053,
          2054,
          2055,
          2056,
          2057,
          2058,
          2059,
          2060,
          2061,
          2062,
          2063,
          2064,
          2065,
          2066,
          2067,
          2068,
          2069,
          2070,
          2071,
          2072,
          2073,
          2074,
          2075,
          2076,
          2077,
          2078,
          2079,
          2080,
          2081,
          2082,
          2083,
          2084,
          2085,
          2086,
          2087,
          2088,
          2089,
          2090,
          2091,
          2092,
          2093,
          2094,
          2095
         ],
         "y": [
          8.115997090124027,
          8.115634971129483,
          7.92162325907608,
          8.188564549106795,
          8.147483075439734,
          7.85999813142334,
          7.666526150877917,
          7.973890003792811,
          7.658565836754241,
          7.887145100732535,
          7.935820453578141,
          8.038533531894114,
          7.969588715806583,
          7.873205843733736,
          8.032380816753124,
          8.156539676282994,
          7.665813555549272,
          8.104483144699236,
          8.316227613339182,
          8.169243973808573,
          8.301715349041077,
          8.140399905376148,
          7.884056326455554,
          8.003100340790054,
          8.131112368161734,
          8.233357004009436,
          7.816278824218198,
          8.119305321326411,
          8.06585531035739,
          7.974497485266722,
          7.835415377885139,
          8.3528090456888,
          7.899592802208239,
          8.112956628259239,
          7.8898197931326575,
          7.966910728373429,
          7.551175664280317,
          7.950062953165258,
          8.014518948593848,
          8.310556397874134,
          8.140504774101696,
          7.923074656856187,
          8.17100672083938,
          7.740285484489209,
          7.7877771282280905,
          7.804707985341079,
          7.82007991272707,
          8.077701325123924,
          8.062413986153574,
          7.820795219091469,
          8.000873659018549,
          7.760496721995855,
          8.078543426727999,
          8.196324576776487,
          8.19459682458445,
          7.746687778433594,
          8.412516075935827,
          7.9034893231573715,
          7.839996070154339,
          8.084537952696492,
          8.208449811681799,
          7.876215519510146,
          8.38279574833406,
          8.075022368353379,
          8.261985194708595,
          8.438097297449305,
          8.170813903891402,
          7.9287761245538615,
          8.026133844102274,
          7.989201728291788,
          8.071599004645849,
          7.825118078098878
         ]
        },
        {
         "mode": "lines",
         "name": "TSLA_growth",
         "type": "scatter",
         "x": [
          2024,
          2025,
          2026,
          2027,
          2028,
          2029,
          2030,
          2031,
          2032,
          2033,
          2034,
          2035,
          2036,
          2037,
          2038,
          2039,
          2040,
          2041,
          2042,
          2043,
          2044,
          2045,
          2046,
          2047,
          2048,
          2049,
          2050,
          2051,
          2052,
          2053,
          2054,
          2055,
          2056,
          2057,
          2058,
          2059,
          2060,
          2061,
          2062,
          2063,
          2064,
          2065,
          2066,
          2067,
          2068,
          2069,
          2070,
          2071,
          2072,
          2073,
          2074,
          2075,
          2076,
          2077,
          2078,
          2079,
          2080,
          2081,
          2082,
          2083,
          2084,
          2085,
          2086,
          2087,
          2088,
          2089,
          2090,
          2091,
          2092,
          2093,
          2094,
          2095
         ],
         "y": [
          8.062618780745746,
          7.790747739499226,
          7.925758511670506,
          7.992499541167016,
          7.747368294605885,
          8.426398372953544,
          8.127344131615162,
          7.882400953491617,
          8.103719699938148,
          7.891816443024223,
          8.344642941328278,
          8.114537213661514,
          7.681046548384476,
          8.162064773698523,
          7.969647218294828,
          8.146852458112772,
          7.949033111139194,
          8.12256917056347,
          8.297567083180448,
          7.99921235122253,
          8.034891334166305,
          7.96837678665682,
          8.00445777743534,
          8.091469270172857,
          7.882224756798995,
          7.977475222081145,
          8.152730227504,
          7.892674135284892,
          8.007556200488217,
          8.032045627483482,
          8.03148706994376,
          8.301226306635511,
          8.050358448102552,
          7.903211930339215,
          7.9571596064301575,
          8.201505358610714,
          7.9098888021072815,
          8.054329371210386,
          8.227226119216242,
          8.195281134279064,
          7.873852901112191,
          7.993137811924971,
          8.050797583012407,
          8.240318603355496,
          7.803966109807642,
          7.813949658543886,
          8.035921465565877,
          7.664815179916348,
          7.904822913587765,
          7.541589265609938,
          7.984602849053355,
          7.89483881843532,
          8.109799911296141,
          7.921647533665662,
          8.03821145465772,
          8.196867623989428,
          8.059659400544962,
          7.810123342546549,
          8.017800745463866,
          7.925672570234145,
          7.87304358282836,
          8.172212261093064,
          7.556244919050615,
          8.101993858257519,
          8.122911533201993,
          7.937247274796106,
          7.834337672107328,
          7.923230904864473,
          8.088983068046268,
          7.989751488744806,
          8.190999255559346,
          7.907444488418062
         ]
        },
        {
         "mode": "lines",
         "name": "Marcus_growth",
         "type": "scatter",
         "x": [
          2024,
          2025,
          2026,
          2027,
          2028,
          2029,
          2030,
          2031,
          2032,
          2033,
          2034,
          2035,
          2036,
          2037,
          2038,
          2039,
          2040,
          2041,
          2042,
          2043,
          2044,
          2045,
          2046,
          2047,
          2048,
          2049,
          2050,
          2051,
          2052,
          2053,
          2054,
          2055,
          2056,
          2057,
          2058,
          2059,
          2060,
          2061,
          2062,
          2063,
          2064,
          2065,
          2066,
          2067,
          2068,
          2069,
          2070,
          2071,
          2072,
          2073,
          2074,
          2075,
          2076,
          2077,
          2078,
          2079,
          2080,
          2081,
          2082,
          2083,
          2084,
          2085,
          2086,
          2087,
          2088,
          2089,
          2090,
          2091,
          2092,
          2093,
          2094,
          2095
         ],
         "y": [
          5,
          5,
          5,
          5,
          5,
          5,
          5,
          5,
          5,
          5,
          5,
          5,
          5,
          5,
          5,
          5,
          5,
          5,
          5,
          5,
          5,
          5,
          5,
          5,
          5,
          5,
          5,
          5,
          5,
          5,
          5,
          5,
          5,
          5,
          5,
          5,
          5,
          5,
          5,
          5,
          5,
          5,
          5,
          5,
          5,
          5,
          5,
          5,
          5,
          5,
          5,
          5,
          5,
          5,
          5,
          5,
          5,
          5,
          5,
          5,
          5,
          5,
          5,
          5,
          5,
          5,
          5,
          5,
          5,
          5,
          5,
          5
         ]
        },
        {
         "mode": "lines",
         "name": "ret_home_growth",
         "type": "scatter",
         "x": [
          2024,
          2025,
          2026,
          2027,
          2028,
          2029,
          2030,
          2031,
          2032,
          2033,
          2034,
          2035,
          2036,
          2037,
          2038,
          2039,
          2040,
          2041,
          2042,
          2043,
          2044,
          2045,
          2046,
          2047,
          2048,
          2049,
          2050,
          2051,
          2052,
          2053,
          2054,
          2055,
          2056,
          2057,
          2058,
          2059,
          2060,
          2061,
          2062,
          2063,
          2064,
          2065,
          2066,
          2067,
          2068,
          2069,
          2070,
          2071,
          2072,
          2073,
          2074,
          2075,
          2076,
          2077,
          2078,
          2079,
          2080,
          2081,
          2082,
          2083,
          2084,
          2085,
          2086,
          2087,
          2088,
          2089,
          2090,
          2091,
          2092,
          2093,
          2094,
          2095
         ],
         "y": [
          7,
          7,
          7,
          7,
          7,
          7,
          7,
          7,
          7,
          7,
          7,
          7,
          7,
          7,
          7,
          7,
          7,
          7,
          7,
          7,
          7,
          7,
          7,
          7,
          7,
          7,
          7,
          7,
          7,
          7,
          7,
          7,
          7,
          7,
          7,
          7,
          7,
          7,
          7,
          7,
          7,
          7,
          7,
          7,
          7,
          7,
          7,
          7,
          7,
          7,
          7,
          7,
          7,
          7,
          7,
          7,
          7,
          7,
          7,
          7,
          7,
          7,
          7,
          7,
          7,
          7,
          7,
          7,
          7,
          7,
          7,
          7
         ]
        },
        {
         "mode": "lines",
         "name": "us_rent_growth",
         "type": "scatter",
         "x": [
          2024,
          2025,
          2026,
          2027,
          2028,
          2029,
          2030,
          2031,
          2032,
          2033,
          2034,
          2035,
          2036,
          2037,
          2038,
          2039,
          2040,
          2041,
          2042,
          2043,
          2044,
          2045,
          2046,
          2047,
          2048,
          2049,
          2050,
          2051,
          2052,
          2053,
          2054,
          2055,
          2056,
          2057,
          2058,
          2059,
          2060,
          2061,
          2062,
          2063,
          2064,
          2065,
          2066,
          2067,
          2068,
          2069,
          2070,
          2071,
          2072,
          2073,
          2074,
          2075,
          2076,
          2077,
          2078,
          2079,
          2080,
          2081,
          2082,
          2083,
          2084,
          2085,
          2086,
          2087,
          2088,
          2089,
          2090,
          2091,
          2092,
          2093,
          2094,
          2095
         ],
         "y": [
          7.83,
          7.83,
          7.83,
          7.83,
          7.83,
          7.83,
          7.83,
          7.83,
          7.83,
          7.83,
          7.83,
          7.83,
          7.83,
          7.83,
          7.83,
          7.83,
          7.83,
          7.83,
          7.83,
          7.83,
          7.83,
          7.83,
          7.83,
          7.83,
          7.83,
          7.83,
          7.83,
          7.83,
          7.83,
          7.83,
          7.83,
          7.83,
          7.83,
          7.83,
          7.83,
          7.83,
          7.83,
          7.83,
          7.83,
          7.83,
          7.83,
          7.83,
          7.83,
          7.83,
          7.83,
          7.83,
          7.83,
          7.83,
          7.83,
          7.83,
          7.83,
          7.83,
          7.83,
          7.83,
          7.83,
          7.83,
          7.83,
          7.83,
          7.83,
          7.83,
          7.83,
          7.83,
          7.83,
          7.83,
          7.83,
          7.83,
          7.83,
          7.83,
          7.83,
          7.83,
          7.83,
          7.83
         ]
        },
        {
         "mode": "lines",
         "name": "Ind_land_growth",
         "type": "scatter",
         "x": [
          2024,
          2025,
          2026,
          2027,
          2028,
          2029,
          2030,
          2031,
          2032,
          2033,
          2034,
          2035,
          2036,
          2037,
          2038,
          2039,
          2040,
          2041,
          2042,
          2043,
          2044,
          2045,
          2046,
          2047,
          2048,
          2049,
          2050,
          2051,
          2052,
          2053,
          2054,
          2055,
          2056,
          2057,
          2058,
          2059,
          2060,
          2061,
          2062,
          2063,
          2064,
          2065,
          2066,
          2067,
          2068,
          2069,
          2070,
          2071,
          2072,
          2073,
          2074,
          2075,
          2076,
          2077,
          2078,
          2079,
          2080,
          2081,
          2082,
          2083,
          2084,
          2085,
          2086,
          2087,
          2088,
          2089,
          2090,
          2091,
          2092,
          2093,
          2094,
          2095
         ],
         "y": [
          5,
          5,
          5,
          5,
          5,
          5,
          5,
          5,
          5,
          5,
          5,
          5,
          5,
          5,
          5,
          5,
          5,
          5,
          5,
          5,
          5,
          5,
          5,
          5,
          5,
          5,
          5,
          5,
          5,
          5,
          5,
          5,
          5,
          5,
          5,
          5,
          5,
          5,
          5,
          5,
          5,
          5,
          5,
          5,
          5,
          5,
          5,
          5,
          5,
          5,
          5,
          5,
          5,
          5,
          5,
          5,
          5,
          5,
          5,
          5,
          5,
          5,
          5,
          5,
          5,
          5,
          5,
          5,
          5,
          5,
          5,
          5
         ]
        },
        {
         "mode": "lines",
         "name": "year",
         "type": "scatter",
         "x": [
          2024,
          2025,
          2026,
          2027,
          2028,
          2029,
          2030,
          2031,
          2032,
          2033,
          2034,
          2035,
          2036,
          2037,
          2038,
          2039,
          2040,
          2041,
          2042,
          2043,
          2044,
          2045,
          2046,
          2047,
          2048,
          2049,
          2050,
          2051,
          2052,
          2053,
          2054,
          2055,
          2056,
          2057,
          2058,
          2059,
          2060,
          2061,
          2062,
          2063,
          2064,
          2065,
          2066,
          2067,
          2068,
          2069,
          2070,
          2071,
          2072,
          2073,
          2074,
          2075,
          2076,
          2077,
          2078,
          2079,
          2080,
          2081,
          2082,
          2083,
          2084,
          2085,
          2086,
          2087,
          2088,
          2089,
          2090,
          2091,
          2092,
          2093,
          2094,
          2095
         ],
         "y": [
          2024,
          2025,
          2026,
          2027,
          2028,
          2029,
          2030,
          2031,
          2032,
          2033,
          2034,
          2035,
          2036,
          2037,
          2038,
          2039,
          2040,
          2041,
          2042,
          2043,
          2044,
          2045,
          2046,
          2047,
          2048,
          2049,
          2050,
          2051,
          2052,
          2053,
          2054,
          2055,
          2056,
          2057,
          2058,
          2059,
          2060,
          2061,
          2062,
          2063,
          2064,
          2065,
          2066,
          2067,
          2068,
          2069,
          2070,
          2071,
          2072,
          2073,
          2074,
          2075,
          2076,
          2077,
          2078,
          2079,
          2080,
          2081,
          2082,
          2083,
          2084,
          2085,
          2086,
          2087,
          2088,
          2089,
          2090,
          2091,
          2092,
          2093,
          2094,
          2095
         ]
        },
        {
         "mode": "lines",
         "name": "age",
         "type": "scatter",
         "x": [
          2024,
          2025,
          2026,
          2027,
          2028,
          2029,
          2030,
          2031,
          2032,
          2033,
          2034,
          2035,
          2036,
          2037,
          2038,
          2039,
          2040,
          2041,
          2042,
          2043,
          2044,
          2045,
          2046,
          2047,
          2048,
          2049,
          2050,
          2051,
          2052,
          2053,
          2054,
          2055,
          2056,
          2057,
          2058,
          2059,
          2060,
          2061,
          2062,
          2063,
          2064,
          2065,
          2066,
          2067,
          2068,
          2069,
          2070,
          2071,
          2072,
          2073,
          2074,
          2075,
          2076,
          2077,
          2078,
          2079,
          2080,
          2081,
          2082,
          2083,
          2084,
          2085,
          2086,
          2087,
          2088,
          2089,
          2090,
          2091,
          2092,
          2093,
          2094,
          2095
         ],
         "y": [
          32,
          33,
          34,
          35,
          36,
          37,
          38,
          39,
          40,
          41,
          42,
          43,
          44,
          45,
          46,
          47,
          48,
          49,
          50,
          51,
          52,
          53,
          54,
          55,
          56,
          57,
          58,
          59,
          60,
          61,
          62,
          63,
          64,
          65,
          66,
          67,
          68,
          69,
          70,
          71,
          72,
          73,
          74,
          75,
          76,
          77,
          78,
          79,
          80,
          81,
          82,
          83,
          84,
          85,
          86,
          87,
          88,
          89,
          90,
          91,
          92,
          93,
          94,
          95,
          96,
          97,
          98,
          99,
          100,
          101,
          102,
          103
         ]
        },
        {
         "mode": "lines",
         "name": "living_expense",
         "type": "scatter",
         "x": [
          2024,
          2025,
          2026,
          2027,
          2028,
          2029,
          2030,
          2031,
          2032,
          2033,
          2034,
          2035,
          2036,
          2037,
          2038,
          2039,
          2040,
          2041,
          2042,
          2043,
          2044,
          2045,
          2046,
          2047,
          2048,
          2049,
          2050,
          2051,
          2052,
          2053,
          2054,
          2055,
          2056,
          2057,
          2058,
          2059,
          2060,
          2061,
          2062,
          2063,
          2064,
          2065,
          2066,
          2067,
          2068,
          2069,
          2070,
          2071,
          2072,
          2073,
          2074,
          2075,
          2076,
          2077,
          2078,
          2079,
          2080,
          2081,
          2082,
          2083,
          2084,
          2085,
          2086,
          2087,
          2088,
          2089,
          2090,
          2091,
          2092,
          2093,
          2094,
          2095
         ],
         "y": [
          0,
          0,
          0,
          0,
          2576789.977760687,
          2578855.1882320014,
          2575344.500015399,
          2577306.189946465,
          2576800.351522438,
          2577105.951128098,
          2578423.8767797663,
          2576778.5251814337,
          2576949.487311217,
          2576579.6662678793,
          2576981.3283225833,
          2578717.351692718,
          2577339.3320245496,
          2578426.161990183,
          2576840.1657192083,
          2577978.560034984,
          2576623.51519606,
          2576723.034404237,
          2574796.564968004,
          2578469.5466451496,
          2577177.689532655,
          2575232.501940386,
          2576092.1693951907,
          2575223.6121854447,
          2575427.4180547176,
          2574584.2657461464,
          2573753.960132888,
          2576666.874909792,
          2575837.1328895255,
          2576394.742773129,
          2578946.072442283,
          2577527.5608362528,
          2577967.8067798144,
          2578193.7528195707,
          2575787.7997547006,
          2577224.033068822,
          2577377.358012345,
          2576790.89278088,
          2576430.789646457,
          2576318.5708735026,
          2577497.0703510316,
          2575977.7343090735,
          2576584.88019669,
          2577765.0697191055,
          2576542.8732238486,
          2578373.5543370876,
          2577699.508125732,
          2576693.266287365,
          2576215.9980921308,
          2577463.2753408547,
          2578942.381616176,
          2577804.543470978,
          2577503.8183760033,
          2580150.8638155637,
          2577887.40570628,
          2578343.743748718,
          2577555.0931942817,
          2576800.7214682284,
          2577052.0239303038,
          2575625.9167376086,
          2576753.2397062993,
          2578042.300928059,
          2575526.0089044003,
          2579340.3420141954,
          2578992.408705728,
          2577158.181506438,
          2578313.661613589,
          2577742.9715359146
         ]
        },
        {
         "mode": "lines",
         "name": "unexpected_expense",
         "type": "scatter",
         "x": [
          2024,
          2025,
          2026,
          2027,
          2028,
          2029,
          2030,
          2031,
          2032,
          2033,
          2034,
          2035,
          2036,
          2037,
          2038,
          2039,
          2040,
          2041,
          2042,
          2043,
          2044,
          2045,
          2046,
          2047,
          2048,
          2049,
          2050,
          2051,
          2052,
          2053,
          2054,
          2055,
          2056,
          2057,
          2058,
          2059,
          2060,
          2061,
          2062,
          2063,
          2064,
          2065,
          2066,
          2067,
          2068,
          2069,
          2070,
          2071,
          2072,
          2073,
          2074,
          2075,
          2076,
          2077,
          2078,
          2079,
          2080,
          2081,
          2082,
          2083,
          2084,
          2085,
          2086,
          2087,
          2088,
          2089,
          2090,
          2091,
          2092,
          2093,
          2094,
          2095
         ],
         "y": [
          0,
          0,
          0,
          0,
          134185.62031823996,
          138418.1851964751,
          140104.35233944506,
          164091.14233058196,
          205371.23946066087,
          105872.47517030197,
          197317.12092164185,
          365632.7103757921,
          19370.786231615468,
          218652.52494089794,
          309308.65972000774,
          166267.991878384,
          259270.11836854572,
          102314.85232505143,
          69236.09364129185,
          25643.78294802452,
          96043.61734946098,
          36447.47726466673,
          210584.86302636692,
          87711.5306530641,
          152480.80500968432,
          362683.19978130533,
          343548.61771404365,
          313350.65429212176,
          188231.8521865991,
          98383.29628715855,
          78554.30069371908,
          236974.00105281203,
          142664.30062694376,
          260371.68878834337,
          238843.86905043724,
          189405.7548315656,
          81174.99982160248,
          187529.43057280497,
          57751.92629663363,
          259666.59934216095,
          137129.34359227904,
          39438.73394184972,
          302716.57229928434,
          162418.475953507,
          115540.39635026026,
          50607.05799962308,
          365234.694629188,
          236315.81946127024,
          41717.05343097744,
          115101.53789425755,
          59384.81746005666,
          291467.587995477,
          227593.05280475924,
          346708.7268025704,
          144037.0158449544,
          101236.4098805696,
          100422.68408258105,
          141453.50687041605,
          354074.26142001746,
          49681.87806274009,
          378301.5913804675,
          270398.0301823419,
          55048.13763876616,
          133012.14443933073,
          103595.92315289022,
          239828.59795207105,
          78637.18549869159,
          234321.09061628548,
          283506.44172803534,
          359601.4191929932,
          215396.00851784233,
          181887.20662187718
         ]
        }
       ],
       "layout": {
        "autosize": true,
        "template": {
         "data": {
          "bar": [
           {
            "error_x": {
             "color": "#f2f5fa"
            },
            "error_y": {
             "color": "#f2f5fa"
            },
            "marker": {
             "line": {
              "color": "rgb(17,17,17)",
              "width": 0.5
             },
             "pattern": {
              "fillmode": "overlay",
              "size": 10,
              "solidity": 0.2
             }
            },
            "type": "bar"
           }
          ],
          "barpolar": [
           {
            "marker": {
             "line": {
              "color": "rgb(17,17,17)",
              "width": 0.5
             },
             "pattern": {
              "fillmode": "overlay",
              "size": 10,
              "solidity": 0.2
             }
            },
            "type": "barpolar"
           }
          ],
          "carpet": [
           {
            "aaxis": {
             "endlinecolor": "#A2B1C6",
             "gridcolor": "#506784",
             "linecolor": "#506784",
             "minorgridcolor": "#506784",
             "startlinecolor": "#A2B1C6"
            },
            "baxis": {
             "endlinecolor": "#A2B1C6",
             "gridcolor": "#506784",
             "linecolor": "#506784",
             "minorgridcolor": "#506784",
             "startlinecolor": "#A2B1C6"
            },
            "type": "carpet"
           }
          ],
          "choropleth": [
           {
            "colorbar": {
             "outlinewidth": 0,
             "ticks": ""
            },
            "type": "choropleth"
           }
          ],
          "contour": [
           {
            "colorbar": {
             "outlinewidth": 0,
             "ticks": ""
            },
            "colorscale": [
             [
              0,
              "#0d0887"
             ],
             [
              0.1111111111111111,
              "#46039f"
             ],
             [
              0.2222222222222222,
              "#7201a8"
             ],
             [
              0.3333333333333333,
              "#9c179e"
             ],
             [
              0.4444444444444444,
              "#bd3786"
             ],
             [
              0.5555555555555556,
              "#d8576b"
             ],
             [
              0.6666666666666666,
              "#ed7953"
             ],
             [
              0.7777777777777778,
              "#fb9f3a"
             ],
             [
              0.8888888888888888,
              "#fdca26"
             ],
             [
              1,
              "#f0f921"
             ]
            ],
            "type": "contour"
           }
          ],
          "contourcarpet": [
           {
            "colorbar": {
             "outlinewidth": 0,
             "ticks": ""
            },
            "type": "contourcarpet"
           }
          ],
          "heatmap": [
           {
            "colorbar": {
             "outlinewidth": 0,
             "ticks": ""
            },
            "colorscale": [
             [
              0,
              "#0d0887"
             ],
             [
              0.1111111111111111,
              "#46039f"
             ],
             [
              0.2222222222222222,
              "#7201a8"
             ],
             [
              0.3333333333333333,
              "#9c179e"
             ],
             [
              0.4444444444444444,
              "#bd3786"
             ],
             [
              0.5555555555555556,
              "#d8576b"
             ],
             [
              0.6666666666666666,
              "#ed7953"
             ],
             [
              0.7777777777777778,
              "#fb9f3a"
             ],
             [
              0.8888888888888888,
              "#fdca26"
             ],
             [
              1,
              "#f0f921"
             ]
            ],
            "type": "heatmap"
           }
          ],
          "heatmapgl": [
           {
            "colorbar": {
             "outlinewidth": 0,
             "ticks": ""
            },
            "colorscale": [
             [
              0,
              "#0d0887"
             ],
             [
              0.1111111111111111,
              "#46039f"
             ],
             [
              0.2222222222222222,
              "#7201a8"
             ],
             [
              0.3333333333333333,
              "#9c179e"
             ],
             [
              0.4444444444444444,
              "#bd3786"
             ],
             [
              0.5555555555555556,
              "#d8576b"
             ],
             [
              0.6666666666666666,
              "#ed7953"
             ],
             [
              0.7777777777777778,
              "#fb9f3a"
             ],
             [
              0.8888888888888888,
              "#fdca26"
             ],
             [
              1,
              "#f0f921"
             ]
            ],
            "type": "heatmapgl"
           }
          ],
          "histogram": [
           {
            "marker": {
             "pattern": {
              "fillmode": "overlay",
              "size": 10,
              "solidity": 0.2
             }
            },
            "type": "histogram"
           }
          ],
          "histogram2d": [
           {
            "colorbar": {
             "outlinewidth": 0,
             "ticks": ""
            },
            "colorscale": [
             [
              0,
              "#0d0887"
             ],
             [
              0.1111111111111111,
              "#46039f"
             ],
             [
              0.2222222222222222,
              "#7201a8"
             ],
             [
              0.3333333333333333,
              "#9c179e"
             ],
             [
              0.4444444444444444,
              "#bd3786"
             ],
             [
              0.5555555555555556,
              "#d8576b"
             ],
             [
              0.6666666666666666,
              "#ed7953"
             ],
             [
              0.7777777777777778,
              "#fb9f3a"
             ],
             [
              0.8888888888888888,
              "#fdca26"
             ],
             [
              1,
              "#f0f921"
             ]
            ],
            "type": "histogram2d"
           }
          ],
          "histogram2dcontour": [
           {
            "colorbar": {
             "outlinewidth": 0,
             "ticks": ""
            },
            "colorscale": [
             [
              0,
              "#0d0887"
             ],
             [
              0.1111111111111111,
              "#46039f"
             ],
             [
              0.2222222222222222,
              "#7201a8"
             ],
             [
              0.3333333333333333,
              "#9c179e"
             ],
             [
              0.4444444444444444,
              "#bd3786"
             ],
             [
              0.5555555555555556,
              "#d8576b"
             ],
             [
              0.6666666666666666,
              "#ed7953"
             ],
             [
              0.7777777777777778,
              "#fb9f3a"
             ],
             [
              0.8888888888888888,
              "#fdca26"
             ],
             [
              1,
              "#f0f921"
             ]
            ],
            "type": "histogram2dcontour"
           }
          ],
          "mesh3d": [
           {
            "colorbar": {
             "outlinewidth": 0,
             "ticks": ""
            },
            "type": "mesh3d"
           }
          ],
          "parcoords": [
           {
            "line": {
             "colorbar": {
              "outlinewidth": 0,
              "ticks": ""
             }
            },
            "type": "parcoords"
           }
          ],
          "pie": [
           {
            "automargin": true,
            "type": "pie"
           }
          ],
          "scatter": [
           {
            "marker": {
             "line": {
              "color": "#283442"
             }
            },
            "type": "scatter"
           }
          ],
          "scatter3d": [
           {
            "line": {
             "colorbar": {
              "outlinewidth": 0,
              "ticks": ""
             }
            },
            "marker": {
             "colorbar": {
              "outlinewidth": 0,
              "ticks": ""
             }
            },
            "type": "scatter3d"
           }
          ],
          "scattercarpet": [
           {
            "marker": {
             "colorbar": {
              "outlinewidth": 0,
              "ticks": ""
             }
            },
            "type": "scattercarpet"
           }
          ],
          "scattergeo": [
           {
            "marker": {
             "colorbar": {
              "outlinewidth": 0,
              "ticks": ""
             }
            },
            "type": "scattergeo"
           }
          ],
          "scattergl": [
           {
            "marker": {
             "line": {
              "color": "#283442"
             }
            },
            "type": "scattergl"
           }
          ],
          "scattermapbox": [
           {
            "marker": {
             "colorbar": {
              "outlinewidth": 0,
              "ticks": ""
             }
            },
            "type": "scattermapbox"
           }
          ],
          "scatterpolar": [
           {
            "marker": {
             "colorbar": {
              "outlinewidth": 0,
              "ticks": ""
             }
            },
            "type": "scatterpolar"
           }
          ],
          "scatterpolargl": [
           {
            "marker": {
             "colorbar": {
              "outlinewidth": 0,
              "ticks": ""
             }
            },
            "type": "scatterpolargl"
           }
          ],
          "scatterternary": [
           {
            "marker": {
             "colorbar": {
              "outlinewidth": 0,
              "ticks": ""
             }
            },
            "type": "scatterternary"
           }
          ],
          "surface": [
           {
            "colorbar": {
             "outlinewidth": 0,
             "ticks": ""
            },
            "colorscale": [
             [
              0,
              "#0d0887"
             ],
             [
              0.1111111111111111,
              "#46039f"
             ],
             [
              0.2222222222222222,
              "#7201a8"
             ],
             [
              0.3333333333333333,
              "#9c179e"
             ],
             [
              0.4444444444444444,
              "#bd3786"
             ],
             [
              0.5555555555555556,
              "#d8576b"
             ],
             [
              0.6666666666666666,
              "#ed7953"
             ],
             [
              0.7777777777777778,
              "#fb9f3a"
             ],
             [
              0.8888888888888888,
              "#fdca26"
             ],
             [
              1,
              "#f0f921"
             ]
            ],
            "type": "surface"
           }
          ],
          "table": [
           {
            "cells": {
             "fill": {
              "color": "#506784"
             },
             "line": {
              "color": "rgb(17,17,17)"
             }
            },
            "header": {
             "fill": {
              "color": "#2a3f5f"
             },
             "line": {
              "color": "rgb(17,17,17)"
             }
            },
            "type": "table"
           }
          ]
         },
         "layout": {
          "annotationdefaults": {
           "arrowcolor": "#f2f5fa",
           "arrowhead": 0,
           "arrowwidth": 1
          },
          "autotypenumbers": "strict",
          "coloraxis": {
           "colorbar": {
            "outlinewidth": 0,
            "ticks": ""
           }
          },
          "colorscale": {
           "diverging": [
            [
             0,
             "#8e0152"
            ],
            [
             0.1,
             "#c51b7d"
            ],
            [
             0.2,
             "#de77ae"
            ],
            [
             0.3,
             "#f1b6da"
            ],
            [
             0.4,
             "#fde0ef"
            ],
            [
             0.5,
             "#f7f7f7"
            ],
            [
             0.6,
             "#e6f5d0"
            ],
            [
             0.7,
             "#b8e186"
            ],
            [
             0.8,
             "#7fbc41"
            ],
            [
             0.9,
             "#4d9221"
            ],
            [
             1,
             "#276419"
            ]
           ],
           "sequential": [
            [
             0,
             "#0d0887"
            ],
            [
             0.1111111111111111,
             "#46039f"
            ],
            [
             0.2222222222222222,
             "#7201a8"
            ],
            [
             0.3333333333333333,
             "#9c179e"
            ],
            [
             0.4444444444444444,
             "#bd3786"
            ],
            [
             0.5555555555555556,
             "#d8576b"
            ],
            [
             0.6666666666666666,
             "#ed7953"
            ],
            [
             0.7777777777777778,
             "#fb9f3a"
            ],
            [
             0.8888888888888888,
             "#fdca26"
            ],
            [
             1,
             "#f0f921"
            ]
           ],
           "sequentialminus": [
            [
             0,
             "#0d0887"
            ],
            [
             0.1111111111111111,
             "#46039f"
            ],
            [
             0.2222222222222222,
             "#7201a8"
            ],
            [
             0.3333333333333333,
             "#9c179e"
            ],
            [
             0.4444444444444444,
             "#bd3786"
            ],
            [
             0.5555555555555556,
             "#d8576b"
            ],
            [
             0.6666666666666666,
             "#ed7953"
            ],
            [
             0.7777777777777778,
             "#fb9f3a"
            ],
            [
             0.8888888888888888,
             "#fdca26"
            ],
            [
             1,
             "#f0f921"
            ]
           ]
          },
          "colorway": [
           "#636efa",
           "#EF553B",
           "#00cc96",
           "#ab63fa",
           "#FFA15A",
           "#19d3f3",
           "#FF6692",
           "#B6E880",
           "#FF97FF",
           "#FECB52"
          ],
          "font": {
           "color": "#f2f5fa"
          },
          "geo": {
           "bgcolor": "rgb(17,17,17)",
           "lakecolor": "rgb(17,17,17)",
           "landcolor": "rgb(17,17,17)",
           "showlakes": true,
           "showland": true,
           "subunitcolor": "#506784"
          },
          "hoverlabel": {
           "align": "left"
          },
          "hovermode": "closest",
          "mapbox": {
           "style": "dark"
          },
          "paper_bgcolor": "rgb(17,17,17)",
          "plot_bgcolor": "rgb(17,17,17)",
          "polar": {
           "angularaxis": {
            "gridcolor": "#506784",
            "linecolor": "#506784",
            "ticks": ""
           },
           "bgcolor": "rgb(17,17,17)",
           "radialaxis": {
            "gridcolor": "#506784",
            "linecolor": "#506784",
            "ticks": ""
           }
          },
          "scene": {
           "xaxis": {
            "backgroundcolor": "rgb(17,17,17)",
            "gridcolor": "#506784",
            "gridwidth": 2,
            "linecolor": "#506784",
            "showbackground": true,
            "ticks": "",
            "zerolinecolor": "#C8D4E3"
           },
           "yaxis": {
            "backgroundcolor": "rgb(17,17,17)",
            "gridcolor": "#506784",
            "gridwidth": 2,
            "linecolor": "#506784",
            "showbackground": true,
            "ticks": "",
            "zerolinecolor": "#C8D4E3"
           },
           "zaxis": {
            "backgroundcolor": "rgb(17,17,17)",
            "gridcolor": "#506784",
            "gridwidth": 2,
            "linecolor": "#506784",
            "showbackground": true,
            "ticks": "",
            "zerolinecolor": "#C8D4E3"
           }
          },
          "shapedefaults": {
           "line": {
            "color": "#f2f5fa"
           }
          },
          "sliderdefaults": {
           "bgcolor": "#C8D4E3",
           "bordercolor": "rgb(17,17,17)",
           "borderwidth": 1,
           "tickwidth": 0
          },
          "ternary": {
           "aaxis": {
            "gridcolor": "#506784",
            "linecolor": "#506784",
            "ticks": ""
           },
           "baxis": {
            "gridcolor": "#506784",
            "linecolor": "#506784",
            "ticks": ""
           },
           "bgcolor": "rgb(17,17,17)",
           "caxis": {
            "gridcolor": "#506784",
            "linecolor": "#506784",
            "ticks": ""
           }
          },
          "title": {
           "x": 0.05
          },
          "updatemenudefaults": {
           "bgcolor": "#506784",
           "borderwidth": 0
          },
          "xaxis": {
           "automargin": true,
           "gridcolor": "#283442",
           "linecolor": "#506784",
           "ticks": "",
           "title": {
            "standoff": 15
           },
           "zerolinecolor": "#283442",
           "zerolinewidth": 2
          },
          "yaxis": {
           "automargin": true,
           "gridcolor": "#283442",
           "linecolor": "#506784",
           "ticks": "",
           "title": {
            "standoff": 15
           },
           "zerolinecolor": "#283442",
           "zerolinewidth": 2
          }
         }
        },
        "title": {
         "text": "Variables_movement"
        },
        "xaxis": {
         "autorange": true,
         "range": [
          2024,
          2095
         ],
         "title": {
          "text": "Year"
         },
         "type": "linear"
        },
        "yaxis": {
         "autorange": true,
         "range": [
          -143341.71465642023,
          2723492.578471984
         ],
         "title": {
          "text": "Value"
         },
         "type": "linear"
        }
       }
      },
      "image/png": "[encoded data removed]",
      "text/html": [
       "<div>                            <div id=\"f899e78c-5443-4345-8f6e-6a68ac3c7e6c\" class=\"plotly-graph-div\" style=\"height:525px; width:100%;\"></div>            <script type=\"text/javascript\">                require([\"plotly\"], function(Plotly) {                    window.PLOTLYENV=window.PLOTLYENV || {};                                    if (document.getElementById(\"f899e78c-5443-4345-8f6e-6a68ac3c7e6c\")) {                    Plotly.newPlot(                        \"f899e78c-5443-4345-8f6e-6a68ac3c7e6c\",                        [{\"mode\":\"lines\",\"name\":\"USD_INR_growth\",\"x\":[2024,2025,2026,2027,2028,2029,2030,2031,2032,2033,2034,2035,2036,2037,2038,2039,2040,2041,2042,2043,2044,2045,2046,2047,2048,2049,2050,2051,2052,2053,2054,2055,2056,2057,2058,2059,2060,2061,2062,2063,2064,2065,2066,2067,2068,2069,2070,2071,2072,2073,2074,2075,2076,2077,2078,2079,2080,2081,2082,2083,2084,2085,2086,2087,2088,2089,2090,2091,2092,2093,2094,2095],\"y\":[2.9701201989153008,3.0344818650523493,3.0731619146495133,3.0715535806201943,3.1005682957543703,2.996249718753521,3.020823553549259,3.111302953538112,3.0763982331466733,2.9719978758780763,3.0619248144310625,3.0659729224517758,3.0480355210822028,3.112398019452551,2.9821035708582992,3.0517708226326845,3.0840582532677874,3.002875932388085,3.040081739469393,3.101767978561479,3.0811614860905765,3.072954148230374,3.0602026331615693,2.967099709464832,3.048497897480192,2.9871901329391175,3.1140507640639337,3.090748371923554,3.0627658694100037,3.007128152516854,3.014657628074905,3.0553877161128677,3.1111532317351367,3.0478694141676845,3.023676096596119,2.9607084621680912,2.9624097404705116,3.050460869221038,3.031878704554559,3.044543033196641,2.994156354549402,3.035597627381133,2.9586685761676965,2.966454625564935,2.988748334459912,3.0368935067271887,2.976691967762986,3.019694760996244,2.931495026987002,3.0181467538524305,3.0530742870572736,3.042243490132192,3.1209871207710282,3.0464862037468254,3.0088075430747936,2.996106674142066,2.9858718297725413,3.0024417698781383,2.9734975588510966,3.034806579472957,3.053899508405121,3.0312794329356523,3.022313261292982,3.0610424942784302,3.03514651331432,3.026073008962854,2.9259845624334258,2.9832093741735872,3.0937763030696326,3.0790412803953933,3.0348456874106406,3.0773943872295173],\"type\":\"scatter\"},{\"mode\":\"lines\",\"name\":\"Inflation_growth\",\"x\":[2024,2025,2026,2027,2028,2029,2030,2031,2032,2033,2034,2035,2036,2037,2038,2039,2040,2041,2042,2043,2044,2045,2046,2047,2048,2049,2050,2051,2052,2053,2054,2055,2056,2057,2058,2059,2060,2061,2062,2063,2064,2065,2066,2067,2068,2069,2070,2071,2072,2073,2074,2075,2076,2077,2078,2079,2080,2081,2082,2083,2084,2085,2086,2087,2088,2089,2090,2091,2092,2093,2094,2095],\"y\":[7.314483079358519,7.387987682397114,7.300001616634043,7.366249073361975,7.452299509666734,7.30602083397496,7.387757914436042,7.366681313434933,7.3794146303374255,7.4343281991569325,7.365771882559729,7.372895304634035,7.357486094494969,7.374222013440975,7.446556320529912,7.389138834356225,7.434423416257625,7.368340238300351,7.415773334790974,7.359313133169147,7.363459766843198,7.283190207000158,7.436231110214572,7.382403730527274,7.30135424751609,7.337173724799605,7.300983841060193,7.309475752279886,7.274344406089423,7.239748338870345,7.36111978790802,7.326547203730233,7.349780948880368,7.456086351761772,7.396981701510526,7.415325282492278,7.424739700815448,7.324491656445857,7.384334711200931,7.3907232505143785,7.366287199203347,7.3512829019357255,7.34660711972927,7.395711264626333,7.332405596211391,7.357703341528763,7.406877904962726,7.35595305099371,7.432231430711996,7.404146171905503,7.362219428640218,7.34233325383877,7.394303139202279,7.455932567340667,7.408522644624084,7.395992432333458,7.506285992315147,7.4119752377616654,7.430989322863261,7.398128883095069,7.366696727842845,7.377167663762654,7.317746530733703,7.3647183210957925,7.4184292053358,7.3135837043500045,7.472514250591487,7.458017029405334,7.381590896101607,7.429735900566215,7.405957147329785,7.428565870038658],\"type\":\"scatter\"},{\"mode\":\"lines\",\"name\":\"unexpected_expense_rate\",\"x\":[2024,2025,2026,2027,2028,2029,2030,2031,2032,2033,2034,2035,2036,2037,2038,2039,2040,2041,2042,2043,2044,2045,2046,2047,2048,2049,2050,2051,2052,2053,2054,2055,2056,2057,2058,2059,2060,2061,2062,2063,2064,2065,2066,2067,2068,2069,2070,2071,2072,2073,2074,2075,2076,2077,2078,2079,2080,2081,2082,2083,2084,2085,2086,2087,2088,2089,2090,2091,2092,2093,2094,2095],\"y\":[3.1304579483285813,1.6607446623975253,8.793221665791659,12.698408649440005,5.207472144658509,5.367427602298644,5.440217894678065,6.366769418808962,7.970009758005598,4.1081925686430365,7.6526254158053435,14.189528001831183,0.7516944483000674,8.486154253387067,12.002751293558806,6.447701287201662,10.059603527832094,3.9681125577037553,2.686860231471428,0.9947244459502613,3.7274990615830363,1.4144895193632534,8.178699082153846,3.4016896095277023,5.916580980387704,14.083512828765201,13.3360374987942,12.167900791582097,7.308761678431426,3.8213274894945357,3.052129376409514,9.196920384250618,5.53856060250617,10.10604797726336,9.261297535556846,7.348350322590336,3.148798041935195,7.273674849600368,2.2421073002261096,10.075437603030718,5.320499272874509,1.530536841477553,11.749454847216125,6.304285416785196,4.4826586877371195,1.9645766857995322,14.175147010926606,9.167469225076479,1.6191096163977197,4.464114119563669,2.303791317523891,11.31169129864801,8.834393271888223,13.45154866490659,5.585119577378423,3.9272337438065104,3.896121641668564,5.482373486534527,13.735055326165787,1.926891175127269,14.67676063954274,10.493556134533856,2.1360894979066565,5.164264871500023,4.020405274224014,9.302740993262063,3.053247578429346,9.084535561263124,10.992914937284114,13.953408904951022,8.354142931664908,7.056064496356751],\"type\":\"scatter\"},{\"mode\":\"lines\",\"name\":\"Ret_accnts_growth\",\"x\":[2024,2025,2026,2027,2028,2029,2030,2031,2032,2033,2034,2035,2036,2037,2038,2039,2040,2041,2042,2043,2044,2045,2046,2047,2048,2049,2050,2051,2052,2053,2054,2055,2056,2057,2058,2059,2060,2061,2062,2063,2064,2065,2066,2067,2068,2069,2070,2071,2072,2073,2074,2075,2076,2077,2078,2079,2080,2081,2082,2083,2084,2085,2086,2087,2088,2089,2090,2091,2092,2093,2094,2095],\"y\":[8.115997090124027,8.115634971129483,7.92162325907608,8.188564549106795,8.147483075439734,7.85999813142334,7.666526150877917,7.973890003792811,7.658565836754241,7.887145100732535,7.935820453578141,8.038533531894114,7.969588715806583,7.873205843733736,8.032380816753124,8.156539676282994,7.665813555549272,8.104483144699236,8.316227613339182,8.169243973808573,8.301715349041077,8.140399905376148,7.884056326455554,8.003100340790054,8.131112368161734,8.233357004009436,7.816278824218198,8.119305321326411,8.06585531035739,7.974497485266722,7.835415377885139,8.3528090456888,7.899592802208239,8.112956628259239,7.8898197931326575,7.966910728373429,7.551175664280317,7.950062953165258,8.014518948593848,8.310556397874134,8.140504774101696,7.923074656856187,8.17100672083938,7.740285484489209,7.7877771282280905,7.804707985341079,7.82007991272707,8.077701325123924,8.062413986153574,7.820795219091469,8.000873659018549,7.760496721995855,8.078543426727999,8.196324576776487,8.19459682458445,7.746687778433594,8.412516075935827,7.9034893231573715,7.839996070154339,8.084537952696492,8.208449811681799,7.876215519510146,8.38279574833406,8.075022368353379,8.261985194708595,8.438097297449305,8.170813903891402,7.9287761245538615,8.026133844102274,7.989201728291788,8.071599004645849,7.825118078098878],\"type\":\"scatter\"},{\"mode\":\"lines\",\"name\":\"TSLA_growth\",\"x\":[2024,2025,2026,2027,2028,2029,2030,2031,2032,2033,2034,2035,2036,2037,2038,2039,2040,2041,2042,2043,2044,2045,2046,2047,2048,2049,2050,2051,2052,2053,2054,2055,2056,2057,2058,2059,2060,2061,2062,2063,2064,2065,2066,2067,2068,2069,2070,2071,2072,2073,2074,2075,2076,2077,2078,2079,2080,2081,2082,2083,2084,2085,2086,2087,2088,2089,2090,2091,2092,2093,2094,2095],\"y\":[8.062618780745746,7.790747739499226,7.925758511670506,7.992499541167016,7.747368294605885,8.426398372953544,8.127344131615162,7.882400953491617,8.103719699938148,7.891816443024223,8.344642941328278,8.114537213661514,7.681046548384476,8.162064773698523,7.969647218294828,8.146852458112772,7.949033111139194,8.12256917056347,8.297567083180448,7.99921235122253,8.034891334166305,7.96837678665682,8.00445777743534,8.091469270172857,7.882224756798995,7.977475222081145,8.152730227504,7.892674135284892,8.007556200488217,8.032045627483482,8.03148706994376,8.301226306635511,8.050358448102552,7.903211930339215,7.9571596064301575,8.201505358610714,7.9098888021072815,8.054329371210386,8.227226119216242,8.195281134279064,7.873852901112191,7.993137811924971,8.050797583012407,8.240318603355496,7.803966109807642,7.813949658543886,8.035921465565877,7.664815179916348,7.904822913587765,7.541589265609938,7.984602849053355,7.89483881843532,8.109799911296141,7.921647533665662,8.03821145465772,8.196867623989428,8.059659400544962,7.810123342546549,8.017800745463866,7.925672570234145,7.87304358282836,8.172212261093064,7.556244919050615,8.101993858257519,8.122911533201993,7.937247274796106,7.834337672107328,7.923230904864473,8.088983068046268,7.989751488744806,8.190999255559346,7.907444488418062],\"type\":\"scatter\"},{\"mode\":\"lines\",\"name\":\"Marcus_growth\",\"x\":[2024,2025,2026,2027,2028,2029,2030,2031,2032,2033,2034,2035,2036,2037,2038,2039,2040,2041,2042,2043,2044,2045,2046,2047,2048,2049,2050,2051,2052,2053,2054,2055,2056,2057,2058,2059,2060,2061,2062,2063,2064,2065,2066,2067,2068,2069,2070,2071,2072,2073,2074,2075,2076,2077,2078,2079,2080,2081,2082,2083,2084,2085,2086,2087,2088,2089,2090,2091,2092,2093,2094,2095],\"y\":[5.0,5.0,5.0,5.0,5.0,5.0,5.0,5.0,5.0,5.0,5.0,5.0,5.0,5.0,5.0,5.0,5.0,5.0,5.0,5.0,5.0,5.0,5.0,5.0,5.0,5.0,5.0,5.0,5.0,5.0,5.0,5.0,5.0,5.0,5.0,5.0,5.0,5.0,5.0,5.0,5.0,5.0,5.0,5.0,5.0,5.0,5.0,5.0,5.0,5.0,5.0,5.0,5.0,5.0,5.0,5.0,5.0,5.0,5.0,5.0,5.0,5.0,5.0,5.0,5.0,5.0,5.0,5.0,5.0,5.0,5.0,5.0],\"type\":\"scatter\"},{\"mode\":\"lines\",\"name\":\"ret_home_growth\",\"x\":[2024,2025,2026,2027,2028,2029,2030,2031,2032,2033,2034,2035,2036,2037,2038,2039,2040,2041,2042,2043,2044,2045,2046,2047,2048,2049,2050,2051,2052,2053,2054,2055,2056,2057,2058,2059,2060,2061,2062,2063,2064,2065,2066,2067,2068,2069,2070,2071,2072,2073,2074,2075,2076,2077,2078,2079,2080,2081,2082,2083,2084,2085,2086,2087,2088,2089,2090,2091,2092,2093,2094,2095],\"y\":[7.0,7.0,7.0,7.0,7.0,7.0,7.0,7.0,7.0,7.0,7.0,7.0,7.0,7.0,7.0,7.0,7.0,7.0,7.0,7.0,7.0,7.0,7.0,7.0,7.0,7.0,7.0,7.0,7.0,7.0,7.0,7.0,7.0,7.0,7.0,7.0,7.0,7.0,7.0,7.0,7.0,7.0,7.0,7.0,7.0,7.0,7.0,7.0,7.0,7.0,7.0,7.0,7.0,7.0,7.0,7.0,7.0,7.0,7.0,7.0,7.0,7.0,7.0,7.0,7.0,7.0,7.0,7.0,7.0,7.0,7.0,7.0],\"type\":\"scatter\"},{\"mode\":\"lines\",\"name\":\"us_rent_growth\",\"x\":[2024,2025,2026,2027,2028,2029,2030,2031,2032,2033,2034,2035,2036,2037,2038,2039,2040,2041,2042,2043,2044,2045,2046,2047,2048,2049,2050,2051,2052,2053,2054,2055,2056,2057,2058,2059,2060,2061,2062,2063,2064,2065,2066,2067,2068,2069,2070,2071,2072,2073,2074,2075,2076,2077,2078,2079,2080,2081,2082,2083,2084,2085,2086,2087,2088,2089,2090,2091,2092,2093,2094,2095],\"y\":[7.83,7.83,7.83,7.83,7.83,7.83,7.83,7.83,7.83,7.83,7.83,7.83,7.83,7.83,7.83,7.83,7.83,7.83,7.83,7.83,7.83,7.83,7.83,7.83,7.83,7.83,7.83,7.83,7.83,7.83,7.83,7.83,7.83,7.83,7.83,7.83,7.83,7.83,7.83,7.83,7.83,7.83,7.83,7.83,7.83,7.83,7.83,7.83,7.83,7.83,7.83,7.83,7.83,7.83,7.83,7.83,7.83,7.83,7.83,7.83,7.83,7.83,7.83,7.83,7.83,7.83,7.83,7.83,7.83,7.83,7.83,7.83],\"type\":\"scatter\"},{\"mode\":\"lines\",\"name\":\"Ind_land_growth\",\"x\":[2024,2025,2026,2027,2028,2029,2030,2031,2032,2033,2034,2035,2036,2037,2038,2039,2040,2041,2042,2043,2044,2045,2046,2047,2048,2049,2050,2051,2052,2053,2054,2055,2056,2057,2058,2059,2060,2061,2062,2063,2064,2065,2066,2067,2068,2069,2070,2071,2072,2073,2074,2075,2076,2077,2078,2079,2080,2081,2082,2083,2084,2085,2086,2087,2088,2089,2090,2091,2092,2093,2094,2095],\"y\":[5.0,5.0,5.0,5.0,5.0,5.0,5.0,5.0,5.0,5.0,5.0,5.0,5.0,5.0,5.0,5.0,5.0,5.0,5.0,5.0,5.0,5.0,5.0,5.0,5.0,5.0,5.0,5.0,5.0,5.0,5.0,5.0,5.0,5.0,5.0,5.0,5.0,5.0,5.0,5.0,5.0,5.0,5.0,5.0,5.0,5.0,5.0,5.0,5.0,5.0,5.0,5.0,5.0,5.0,5.0,5.0,5.0,5.0,5.0,5.0,5.0,5.0,5.0,5.0,5.0,5.0,5.0,5.0,5.0,5.0,5.0,5.0],\"type\":\"scatter\"},{\"mode\":\"lines\",\"name\":\"year\",\"x\":[2024,2025,2026,2027,2028,2029,2030,2031,2032,2033,2034,2035,2036,2037,2038,2039,2040,2041,2042,2043,2044,2045,2046,2047,2048,2049,2050,2051,2052,2053,2054,2055,2056,2057,2058,2059,2060,2061,2062,2063,2064,2065,2066,2067,2068,2069,2070,2071,2072,2073,2074,2075,2076,2077,2078,2079,2080,2081,2082,2083,2084,2085,2086,2087,2088,2089,2090,2091,2092,2093,2094,2095],\"y\":[2024,2025,2026,2027,2028,2029,2030,2031,2032,2033,2034,2035,2036,2037,2038,2039,2040,2041,2042,2043,2044,2045,2046,2047,2048,2049,2050,2051,2052,2053,2054,2055,2056,2057,2058,2059,2060,2061,2062,2063,2064,2065,2066,2067,2068,2069,2070,2071,2072,2073,2074,2075,2076,2077,2078,2079,2080,2081,2082,2083,2084,2085,2086,2087,2088,2089,2090,2091,2092,2093,2094,2095],\"type\":\"scatter\"},{\"mode\":\"lines\",\"name\":\"age\",\"x\":[2024,2025,2026,2027,2028,2029,2030,2031,2032,2033,2034,2035,2036,2037,2038,2039,2040,2041,2042,2043,2044,2045,2046,2047,2048,2049,2050,2051,2052,2053,2054,2055,2056,2057,2058,2059,2060,2061,2062,2063,2064,2065,2066,2067,2068,2069,2070,2071,2072,2073,2074,2075,2076,2077,2078,2079,2080,2081,2082,2083,2084,2085,2086,2087,2088,2089,2090,2091,2092,2093,2094,2095],\"y\":[32,33,34,35,36,37,38,39,40,41,42,43,44,45,46,47,48,49,50,51,52,53,54,55,56,57,58,59,60,61,62,63,64,65,66,67,68,69,70,71,72,73,74,75,76,77,78,79,80,81,82,83,84,85,86,87,88,89,90,91,92,93,94,95,96,97,98,99,100,101,102,103],\"type\":\"scatter\"},{\"mode\":\"lines\",\"name\":\"living_expense\",\"x\":[2024,2025,2026,2027,2028,2029,2030,2031,2032,2033,2034,2035,2036,2037,2038,2039,2040,2041,2042,2043,2044,2045,2046,2047,2048,2049,2050,2051,2052,2053,2054,2055,2056,2057,2058,2059,2060,2061,2062,2063,2064,2065,2066,2067,2068,2069,2070,2071,2072,2073,2074,2075,2076,2077,2078,2079,2080,2081,2082,2083,2084,2085,2086,2087,2088,2089,2090,2091,2092,2093,2094,2095],\"y\":[0.0,0.0,0.0,0.0,2576789.977760687,2578855.1882320014,2575344.500015399,2577306.189946465,2576800.351522438,2577105.951128098,2578423.8767797663,2576778.5251814337,2576949.487311217,2576579.6662678793,2576981.3283225833,2578717.351692718,2577339.3320245496,2578426.161990183,2576840.1657192083,2577978.560034984,2576623.51519606,2576723.034404237,2574796.564968004,2578469.5466451496,2577177.689532655,2575232.501940386,2576092.1693951907,2575223.6121854447,2575427.4180547176,2574584.2657461464,2573753.960132888,2576666.874909792,2575837.1328895255,2576394.742773129,2578946.072442283,2577527.5608362528,2577967.8067798144,2578193.7528195707,2575787.7997547006,2577224.033068822,2577377.358012345,2576790.89278088,2576430.789646457,2576318.5708735026,2577497.0703510316,2575977.7343090735,2576584.88019669,2577765.0697191055,2576542.8732238486,2578373.5543370876,2577699.508125732,2576693.266287365,2576215.9980921308,2577463.2753408547,2578942.381616176,2577804.543470978,2577503.8183760033,2580150.8638155637,2577887.40570628,2578343.743748718,2577555.0931942817,2576800.7214682284,2577052.0239303038,2575625.9167376086,2576753.2397062993,2578042.300928059,2575526.0089044003,2579340.3420141954,2578992.408705728,2577158.181506438,2578313.661613589,2577742.9715359146],\"type\":\"scatter\"},{\"mode\":\"lines\",\"name\":\"unexpected_expense\",\"x\":[2024,2025,2026,2027,2028,2029,2030,2031,2032,2033,2034,2035,2036,2037,2038,2039,2040,2041,2042,2043,2044,2045,2046,2047,2048,2049,2050,2051,2052,2053,2054,2055,2056,2057,2058,2059,2060,2061,2062,2063,2064,2065,2066,2067,2068,2069,2070,2071,2072,2073,2074,2075,2076,2077,2078,2079,2080,2081,2082,2083,2084,2085,2086,2087,2088,2089,2090,2091,2092,2093,2094,2095],\"y\":[0.0,0.0,0.0,0.0,134185.62031823996,138418.1851964751,140104.35233944506,164091.14233058196,205371.23946066087,105872.47517030197,197317.12092164185,365632.7103757921,19370.786231615468,218652.52494089794,309308.65972000774,166267.991878384,259270.11836854572,102314.85232505143,69236.09364129185,25643.78294802452,96043.61734946098,36447.47726466673,210584.86302636692,87711.5306530641,152480.80500968432,362683.19978130533,343548.61771404365,313350.65429212176,188231.8521865991,98383.29628715855,78554.30069371908,236974.00105281203,142664.30062694376,260371.68878834337,238843.86905043724,189405.7548315656,81174.99982160248,187529.43057280497,57751.92629663363,259666.59934216095,137129.34359227904,39438.73394184972,302716.57229928434,162418.475953507,115540.39635026026,50607.05799962308,365234.694629188,236315.81946127024,41717.05343097744,115101.53789425755,59384.81746005666,291467.587995477,227593.05280475924,346708.7268025704,144037.0158449544,101236.4098805696,100422.68408258105,141453.50687041605,354074.26142001746,49681.87806274009,378301.5913804675,270398.0301823419,55048.13763876616,133012.14443933073,103595.92315289022,239828.59795207105,78637.18549869159,234321.09061628548,283506.44172803534,359601.4191929932,215396.00851784233,181887.20662187718],\"type\":\"scatter\"}],                        {\"template\":{\"data\":{\"barpolar\":[{\"marker\":{\"line\":{\"color\":\"rgb(17,17,17)\",\"width\":0.5},\"pattern\":{\"fillmode\":\"overlay\",\"size\":10,\"solidity\":0.2}},\"type\":\"barpolar\"}],\"bar\":[{\"error_x\":{\"color\":\"#f2f5fa\"},\"error_y\":{\"color\":\"#f2f5fa\"},\"marker\":{\"line\":{\"color\":\"rgb(17,17,17)\",\"width\":0.5},\"pattern\":{\"fillmode\":\"overlay\",\"size\":10,\"solidity\":0.2}},\"type\":\"bar\"}],\"carpet\":[{\"aaxis\":{\"endlinecolor\":\"#A2B1C6\",\"gridcolor\":\"#506784\",\"linecolor\":\"#506784\",\"minorgridcolor\":\"#506784\",\"startlinecolor\":\"#A2B1C6\"},\"baxis\":{\"endlinecolor\":\"#A2B1C6\",\"gridcolor\":\"#506784\",\"linecolor\":\"#506784\",\"minorgridcolor\":\"#506784\",\"startlinecolor\":\"#A2B1C6\"},\"type\":\"carpet\"}],\"choropleth\":[{\"colorbar\":{\"outlinewidth\":0,\"ticks\":\"\"},\"type\":\"choropleth\"}],\"contourcarpet\":[{\"colorbar\":{\"outlinewidth\":0,\"ticks\":\"\"},\"type\":\"contourcarpet\"}],\"contour\":[{\"colorbar\":{\"outlinewidth\":0,\"ticks\":\"\"},\"colorscale\":[[0.0,\"#0d0887\"],[0.1111111111111111,\"#46039f\"],[0.2222222222222222,\"#7201a8\"],[0.3333333333333333,\"#9c179e\"],[0.4444444444444444,\"#bd3786\"],[0.5555555555555556,\"#d8576b\"],[0.6666666666666666,\"#ed7953\"],[0.7777777777777778,\"#fb9f3a\"],[0.8888888888888888,\"#fdca26\"],[1.0,\"#f0f921\"]],\"type\":\"contour\"}],\"heatmapgl\":[{\"colorbar\":{\"outlinewidth\":0,\"ticks\":\"\"},\"colorscale\":[[0.0,\"#0d0887\"],[0.1111111111111111,\"#46039f\"],[0.2222222222222222,\"#7201a8\"],[0.3333333333333333,\"#9c179e\"],[0.4444444444444444,\"#bd3786\"],[0.5555555555555556,\"#d8576b\"],[0.6666666666666666,\"#ed7953\"],[0.7777777777777778,\"#fb9f3a\"],[0.8888888888888888,\"#fdca26\"],[1.0,\"#f0f921\"]],\"type\":\"heatmapgl\"}],\"heatmap\":[{\"colorbar\":{\"outlinewidth\":0,\"ticks\":\"\"},\"colorscale\":[[0.0,\"#0d0887\"],[0.1111111111111111,\"#46039f\"],[0.2222222222222222,\"#7201a8\"],[0.3333333333333333,\"#9c179e\"],[0.4444444444444444,\"#bd3786\"],[0.5555555555555556,\"#d8576b\"],[0.6666666666666666,\"#ed7953\"],[0.7777777777777778,\"#fb9f3a\"],[0.8888888888888888,\"#fdca26\"],[1.0,\"#f0f921\"]],\"type\":\"heatmap\"}],\"histogram2dcontour\":[{\"colorbar\":{\"outlinewidth\":0,\"ticks\":\"\"},\"colorscale\":[[0.0,\"#0d0887\"],[0.1111111111111111,\"#46039f\"],[0.2222222222222222,\"#7201a8\"],[0.3333333333333333,\"#9c179e\"],[0.4444444444444444,\"#bd3786\"],[0.5555555555555556,\"#d8576b\"],[0.6666666666666666,\"#ed7953\"],[0.7777777777777778,\"#fb9f3a\"],[0.8888888888888888,\"#fdca26\"],[1.0,\"#f0f921\"]],\"type\":\"histogram2dcontour\"}],\"histogram2d\":[{\"colorbar\":{\"outlinewidth\":0,\"ticks\":\"\"},\"colorscale\":[[0.0,\"#0d0887\"],[0.1111111111111111,\"#46039f\"],[0.2222222222222222,\"#7201a8\"],[0.3333333333333333,\"#9c179e\"],[0.4444444444444444,\"#bd3786\"],[0.5555555555555556,\"#d8576b\"],[0.6666666666666666,\"#ed7953\"],[0.7777777777777778,\"#fb9f3a\"],[0.8888888888888888,\"#fdca26\"],[1.0,\"#f0f921\"]],\"type\":\"histogram2d\"}],\"histogram\":[{\"marker\":{\"pattern\":{\"fillmode\":\"overlay\",\"size\":10,\"solidity\":0.2}},\"type\":\"histogram\"}],\"mesh3d\":[{\"colorbar\":{\"outlinewidth\":0,\"ticks\":\"\"},\"type\":\"mesh3d\"}],\"parcoords\":[{\"line\":{\"colorbar\":{\"outlinewidth\":0,\"ticks\":\"\"}},\"type\":\"parcoords\"}],\"pie\":[{\"automargin\":true,\"type\":\"pie\"}],\"scatter3d\":[{\"line\":{\"colorbar\":{\"outlinewidth\":0,\"ticks\":\"\"}},\"marker\":{\"colorbar\":{\"outlinewidth\":0,\"ticks\":\"\"}},\"type\":\"scatter3d\"}],\"scattercarpet\":[{\"marker\":{\"colorbar\":{\"outlinewidth\":0,\"ticks\":\"\"}},\"type\":\"scattercarpet\"}],\"scattergeo\":[{\"marker\":{\"colorbar\":{\"outlinewidth\":0,\"ticks\":\"\"}},\"type\":\"scattergeo\"}],\"scattergl\":[{\"marker\":{\"line\":{\"color\":\"#283442\"}},\"type\":\"scattergl\"}],\"scattermapbox\":[{\"marker\":{\"colorbar\":{\"outlinewidth\":0,\"ticks\":\"\"}},\"type\":\"scattermapbox\"}],\"scatterpolargl\":[{\"marker\":{\"colorbar\":{\"outlinewidth\":0,\"ticks\":\"\"}},\"type\":\"scatterpolargl\"}],\"scatterpolar\":[{\"marker\":{\"colorbar\":{\"outlinewidth\":0,\"ticks\":\"\"}},\"type\":\"scatterpolar\"}],\"scatter\":[{\"marker\":{\"line\":{\"color\":\"#283442\"}},\"type\":\"scatter\"}],\"scatterternary\":[{\"marker\":{\"colorbar\":{\"outlinewidth\":0,\"ticks\":\"\"}},\"type\":\"scatterternary\"}],\"surface\":[{\"colorbar\":{\"outlinewidth\":0,\"ticks\":\"\"},\"colorscale\":[[0.0,\"#0d0887\"],[0.1111111111111111,\"#46039f\"],[0.2222222222222222,\"#7201a8\"],[0.3333333333333333,\"#9c179e\"],[0.4444444444444444,\"#bd3786\"],[0.5555555555555556,\"#d8576b\"],[0.6666666666666666,\"#ed7953\"],[0.7777777777777778,\"#fb9f3a\"],[0.8888888888888888,\"#fdca26\"],[1.0,\"#f0f921\"]],\"type\":\"surface\"}],\"table\":[{\"cells\":{\"fill\":{\"color\":\"#506784\"},\"line\":{\"color\":\"rgb(17,17,17)\"}},\"header\":{\"fill\":{\"color\":\"#2a3f5f\"},\"line\":{\"color\":\"rgb(17,17,17)\"}},\"type\":\"table\"}]},\"layout\":{\"annotationdefaults\":{\"arrowcolor\":\"#f2f5fa\",\"arrowhead\":0,\"arrowwidth\":1},\"autotypenumbers\":\"strict\",\"coloraxis\":{\"colorbar\":{\"outlinewidth\":0,\"ticks\":\"\"}},\"colorscale\":{\"diverging\":[[0,\"#8e0152\"],[0.1,\"#c51b7d\"],[0.2,\"#de77ae\"],[0.3,\"#f1b6da\"],[0.4,\"#fde0ef\"],[0.5,\"#f7f7f7\"],[0.6,\"#e6f5d0\"],[0.7,\"#b8e186\"],[0.8,\"#7fbc41\"],[0.9,\"#4d9221\"],[1,\"#276419\"]],\"sequential\":[[0.0,\"#0d0887\"],[0.1111111111111111,\"#46039f\"],[0.2222222222222222,\"#7201a8\"],[0.3333333333333333,\"#9c179e\"],[0.4444444444444444,\"#bd3786\"],[0.5555555555555556,\"#d8576b\"],[0.6666666666666666,\"#ed7953\"],[0.7777777777777778,\"#fb9f3a\"],[0.8888888888888888,\"#fdca26\"],[1.0,\"#f0f921\"]],\"sequentialminus\":[[0.0,\"#0d0887\"],[0.1111111111111111,\"#46039f\"],[0.2222222222222222,\"#7201a8\"],[0.3333333333333333,\"#9c179e\"],[0.4444444444444444,\"#bd3786\"],[0.5555555555555556,\"#d8576b\"],[0.6666666666666666,\"#ed7953\"],[0.7777777777777778,\"#fb9f3a\"],[0.8888888888888888,\"#fdca26\"],[1.0,\"#f0f921\"]]},\"colorway\":[\"#636efa\",\"#EF553B\",\"#00cc96\",\"#ab63fa\",\"#FFA15A\",\"#19d3f3\",\"#FF6692\",\"#B6E880\",\"#FF97FF\",\"#FECB52\"],\"font\":{\"color\":\"#f2f5fa\"},\"geo\":{\"bgcolor\":\"rgb(17,17,17)\",\"lakecolor\":\"rgb(17,17,17)\",\"landcolor\":\"rgb(17,17,17)\",\"showlakes\":true,\"showland\":true,\"subunitcolor\":\"#506784\"},\"hoverlabel\":{\"align\":\"left\"},\"hovermode\":\"closest\",\"mapbox\":{\"style\":\"dark\"},\"paper_bgcolor\":\"rgb(17,17,17)\",\"plot_bgcolor\":\"rgb(17,17,17)\",\"polar\":{\"angularaxis\":{\"gridcolor\":\"#506784\",\"linecolor\":\"#506784\",\"ticks\":\"\"},\"bgcolor\":\"rgb(17,17,17)\",\"radialaxis\":{\"gridcolor\":\"#506784\",\"linecolor\":\"#506784\",\"ticks\":\"\"}},\"scene\":{\"xaxis\":{\"backgroundcolor\":\"rgb(17,17,17)\",\"gridcolor\":\"#506784\",\"gridwidth\":2,\"linecolor\":\"#506784\",\"showbackground\":true,\"ticks\":\"\",\"zerolinecolor\":\"#C8D4E3\"},\"yaxis\":{\"backgroundcolor\":\"rgb(17,17,17)\",\"gridcolor\":\"#506784\",\"gridwidth\":2,\"linecolor\":\"#506784\",\"showbackground\":true,\"ticks\":\"\",\"zerolinecolor\":\"#C8D4E3\"},\"zaxis\":{\"backgroundcolor\":\"rgb(17,17,17)\",\"gridcolor\":\"#506784\",\"gridwidth\":2,\"linecolor\":\"#506784\",\"showbackground\":true,\"ticks\":\"\",\"zerolinecolor\":\"#C8D4E3\"}},\"shapedefaults\":{\"line\":{\"color\":\"#f2f5fa\"}},\"sliderdefaults\":{\"bgcolor\":\"#C8D4E3\",\"bordercolor\":\"rgb(17,17,17)\",\"borderwidth\":1,\"tickwidth\":0},\"ternary\":{\"aaxis\":{\"gridcolor\":\"#506784\",\"linecolor\":\"#506784\",\"ticks\":\"\"},\"baxis\":{\"gridcolor\":\"#506784\",\"linecolor\":\"#506784\",\"ticks\":\"\"},\"bgcolor\":\"rgb(17,17,17)\",\"caxis\":{\"gridcolor\":\"#506784\",\"linecolor\":\"#506784\",\"ticks\":\"\"}},\"title\":{\"x\":0.05},\"updatemenudefaults\":{\"bgcolor\":\"#506784\",\"borderwidth\":0},\"xaxis\":{\"automargin\":true,\"gridcolor\":\"#283442\",\"linecolor\":\"#506784\",\"ticks\":\"\",\"title\":{\"standoff\":15},\"zerolinecolor\":\"#283442\",\"zerolinewidth\":2},\"yaxis\":{\"automargin\":true,\"gridcolor\":\"#283442\",\"linecolor\":\"#506784\",\"ticks\":\"\",\"title\":{\"standoff\":15},\"zerolinecolor\":\"#283442\",\"zerolinewidth\":2}}},\"title\":{\"text\":\"Variables_movement\"},\"xaxis\":{\"title\":{\"text\":\"Year\"}},\"yaxis\":{\"title\":{\"text\":\"Value\"}}},                        {\"responsive\": true}                    ).then(function(){\n",
       "                            \n",
       "var gd = document.getElementById('f899e78c-5443-4345-8f6e-6a68ac3c7e6c');\n",
       "var x = new MutationObserver(function (mutations, observer) {{\n",
       "        var display = window.getComputedStyle(gd).display;\n",
       "        if (!display || display === 'none') {{\n",
       "            console.log([gd, 'removed!']);\n",
       "            Plotly.purge(gd);\n",
       "            observer.disconnect();\n",
       "        }}\n",
       "}});\n",
       "\n",
       "// Listen for the removal of the full notebook cells\n",
       "var notebookContainer = gd.closest('#notebook-container');\n",
       "if (notebookContainer) {{\n",
       "    x.observe(notebookContainer, {childList: true});\n",
       "}}\n",
       "\n",
       "// Listen for the clearing of the current output cell\n",
       "var outputEl = gd.closest('.output');\n",
       "if (outputEl) {{\n",
       "    x.observe(outputEl, {childList: true});\n",
       "}}\n",
       "\n",
       "                        })                };                });            </script>        </div>"
      ]
     },
     "metadata": {},
     "output_type": "display_data"
    }
   ],
   "source": [
    "fig = go.Figure()\n",
    "for column in simulation_var_df.columns:\n",
    "    fig.add_trace(go.Scatter(x=simulation_var_df['year'], y=simulation_var_df[column], mode='lines', name=column))\n",
    "\n",
    "fig.update_layout(\n",
    "    title='Variables_movement',\n",
    "    xaxis_title='Year',\n",
    "    yaxis_title='Value',\n",
    "    template='plotly_dark'\n",
    ")\n",
    "\n",
    "# Show the plot\n",
    "fig.show()"
   ]
  },
  {
   "cell_type": "code",
   "execution_count": 6,
   "id": "4b836dcf-c4f4-4bdc-a9b9-e3342ec0b11e",
   "metadata": {},
   "outputs": [
    {
     "data": {
      "application/vnd.plotly.v1+json": {
       "config": {
        "plotlyServerURL": "https://plot.ly"
       },
       "data": [
        {
         "mode": "lines",
         "name": "Ret_accnts",
         "type": "scatter",
         "x": [
          2024,
          2025,
          2026,
          2027,
          2028,
          2029,
          2030,
          2031,
          2032,
          2033,
          2034,
          2035,
          2036,
          2037,
          2038,
          2039,
          2040,
          2041,
          2042,
          2043,
          2044,
          2045,
          2046,
          2047,
          2048,
          2049,
          2050,
          2051,
          2052,
          2053,
          2054,
          2055,
          2056,
          2057,
          2058,
          2059,
          2060,
          2061,
          2062,
          2063,
          2064,
          2065,
          2066,
          2067,
          2068,
          2069,
          2070,
          2071,
          2072,
          2073,
          2074,
          2075,
          2076,
          2077,
          2078,
          2079,
          2080,
          2081,
          2082,
          2083,
          2084,
          2085,
          2086,
          2087,
          2088,
          2089,
          2090,
          2091,
          2092,
          2093,
          2094,
          2095,
          2096
         ],
         "y": [
          400000,
          521446.69739033864,
          426647.7726821987,
          529004.2170118182,
          774229.2055530633,
          886273.6326707194,
          1033850.3586000775,
          951996.3113582359,
          1001126.6903420823,
          948177.2476864245,
          1058123.350356389,
          1026839.8813110177,
          935767.0128580839,
          1188191.4717094828,
          1559054.0167137668,
          1225808.2779087871,
          1070918.7953334316,
          1092875.0800058693,
          1305873.881312041,
          1575976.6952934912,
          1752464.8071667282,
          1677062.4243307328,
          1931318.7470779002,
          1568906.20197331,
          1357349.6469399128,
          1365637.061256116,
          1345241.0619541008,
          1654973.0938489195,
          1477332.614386791,
          1380637.7001244084,
          1508139.9448889305,
          2209433.051285093,
          1980282.4406834876,
          1932769.3163302382,
          2023997.3529108034,
          1712327.4999959345,
          2035180.2929785268,
          1911300.440646013,
          2259626.121410534,
          1619038.4194380664,
          2026327.747754396,
          2289381.633323037,
          3038677.272142029,
          3514952.238371164,
          5090485.400123774,
          4860647.199780677,
          5576289.224460506,
          5178914.0852570655,
          4250057.909122541,
          4068214.964445002,
          5259651.710391249,
          5694861.813237664,
          6552422.259928432,
          5502151.038464952,
          6422525.205930458,
          6629856.731651332,
          8460043.810031576,
          9732986.093514618,
          12045391.461187722,
          12950778.517151257,
          17698660.71382857,
          22992773.8218744,
          30316337.680726603,
          36929624.84110455,
          34172690.24518538,
          42216982.60904308,
          41789306.33219075,
          35017238.9315333,
          27852932.600752722,
          27897028.463957127,
          32031498.11370412,
          38556740.534747966,
          37130575.43561497
         ]
        },
        {
         "mode": "lines",
         "name": "TSLA",
         "type": "scatter",
         "x": [
          2024,
          2025,
          2026,
          2027,
          2028,
          2029,
          2030,
          2031,
          2032,
          2033,
          2034,
          2035,
          2036,
          2037,
          2038,
          2039,
          2040,
          2041,
          2042,
          2043,
          2044,
          2045,
          2046,
          2047,
          2048,
          2049,
          2050,
          2051,
          2052,
          2053,
          2054,
          2055,
          2056,
          2057,
          2058,
          2059,
          2060,
          2061,
          2062,
          2063,
          2064,
          2065,
          2066,
          2067,
          2068,
          2069,
          2070,
          2071,
          2072,
          2073,
          2074,
          2075,
          2076,
          2077,
          2078,
          2079,
          2080,
          2081,
          2082,
          2083,
          2084,
          2085,
          2086,
          2087,
          2088,
          2089,
          2090,
          2091,
          2092,
          2093,
          2094,
          2095,
          2096
         ],
         "y": [
          1400000,
          1436980.302967673,
          1773629.133258153,
          1457346.6946363193,
          1287631.7891594793,
          1992439.0818343416,
          1978413.8957592307,
          1407113.8245358784,
          1647776.8258196372,
          1685671.483300768,
          1274192.4602674944,
          1650797.0020757467,
          1652428.8457216525,
          1860359.4139950634,
          2253978.1450046967,
          1611604.9146034245,
          1783854.8689783132,
          1484096.2246150693,
          1379447.1447798822,
          1419281.2710355704,
          1501698.5213093471,
          1448650.5067634308,
          1563969.1379228584,
          2115377.0708834557,
          1436904.0073711795,
          1415071.9039832943,
          1395210.9427468644,
          1915531.9167280146,
          2258655.0891678105,
          2690387.4114025114,
          2066036.78469579,
          2354792.5465816515,
          2184139.6408005306,
          2523398.1926489403,
          2783670.630939967,
          2845550.0209815474,
          4346838.476834983,
          5876760.329795227,
          5588599.413326883,
          5680682.593360672,
          6435602.066368531,
          6514009.322428866,
          7457044.919905282,
          7687871.631456472,
          7086257.511008082,
          9053488.656048132,
          9947342.342772007,
          10120493.296315685,
          9362239.13711839,
          12319265.43320969,
          13792564.047116918,
          15729165.953308726,
          15144820.517910311,
          22772715.35176468,
          26675575.84933718,
          31625007.285751693,
          37016374.31409557,
          33168156.739627074,
          39431794.69038383,
          39523335.54760705,
          40045237.35083188,
          37204289.4054103,
          37775497.89642781,
          42925771.47897612,
          48798075.208595164,
          35519505.22207761,
          43697700.192975715,
          38260763.886910625,
          39234248.01451665,
          29973649.433508772,
          37057220.30134185,
          41215934.3472634,
          49592980.045981124
         ]
        },
        {
         "mode": "lines",
         "name": "Marcus",
         "type": "scatter",
         "x": [
          2024,
          2025,
          2026,
          2027,
          2028,
          2029,
          2030,
          2031,
          2032,
          2033,
          2034,
          2035,
          2036,
          2037,
          2038,
          2039,
          2040,
          2041,
          2042,
          2043,
          2044,
          2045,
          2046,
          2047,
          2048,
          2049,
          2050,
          2051,
          2052,
          2053,
          2054,
          2055,
          2056,
          2057,
          2058,
          2059,
          2060,
          2061,
          2062,
          2063,
          2064,
          2065,
          2066,
          2067,
          2068,
          2069,
          2070,
          2071,
          2072,
          2073,
          2074,
          2075,
          2076,
          2077,
          2078,
          2079,
          2080,
          2081,
          2082,
          2083,
          2084,
          2085,
          2086,
          2087,
          2088,
          2089,
          2090,
          2091,
          2092,
          2093,
          2094,
          2095,
          2096
         ],
         "y": [
          20000,
          21000,
          22050,
          23152.5,
          24310.125,
          25525.631250000002,
          26801.912812500002,
          28142.008453125003,
          29549.108875781254,
          31026.56431957032,
          32577.892535548835,
          34206.787162326276,
          35917.126520442594,
          37712.98284646473,
          39598.631988787965,
          41578.563588227364,
          43657.491767638734,
          45840.36635602067,
          48132.3846738217,
          50539.00390751279,
          53065.954102888434,
          55719.25180803286,
          58505.2143984345,
          61430.47511835623,
          64501.998874274046,
          67727.09881798775,
          71113.45375888713,
          74669.12644683149,
          78402.58276917307,
          82322.71190763172,
          86438.84750301331,
          90760.78987816398,
          95298.82937207218,
          100063.7708406758,
          105066.9593827096,
          110320.30735184508,
          115836.32271943735,
          121628.13885540923,
          127709.5457981797,
          134095.0230880887,
          140799.77424249315,
          147839.76295461782,
          155231.75110234873,
          162993.33865746617,
          171143.00559033948,
          179700.15586985648,
          188685.16366334932,
          198119.42184651678,
          208025.39293884262,
          218426.66258578477,
          229347.995715074,
          240815.39550082773,
          252856.16527586913,
          265498.9735396626,
          278773.92221664573,
          292712.618327478,
          307348.2492438519,
          322715.6617060445,
          338851.44479134673,
          355794.0170309141,
          373583.7178824598,
          392262.9037765828,
          411876.04896541196,
          432469.85141368257,
          454093.34398436674,
          476798.0111835851,
          500637.91174276435,
          525669.8073299025,
          551953.2976963976,
          579550.9625812175,
          608528.5107102784,
          638954.9362457923,
          670902.683058082
         ]
        },
        {
         "mode": "lines",
         "name": "ret_home",
         "type": "scatter",
         "x": [
          2024,
          2025,
          2026,
          2027,
          2028,
          2029,
          2030,
          2031,
          2032,
          2033,
          2034,
          2035,
          2036,
          2037,
          2038,
          2039,
          2040,
          2041,
          2042,
          2043,
          2044,
          2045,
          2046,
          2047,
          2048,
          2049,
          2050,
          2051,
          2052,
          2053,
          2054,
          2055,
          2056,
          2057,
          2058,
          2059,
          2060,
          2061,
          2062,
          2063,
          2064,
          2065,
          2066,
          2067,
          2068,
          2069,
          2070,
          2071,
          2072,
          2073,
          2074,
          2075,
          2076,
          2077,
          2078,
          2079,
          2080,
          2081,
          2082,
          2083,
          2084,
          2085,
          2086,
          2087,
          2088,
          2089,
          2090,
          2091,
          2092,
          2093,
          2094,
          2095,
          2096
         ],
         "y": [
          239520.95808383235,
          256287.42514970063,
          274227.5449101797,
          293423.47305389226,
          313963.11616766476,
          335940.53429940133,
          359456.37170035945,
          384618.3177193846,
          411541.5999597416,
          440349.5119569235,
          471173.9777939082,
          504156.1562394818,
          539447.0871762455,
          577208.3832785827,
          617612.9701080836,
          660845.8780156495,
          707105.089476745,
          756602.4457401172,
          809564.6169419255,
          866234.1401278604,
          926870.5299368106,
          991751.4670323874,
          1061174.0697246545,
          1135456.2546053804,
          1214938.192427757,
          1299983.8658977,
          1390982.736510539,
          1488351.5280662768,
          1592536.1350309162,
          1704013.6644830804,
          1823294.6209968962,
          1950925.244466679,
          2087490.0115793466,
          2233614.312389901,
          2389967.3142571943,
          2557265.026255198,
          2736273.5780930617,
          2927812.728559576,
          3132759.6195587465,
          3352052.792927859,
          3586696.4884328092,
          3837765.242623106,
          4106408.809606724,
          4393857.426279195,
          4701427.4461187385,
          5030527.36734705,
          5382664.283061344,
          5759450.782875638,
          6162612.337676934,
          6593995.20131432,
          7055574.865406322,
          7549465.105984765,
          8077927.663403699,
          8643382.599841958,
          9248419.381830895,
          9895808.738559058,
          10588515.350258192,
          11329711.424776265,
          12122791.224510605,
          12971386.610226348,
          13879383.672942193,
          14850940.530048147,
          15890506.367151517,
          17002841.812852126,
          18193040.739751775,
          19466553.5915344,
          20829212.34294181,
          22287257.206947736,
          23847365.21143408,
          25516680.776234467,
          27302848.43057088,
          29214047.820710845,
          31259031.168160606
         ]
        },
        {
         "mode": "lines",
         "name": "us_rent",
         "type": "scatter",
         "x": [
          2024,
          2025,
          2026,
          2027,
          2028,
          2029,
          2030,
          2031,
          2032,
          2033,
          2034,
          2035,
          2036,
          2037,
          2038,
          2039,
          2040,
          2041,
          2042,
          2043,
          2044,
          2045,
          2046,
          2047,
          2048,
          2049,
          2050,
          2051,
          2052,
          2053,
          2054,
          2055,
          2056,
          2057,
          2058,
          2059,
          2060,
          2061,
          2062,
          2063,
          2064,
          2065,
          2066,
          2067,
          2068,
          2069,
          2070,
          2071,
          2072,
          2073,
          2074,
          2075,
          2076,
          2077,
          2078,
          2079,
          2080,
          2081,
          2082,
          2083,
          2084,
          2085,
          2086,
          2087,
          2088,
          2089,
          2090,
          2091,
          2092,
          2093,
          2094,
          2095,
          2096
         ],
         "y": [
          300000,
          299022.34462771984,
          298014.4888397901,
          296975.4584436655,
          295904.24468252435,
          294799.8027803359,
          293661.0504105495,
          292486.8660835527,
          291276.08744769613,
          290027.5094983144,
          288739.88268876844,
          287411.91093710554,
          286042.24952147005,
          284629.5028568983,
          283172.22214559594,
          281668.9028922171,
          280117.9822750457,
          278517.83636330924,
          276866.77717013605,
          275163.0495298932,
          273404.8277878078,
          271590.2122888772,
          269717.2256521073,
          267783.80881507706,
          265787.8168327081,
          263727.0144129103,
          261599.07117047685,
          259401.55657920026,
          257131.9346006774,
          254787.55796664435,
          270098.31746221706,
          286717.13623749674,
          304749.71213842044,
          324310.11745639227,
          345521.4575964873,
          368516.58140784956,
          393438.8472240882,
          420442.94897849846,
          449695.807100782,
          481377.5292705583,
          515682.4465004417,
          552820.2304500649,
          593017.0983346027,
          636517.1122897088,
          683583.5805921649,
          734500.5687150084,
          789574.528820745,
          849136.0569700212,
          913541.7880496642,
          983176.43920741,
          1058455.013425411,
          1139825.1757755233,
          1227769.8158816162,
          1322809.8111733024,
          1425507.0066575722,
          1536467.4281663424,
          1656344.747365874,
          1785844.018245952,
          1925725.7063507799,
          2076810.033678501,
          2239981.663971596,
          2416194.7550563226,
          2606478.406976856,
          2811942.5369207556,
          3033784.2143595912,
          3273294.4924458256,
          3531865.774529269,
          3810999.757699594,
          4112315.9985428955,
          4437561.149838691,
          4788618.920739243,
          5167520.817087353,
          5576457.722965147
         ]
        },
        {
         "mode": "lines",
         "name": "Ind_land",
         "type": "scatter",
         "x": [
          2024,
          2025,
          2026,
          2027,
          2028,
          2029,
          2030,
          2031,
          2032,
          2033,
          2034,
          2035,
          2036,
          2037,
          2038,
          2039,
          2040,
          2041,
          2042,
          2043,
          2044,
          2045,
          2046,
          2047,
          2048,
          2049,
          2050,
          2051,
          2052,
          2053,
          2054,
          2055,
          2056,
          2057,
          2058,
          2059,
          2060,
          2061,
          2062,
          2063,
          2064,
          2065,
          2066,
          2067,
          2068,
          2069,
          2070,
          2071,
          2072,
          2073,
          2074,
          2075,
          2076,
          2077,
          2078,
          2079,
          2080,
          2081,
          2082,
          2083,
          2084,
          2085,
          2086,
          2087,
          2088,
          2089,
          2090,
          2091,
          2092,
          2093,
          2094,
          2095,
          2096
         ],
         "y": [
          59880.239520958086,
          62874.25149700599,
          66017.9640718563,
          69318.86227544912,
          72784.80538922158,
          76424.04565868266,
          80245.24794161679,
          84257.51033869764,
          88470.38585563253,
          92893.90514841415,
          97538.60040583486,
          102415.53042612661,
          107536.30694743295,
          112913.1222948046,
          118558.77840954484,
          124486.71733002209,
          130711.0531965232,
          137246.60585634937,
          144108.93614916684,
          151314.3829566252,
          158880.10210445645,
          166824.1072096793,
          175165.31257016325,
          183923.57819867143,
          193119.757108605,
          202775.74496403526,
          212914.53221223704,
          223560.2588228489,
          234738.27176399136,
          246475.18535219095,
          258798.94461980052,
          271738.89185079053,
          285325.83644333004,
          299592.1282654966,
          314571.7346787714,
          330300.32141271,
          346815.33748334553,
          364156.10435751284,
          382363.9095753885,
          401482.1050541579,
          421556.2103068658,
          442634.02082220913,
          464765.72186331963,
          488004.0079564856,
          512404.2083543099,
          538024.4187720254,
          564925.6397106267,
          593171.921696158,
          622830.5177809659,
          653972.0436700142,
          686670.645853515,
          721004.1781461908,
          757054.3870535004,
          794907.1064061754,
          834652.4617264842,
          876385.0848128084,
          920204.3390534489,
          966214.5560061213,
          1014525.2838064275,
          1065251.547996749,
          1118514.1253965865,
          1174439.8316664158,
          1233161.8232497366,
          1294819.9144122235,
          1359560.9101328347,
          1427538.9556394764,
          1498915.9034214504,
          1573861.6985925229,
          1652554.783522149,
          1735182.5226982567,
          1821941.6488331696,
          1913038.731274828,
          2008690.6678385695
         ]
        }
       ],
       "layout": {
        "autosize": true,
        "template": {
         "data": {
          "bar": [
           {
            "error_x": {
             "color": "#f2f5fa"
            },
            "error_y": {
             "color": "#f2f5fa"
            },
            "marker": {
             "line": {
              "color": "rgb(17,17,17)",
              "width": 0.5
             },
             "pattern": {
              "fillmode": "overlay",
              "size": 10,
              "solidity": 0.2
             }
            },
            "type": "bar"
           }
          ],
          "barpolar": [
           {
            "marker": {
             "line": {
              "color": "rgb(17,17,17)",
              "width": 0.5
             },
             "pattern": {
              "fillmode": "overlay",
              "size": 10,
              "solidity": 0.2
             }
            },
            "type": "barpolar"
           }
          ],
          "carpet": [
           {
            "aaxis": {
             "endlinecolor": "#A2B1C6",
             "gridcolor": "#506784",
             "linecolor": "#506784",
             "minorgridcolor": "#506784",
             "startlinecolor": "#A2B1C6"
            },
            "baxis": {
             "endlinecolor": "#A2B1C6",
             "gridcolor": "#506784",
             "linecolor": "#506784",
             "minorgridcolor": "#506784",
             "startlinecolor": "#A2B1C6"
            },
            "type": "carpet"
           }
          ],
          "choropleth": [
           {
            "colorbar": {
             "outlinewidth": 0,
             "ticks": ""
            },
            "type": "choropleth"
           }
          ],
          "contour": [
           {
            "colorbar": {
             "outlinewidth": 0,
             "ticks": ""
            },
            "colorscale": [
             [
              0,
              "#0d0887"
             ],
             [
              0.1111111111111111,
              "#46039f"
             ],
             [
              0.2222222222222222,
              "#7201a8"
             ],
             [
              0.3333333333333333,
              "#9c179e"
             ],
             [
              0.4444444444444444,
              "#bd3786"
             ],
             [
              0.5555555555555556,
              "#d8576b"
             ],
             [
              0.6666666666666666,
              "#ed7953"
             ],
             [
              0.7777777777777778,
              "#fb9f3a"
             ],
             [
              0.8888888888888888,
              "#fdca26"
             ],
             [
              1,
              "#f0f921"
             ]
            ],
            "type": "contour"
           }
          ],
          "contourcarpet": [
           {
            "colorbar": {
             "outlinewidth": 0,
             "ticks": ""
            },
            "type": "contourcarpet"
           }
          ],
          "heatmap": [
           {
            "colorbar": {
             "outlinewidth": 0,
             "ticks": ""
            },
            "colorscale": [
             [
              0,
              "#0d0887"
             ],
             [
              0.1111111111111111,
              "#46039f"
             ],
             [
              0.2222222222222222,
              "#7201a8"
             ],
             [
              0.3333333333333333,
              "#9c179e"
             ],
             [
              0.4444444444444444,
              "#bd3786"
             ],
             [
              0.5555555555555556,
              "#d8576b"
             ],
             [
              0.6666666666666666,
              "#ed7953"
             ],
             [
              0.7777777777777778,
              "#fb9f3a"
             ],
             [
              0.8888888888888888,
              "#fdca26"
             ],
             [
              1,
              "#f0f921"
             ]
            ],
            "type": "heatmap"
           }
          ],
          "heatmapgl": [
           {
            "colorbar": {
             "outlinewidth": 0,
             "ticks": ""
            },
            "colorscale": [
             [
              0,
              "#0d0887"
             ],
             [
              0.1111111111111111,
              "#46039f"
             ],
             [
              0.2222222222222222,
              "#7201a8"
             ],
             [
              0.3333333333333333,
              "#9c179e"
             ],
             [
              0.4444444444444444,
              "#bd3786"
             ],
             [
              0.5555555555555556,
              "#d8576b"
             ],
             [
              0.6666666666666666,
              "#ed7953"
             ],
             [
              0.7777777777777778,
              "#fb9f3a"
             ],
             [
              0.8888888888888888,
              "#fdca26"
             ],
             [
              1,
              "#f0f921"
             ]
            ],
            "type": "heatmapgl"
           }
          ],
          "histogram": [
           {
            "marker": {
             "pattern": {
              "fillmode": "overlay",
              "size": 10,
              "solidity": 0.2
             }
            },
            "type": "histogram"
           }
          ],
          "histogram2d": [
           {
            "colorbar": {
             "outlinewidth": 0,
             "ticks": ""
            },
            "colorscale": [
             [
              0,
              "#0d0887"
             ],
             [
              0.1111111111111111,
              "#46039f"
             ],
             [
              0.2222222222222222,
              "#7201a8"
             ],
             [
              0.3333333333333333,
              "#9c179e"
             ],
             [
              0.4444444444444444,
              "#bd3786"
             ],
             [
              0.5555555555555556,
              "#d8576b"
             ],
             [
              0.6666666666666666,
              "#ed7953"
             ],
             [
              0.7777777777777778,
              "#fb9f3a"
             ],
             [
              0.8888888888888888,
              "#fdca26"
             ],
             [
              1,
              "#f0f921"
             ]
            ],
            "type": "histogram2d"
           }
          ],
          "histogram2dcontour": [
           {
            "colorbar": {
             "outlinewidth": 0,
             "ticks": ""
            },
            "colorscale": [
             [
              0,
              "#0d0887"
             ],
             [
              0.1111111111111111,
              "#46039f"
             ],
             [
              0.2222222222222222,
              "#7201a8"
             ],
             [
              0.3333333333333333,
              "#9c179e"
             ],
             [
              0.4444444444444444,
              "#bd3786"
             ],
             [
              0.5555555555555556,
              "#d8576b"
             ],
             [
              0.6666666666666666,
              "#ed7953"
             ],
             [
              0.7777777777777778,
              "#fb9f3a"
             ],
             [
              0.8888888888888888,
              "#fdca26"
             ],
             [
              1,
              "#f0f921"
             ]
            ],
            "type": "histogram2dcontour"
           }
          ],
          "mesh3d": [
           {
            "colorbar": {
             "outlinewidth": 0,
             "ticks": ""
            },
            "type": "mesh3d"
           }
          ],
          "parcoords": [
           {
            "line": {
             "colorbar": {
              "outlinewidth": 0,
              "ticks": ""
             }
            },
            "type": "parcoords"
           }
          ],
          "pie": [
           {
            "automargin": true,
            "type": "pie"
           }
          ],
          "scatter": [
           {
            "marker": {
             "line": {
              "color": "#283442"
             }
            },
            "type": "scatter"
           }
          ],
          "scatter3d": [
           {
            "line": {
             "colorbar": {
              "outlinewidth": 0,
              "ticks": ""
             }
            },
            "marker": {
             "colorbar": {
              "outlinewidth": 0,
              "ticks": ""
             }
            },
            "type": "scatter3d"
           }
          ],
          "scattercarpet": [
           {
            "marker": {
             "colorbar": {
              "outlinewidth": 0,
              "ticks": ""
             }
            },
            "type": "scattercarpet"
           }
          ],
          "scattergeo": [
           {
            "marker": {
             "colorbar": {
              "outlinewidth": 0,
              "ticks": ""
             }
            },
            "type": "scattergeo"
           }
          ],
          "scattergl": [
           {
            "marker": {
             "line": {
              "color": "#283442"
             }
            },
            "type": "scattergl"
           }
          ],
          "scattermapbox": [
           {
            "marker": {
             "colorbar": {
              "outlinewidth": 0,
              "ticks": ""
             }
            },
            "type": "scattermapbox"
           }
          ],
          "scatterpolar": [
           {
            "marker": {
             "colorbar": {
              "outlinewidth": 0,
              "ticks": ""
             }
            },
            "type": "scatterpolar"
           }
          ],
          "scatterpolargl": [
           {
            "marker": {
             "colorbar": {
              "outlinewidth": 0,
              "ticks": ""
             }
            },
            "type": "scatterpolargl"
           }
          ],
          "scatterternary": [
           {
            "marker": {
             "colorbar": {
              "outlinewidth": 0,
              "ticks": ""
             }
            },
            "type": "scatterternary"
           }
          ],
          "surface": [
           {
            "colorbar": {
             "outlinewidth": 0,
             "ticks": ""
            },
            "colorscale": [
             [
              0,
              "#0d0887"
             ],
             [
              0.1111111111111111,
              "#46039f"
             ],
             [
              0.2222222222222222,
              "#7201a8"
             ],
             [
              0.3333333333333333,
              "#9c179e"
             ],
             [
              0.4444444444444444,
              "#bd3786"
             ],
             [
              0.5555555555555556,
              "#d8576b"
             ],
             [
              0.6666666666666666,
              "#ed7953"
             ],
             [
              0.7777777777777778,
              "#fb9f3a"
             ],
             [
              0.8888888888888888,
              "#fdca26"
             ],
             [
              1,
              "#f0f921"
             ]
            ],
            "type": "surface"
           }
          ],
          "table": [
           {
            "cells": {
             "fill": {
              "color": "#506784"
             },
             "line": {
              "color": "rgb(17,17,17)"
             }
            },
            "header": {
             "fill": {
              "color": "#2a3f5f"
             },
             "line": {
              "color": "rgb(17,17,17)"
             }
            },
            "type": "table"
           }
          ]
         },
         "layout": {
          "annotationdefaults": {
           "arrowcolor": "#f2f5fa",
           "arrowhead": 0,
           "arrowwidth": 1
          },
          "autotypenumbers": "strict",
          "coloraxis": {
           "colorbar": {
            "outlinewidth": 0,
            "ticks": ""
           }
          },
          "colorscale": {
           "diverging": [
            [
             0,
             "#8e0152"
            ],
            [
             0.1,
             "#c51b7d"
            ],
            [
             0.2,
             "#de77ae"
            ],
            [
             0.3,
             "#f1b6da"
            ],
            [
             0.4,
             "#fde0ef"
            ],
            [
             0.5,
             "#f7f7f7"
            ],
            [
             0.6,
             "#e6f5d0"
            ],
            [
             0.7,
             "#b8e186"
            ],
            [
             0.8,
             "#7fbc41"
            ],
            [
             0.9,
             "#4d9221"
            ],
            [
             1,
             "#276419"
            ]
           ],
           "sequential": [
            [
             0,
             "#0d0887"
            ],
            [
             0.1111111111111111,
             "#46039f"
            ],
            [
             0.2222222222222222,
             "#7201a8"
            ],
            [
             0.3333333333333333,
             "#9c179e"
            ],
            [
             0.4444444444444444,
             "#bd3786"
            ],
            [
             0.5555555555555556,
             "#d8576b"
            ],
            [
             0.6666666666666666,
             "#ed7953"
            ],
            [
             0.7777777777777778,
             "#fb9f3a"
            ],
            [
             0.8888888888888888,
             "#fdca26"
            ],
            [
             1,
             "#f0f921"
            ]
           ],
           "sequentialminus": [
            [
             0,
             "#0d0887"
            ],
            [
             0.1111111111111111,
             "#46039f"
            ],
            [
             0.2222222222222222,
             "#7201a8"
            ],
            [
             0.3333333333333333,
             "#9c179e"
            ],
            [
             0.4444444444444444,
             "#bd3786"
            ],
            [
             0.5555555555555556,
             "#d8576b"
            ],
            [
             0.6666666666666666,
             "#ed7953"
            ],
            [
             0.7777777777777778,
             "#fb9f3a"
            ],
            [
             0.8888888888888888,
             "#fdca26"
            ],
            [
             1,
             "#f0f921"
            ]
           ]
          },
          "colorway": [
           "#636efa",
           "#EF553B",
           "#00cc96",
           "#ab63fa",
           "#FFA15A",
           "#19d3f3",
           "#FF6692",
           "#B6E880",
           "#FF97FF",
           "#FECB52"
          ],
          "font": {
           "color": "#f2f5fa"
          },
          "geo": {
           "bgcolor": "rgb(17,17,17)",
           "lakecolor": "rgb(17,17,17)",
           "landcolor": "rgb(17,17,17)",
           "showlakes": true,
           "showland": true,
           "subunitcolor": "#506784"
          },
          "hoverlabel": {
           "align": "left"
          },
          "hovermode": "closest",
          "mapbox": {
           "style": "dark"
          },
          "paper_bgcolor": "rgb(17,17,17)",
          "plot_bgcolor": "rgb(17,17,17)",
          "polar": {
           "angularaxis": {
            "gridcolor": "#506784",
            "linecolor": "#506784",
            "ticks": ""
           },
           "bgcolor": "rgb(17,17,17)",
           "radialaxis": {
            "gridcolor": "#506784",
            "linecolor": "#506784",
            "ticks": ""
           }
          },
          "scene": {
           "xaxis": {
            "backgroundcolor": "rgb(17,17,17)",
            "gridcolor": "#506784",
            "gridwidth": 2,
            "linecolor": "#506784",
            "showbackground": true,
            "ticks": "",
            "zerolinecolor": "#C8D4E3"
           },
           "yaxis": {
            "backgroundcolor": "rgb(17,17,17)",
            "gridcolor": "#506784",
            "gridwidth": 2,
            "linecolor": "#506784",
            "showbackground": true,
            "ticks": "",
            "zerolinecolor": "#C8D4E3"
           },
           "zaxis": {
            "backgroundcolor": "rgb(17,17,17)",
            "gridcolor": "#506784",
            "gridwidth": 2,
            "linecolor": "#506784",
            "showbackground": true,
            "ticks": "",
            "zerolinecolor": "#C8D4E3"
           }
          },
          "shapedefaults": {
           "line": {
            "color": "#f2f5fa"
           }
          },
          "sliderdefaults": {
           "bgcolor": "#C8D4E3",
           "bordercolor": "rgb(17,17,17)",
           "borderwidth": 1,
           "tickwidth": 0
          },
          "ternary": {
           "aaxis": {
            "gridcolor": "#506784",
            "linecolor": "#506784",
            "ticks": ""
           },
           "baxis": {
            "gridcolor": "#506784",
            "linecolor": "#506784",
            "ticks": ""
           },
           "bgcolor": "rgb(17,17,17)",
           "caxis": {
            "gridcolor": "#506784",
            "linecolor": "#506784",
            "ticks": ""
           }
          },
          "title": {
           "x": 0.05
          },
          "updatemenudefaults": {
           "bgcolor": "#506784",
           "borderwidth": 0
          },
          "xaxis": {
           "automargin": true,
           "gridcolor": "#283442",
           "linecolor": "#506784",
           "ticks": "",
           "title": {
            "standoff": 15
           },
           "zerolinecolor": "#283442",
           "zerolinewidth": 2
          },
          "yaxis": {
           "automargin": true,
           "gridcolor": "#283442",
           "linecolor": "#506784",
           "ticks": "",
           "title": {
            "standoff": 15
           },
           "zerolinecolor": "#283442",
           "zerolinewidth": 2
          }
         }
        },
        "title": {
         "text": "Investment Growth Over Time"
        },
        "xaxis": {
         "autorange": true,
         "range": [
          2024,
          2096
         ],
         "title": {
          "text": "Year"
         },
         "type": "linear"
        },
        "yaxis": {
         "autorange": true,
         "range": [
          -2734054.446998951,
          52347034.49298008
         ],
         "title": {
          "text": "Value (USD)"
         },
         "type": "linear"
        }
       }
      },
      "image/png": "[encoded data removed]",
      "text/html": [
       "<div>                            <div id=\"dd2fa709-da0e-4a9d-b989-14889fc63920\" class=\"plotly-graph-div\" style=\"height:525px; width:100%;\"></div>            <script type=\"text/javascript\">                require([\"plotly\"], function(Plotly) {                    window.PLOTLYENV=window.PLOTLYENV || {};                                    if (document.getElementById(\"dd2fa709-da0e-4a9d-b989-14889fc63920\")) {                    Plotly.newPlot(                        \"dd2fa709-da0e-4a9d-b989-14889fc63920\",                        [{\"mode\":\"lines\",\"name\":\"Ret_accnts\",\"x\":[2024,2025,2026,2027,2028,2029,2030,2031,2032,2033,2034,2035,2036,2037,2038,2039,2040,2041,2042,2043,2044,2045,2046,2047,2048,2049,2050,2051,2052,2053,2054,2055,2056,2057,2058,2059,2060,2061,2062,2063,2064,2065,2066,2067,2068,2069,2070,2071,2072,2073,2074,2075,2076,2077,2078,2079,2080,2081,2082,2083,2084,2085,2086,2087,2088,2089,2090,2091,2092,2093,2094,2095,2096],\"y\":[400000.0,521446.69739033864,426647.7726821987,529004.2170118182,774229.2055530633,886273.6326707194,1033850.3586000775,951996.3113582359,1001126.6903420823,948177.2476864245,1058123.350356389,1026839.8813110177,935767.0128580839,1188191.4717094828,1559054.0167137668,1225808.2779087871,1070918.7953334316,1092875.0800058693,1305873.881312041,1575976.6952934912,1752464.8071667282,1677062.4243307328,1931318.7470779002,1568906.20197331,1357349.6469399128,1365637.061256116,1345241.0619541008,1654973.0938489195,1477332.614386791,1380637.7001244084,1508139.9448889305,2209433.051285093,1980282.4406834876,1932769.3163302382,2023997.3529108034,1712327.4999959345,2035180.2929785268,1911300.440646013,2259626.121410534,1619038.4194380664,2026327.747754396,2289381.633323037,3038677.272142029,3514952.238371164,5090485.400123774,4860647.199780677,5576289.224460506,5178914.0852570655,4250057.909122541,4068214.964445002,5259651.710391249,5694861.813237664,6552422.259928432,5502151.038464952,6422525.205930458,6629856.731651332,8460043.810031576,9732986.093514618,12045391.461187722,12950778.517151257,17698660.71382857,22992773.8218744,30316337.680726603,36929624.84110455,34172690.24518538,42216982.60904308,41789306.33219075,35017238.9315333,27852932.600752722,27897028.463957127,32031498.11370412,38556740.534747966,37130575.43561497],\"type\":\"scatter\"},{\"mode\":\"lines\",\"name\":\"TSLA\",\"x\":[2024,2025,2026,2027,2028,2029,2030,2031,2032,2033,2034,2035,2036,2037,2038,2039,2040,2041,2042,2043,2044,2045,2046,2047,2048,2049,2050,2051,2052,2053,2054,2055,2056,2057,2058,2059,2060,2061,2062,2063,2064,2065,2066,2067,2068,2069,2070,2071,2072,2073,2074,2075,2076,2077,2078,2079,2080,2081,2082,2083,2084,2085,2086,2087,2088,2089,2090,2091,2092,2093,2094,2095,2096],\"y\":[1400000.0,1436980.302967673,1773629.133258153,1457346.6946363193,1287631.7891594793,1992439.0818343416,1978413.8957592307,1407113.8245358784,1647776.8258196372,1685671.483300768,1274192.4602674944,1650797.0020757467,1652428.8457216525,1860359.4139950634,2253978.1450046967,1611604.9146034245,1783854.8689783132,1484096.2246150693,1379447.1447798822,1419281.2710355704,1501698.5213093471,1448650.5067634308,1563969.1379228584,2115377.0708834557,1436904.0073711795,1415071.9039832943,1395210.9427468644,1915531.9167280146,2258655.0891678105,2690387.4114025114,2066036.78469579,2354792.5465816515,2184139.6408005306,2523398.1926489403,2783670.630939967,2845550.0209815474,4346838.476834983,5876760.329795227,5588599.413326883,5680682.593360672,6435602.066368531,6514009.322428866,7457044.919905282,7687871.631456472,7086257.511008082,9053488.656048132,9947342.342772007,10120493.296315685,9362239.13711839,12319265.43320969,13792564.047116918,15729165.953308726,15144820.517910311,22772715.35176468,26675575.84933718,31625007.285751693,37016374.31409557,33168156.739627074,39431794.69038383,39523335.54760705,40045237.35083188,37204289.4054103,37775497.89642781,42925771.47897612,48798075.208595164,35519505.22207761,43697700.192975715,38260763.886910625,39234248.01451665,29973649.433508772,37057220.30134185,41215934.3472634,49592980.045981124],\"type\":\"scatter\"},{\"mode\":\"lines\",\"name\":\"Marcus\",\"x\":[2024,2025,2026,2027,2028,2029,2030,2031,2032,2033,2034,2035,2036,2037,2038,2039,2040,2041,2042,2043,2044,2045,2046,2047,2048,2049,2050,2051,2052,2053,2054,2055,2056,2057,2058,2059,2060,2061,2062,2063,2064,2065,2066,2067,2068,2069,2070,2071,2072,2073,2074,2075,2076,2077,2078,2079,2080,2081,2082,2083,2084,2085,2086,2087,2088,2089,2090,2091,2092,2093,2094,2095,2096],\"y\":[20000.0,21000.0,22050.0,23152.5,24310.125,25525.631250000002,26801.912812500002,28142.008453125003,29549.108875781254,31026.56431957032,32577.892535548835,34206.787162326276,35917.126520442594,37712.98284646473,39598.631988787965,41578.563588227364,43657.491767638734,45840.36635602067,48132.3846738217,50539.00390751279,53065.954102888434,55719.25180803286,58505.2143984345,61430.47511835623,64501.998874274046,67727.09881798775,71113.45375888713,74669.12644683149,78402.58276917307,82322.71190763172,86438.84750301331,90760.78987816398,95298.82937207218,100063.7708406758,105066.9593827096,110320.30735184508,115836.32271943735,121628.13885540923,127709.5457981797,134095.0230880887,140799.77424249315,147839.76295461782,155231.75110234873,162993.33865746617,171143.00559033948,179700.15586985648,188685.16366334932,198119.42184651678,208025.39293884262,218426.66258578477,229347.995715074,240815.39550082773,252856.16527586913,265498.9735396626,278773.92221664573,292712.618327478,307348.2492438519,322715.6617060445,338851.44479134673,355794.0170309141,373583.7178824598,392262.9037765828,411876.04896541196,432469.85141368257,454093.34398436674,476798.0111835851,500637.91174276435,525669.8073299025,551953.2976963976,579550.9625812175,608528.5107102784,638954.9362457923,670902.683058082],\"type\":\"scatter\"},{\"mode\":\"lines\",\"name\":\"ret_home\",\"x\":[2024,2025,2026,2027,2028,2029,2030,2031,2032,2033,2034,2035,2036,2037,2038,2039,2040,2041,2042,2043,2044,2045,2046,2047,2048,2049,2050,2051,2052,2053,2054,2055,2056,2057,2058,2059,2060,2061,2062,2063,2064,2065,2066,2067,2068,2069,2070,2071,2072,2073,2074,2075,2076,2077,2078,2079,2080,2081,2082,2083,2084,2085,2086,2087,2088,2089,2090,2091,2092,2093,2094,2095,2096],\"y\":[239520.95808383235,256287.42514970063,274227.5449101797,293423.47305389226,313963.11616766476,335940.53429940133,359456.37170035945,384618.3177193846,411541.5999597416,440349.5119569235,471173.9777939082,504156.1562394818,539447.0871762455,577208.3832785827,617612.9701080836,660845.8780156495,707105.089476745,756602.4457401172,809564.6169419255,866234.1401278604,926870.5299368106,991751.4670323874,1061174.0697246545,1135456.2546053804,1214938.192427757,1299983.8658977,1390982.736510539,1488351.5280662768,1592536.1350309162,1704013.6644830804,1823294.6209968962,1950925.244466679,2087490.0115793466,2233614.312389901,2389967.3142571943,2557265.026255198,2736273.5780930617,2927812.728559576,3132759.6195587465,3352052.792927859,3586696.4884328092,3837765.242623106,4106408.809606724,4393857.426279195,4701427.4461187385,5030527.36734705,5382664.283061344,5759450.782875638,6162612.337676934,6593995.20131432,7055574.865406322,7549465.105984765,8077927.663403699,8643382.599841958,9248419.381830895,9895808.738559058,10588515.350258192,11329711.424776265,12122791.224510605,12971386.610226348,13879383.672942193,14850940.530048147,15890506.367151517,17002841.812852126,18193040.739751775,19466553.5915344,20829212.34294181,22287257.206947736,23847365.21143408,25516680.776234467,27302848.43057088,29214047.820710845,31259031.168160606],\"type\":\"scatter\"},{\"mode\":\"lines\",\"name\":\"us_rent\",\"x\":[2024,2025,2026,2027,2028,2029,2030,2031,2032,2033,2034,2035,2036,2037,2038,2039,2040,2041,2042,2043,2044,2045,2046,2047,2048,2049,2050,2051,2052,2053,2054,2055,2056,2057,2058,2059,2060,2061,2062,2063,2064,2065,2066,2067,2068,2069,2070,2071,2072,2073,2074,2075,2076,2077,2078,2079,2080,2081,2082,2083,2084,2085,2086,2087,2088,2089,2090,2091,2092,2093,2094,2095,2096],\"y\":[300000.0,299022.34462771984,298014.4888397901,296975.4584436655,295904.24468252435,294799.8027803359,293661.0504105495,292486.8660835527,291276.08744769613,290027.5094983144,288739.88268876844,287411.91093710554,286042.24952147005,284629.5028568983,283172.22214559594,281668.9028922171,280117.9822750457,278517.83636330924,276866.77717013605,275163.0495298932,273404.8277878078,271590.2122888772,269717.2256521073,267783.80881507706,265787.8168327081,263727.0144129103,261599.07117047685,259401.55657920026,257131.9346006774,254787.55796664435,270098.31746221706,286717.13623749674,304749.71213842044,324310.11745639227,345521.4575964873,368516.58140784956,393438.8472240882,420442.94897849846,449695.807100782,481377.5292705583,515682.4465004417,552820.2304500649,593017.0983346027,636517.1122897088,683583.5805921649,734500.5687150084,789574.528820745,849136.0569700212,913541.7880496642,983176.43920741,1058455.013425411,1139825.1757755233,1227769.8158816162,1322809.8111733024,1425507.0066575722,1536467.4281663424,1656344.747365874,1785844.018245952,1925725.7063507799,2076810.033678501,2239981.663971596,2416194.7550563226,2606478.406976856,2811942.5369207556,3033784.2143595912,3273294.4924458256,3531865.774529269,3810999.757699594,4112315.9985428955,4437561.149838691,4788618.920739243,5167520.817087353,5576457.722965147],\"type\":\"scatter\"},{\"mode\":\"lines\",\"name\":\"Ind_land\",\"x\":[2024,2025,2026,2027,2028,2029,2030,2031,2032,2033,2034,2035,2036,2037,2038,2039,2040,2041,2042,2043,2044,2045,2046,2047,2048,2049,2050,2051,2052,2053,2054,2055,2056,2057,2058,2059,2060,2061,2062,2063,2064,2065,2066,2067,2068,2069,2070,2071,2072,2073,2074,2075,2076,2077,2078,2079,2080,2081,2082,2083,2084,2085,2086,2087,2088,2089,2090,2091,2092,2093,2094,2095,2096],\"y\":[59880.239520958086,62874.25149700599,66017.9640718563,69318.86227544912,72784.80538922158,76424.04565868266,80245.24794161679,84257.51033869764,88470.38585563253,92893.90514841415,97538.60040583486,102415.53042612661,107536.30694743295,112913.1222948046,118558.77840954484,124486.71733002209,130711.0531965232,137246.60585634937,144108.93614916684,151314.3829566252,158880.10210445645,166824.1072096793,175165.31257016325,183923.57819867143,193119.757108605,202775.74496403526,212914.53221223704,223560.2588228489,234738.27176399136,246475.18535219095,258798.94461980052,271738.89185079053,285325.83644333004,299592.1282654966,314571.7346787714,330300.32141271,346815.33748334553,364156.10435751284,382363.9095753885,401482.1050541579,421556.2103068658,442634.02082220913,464765.72186331963,488004.0079564856,512404.2083543099,538024.4187720254,564925.6397106267,593171.921696158,622830.5177809659,653972.0436700142,686670.645853515,721004.1781461908,757054.3870535004,794907.1064061754,834652.4617264842,876385.0848128084,920204.3390534489,966214.5560061213,1014525.2838064275,1065251.547996749,1118514.1253965865,1174439.8316664158,1233161.8232497366,1294819.9144122235,1359560.9101328347,1427538.9556394764,1498915.9034214504,1573861.6985925229,1652554.783522149,1735182.5226982567,1821941.6488331696,1913038.731274828,2008690.6678385695],\"type\":\"scatter\"}],                        {\"template\":{\"data\":{\"barpolar\":[{\"marker\":{\"line\":{\"color\":\"rgb(17,17,17)\",\"width\":0.5},\"pattern\":{\"fillmode\":\"overlay\",\"size\":10,\"solidity\":0.2}},\"type\":\"barpolar\"}],\"bar\":[{\"error_x\":{\"color\":\"#f2f5fa\"},\"error_y\":{\"color\":\"#f2f5fa\"},\"marker\":{\"line\":{\"color\":\"rgb(17,17,17)\",\"width\":0.5},\"pattern\":{\"fillmode\":\"overlay\",\"size\":10,\"solidity\":0.2}},\"type\":\"bar\"}],\"carpet\":[{\"aaxis\":{\"endlinecolor\":\"#A2B1C6\",\"gridcolor\":\"#506784\",\"linecolor\":\"#506784\",\"minorgridcolor\":\"#506784\",\"startlinecolor\":\"#A2B1C6\"},\"baxis\":{\"endlinecolor\":\"#A2B1C6\",\"gridcolor\":\"#506784\",\"linecolor\":\"#506784\",\"minorgridcolor\":\"#506784\",\"startlinecolor\":\"#A2B1C6\"},\"type\":\"carpet\"}],\"choropleth\":[{\"colorbar\":{\"outlinewidth\":0,\"ticks\":\"\"},\"type\":\"choropleth\"}],\"contourcarpet\":[{\"colorbar\":{\"outlinewidth\":0,\"ticks\":\"\"},\"type\":\"contourcarpet\"}],\"contour\":[{\"colorbar\":{\"outlinewidth\":0,\"ticks\":\"\"},\"colorscale\":[[0.0,\"#0d0887\"],[0.1111111111111111,\"#46039f\"],[0.2222222222222222,\"#7201a8\"],[0.3333333333333333,\"#9c179e\"],[0.4444444444444444,\"#bd3786\"],[0.5555555555555556,\"#d8576b\"],[0.6666666666666666,\"#ed7953\"],[0.7777777777777778,\"#fb9f3a\"],[0.8888888888888888,\"#fdca26\"],[1.0,\"#f0f921\"]],\"type\":\"contour\"}],\"heatmapgl\":[{\"colorbar\":{\"outlinewidth\":0,\"ticks\":\"\"},\"colorscale\":[[0.0,\"#0d0887\"],[0.1111111111111111,\"#46039f\"],[0.2222222222222222,\"#7201a8\"],[0.3333333333333333,\"#9c179e\"],[0.4444444444444444,\"#bd3786\"],[0.5555555555555556,\"#d8576b\"],[0.6666666666666666,\"#ed7953\"],[0.7777777777777778,\"#fb9f3a\"],[0.8888888888888888,\"#fdca26\"],[1.0,\"#f0f921\"]],\"type\":\"heatmapgl\"}],\"heatmap\":[{\"colorbar\":{\"outlinewidth\":0,\"ticks\":\"\"},\"colorscale\":[[0.0,\"#0d0887\"],[0.1111111111111111,\"#46039f\"],[0.2222222222222222,\"#7201a8\"],[0.3333333333333333,\"#9c179e\"],[0.4444444444444444,\"#bd3786\"],[0.5555555555555556,\"#d8576b\"],[0.6666666666666666,\"#ed7953\"],[0.7777777777777778,\"#fb9f3a\"],[0.8888888888888888,\"#fdca26\"],[1.0,\"#f0f921\"]],\"type\":\"heatmap\"}],\"histogram2dcontour\":[{\"colorbar\":{\"outlinewidth\":0,\"ticks\":\"\"},\"colorscale\":[[0.0,\"#0d0887\"],[0.1111111111111111,\"#46039f\"],[0.2222222222222222,\"#7201a8\"],[0.3333333333333333,\"#9c179e\"],[0.4444444444444444,\"#bd3786\"],[0.5555555555555556,\"#d8576b\"],[0.6666666666666666,\"#ed7953\"],[0.7777777777777778,\"#fb9f3a\"],[0.8888888888888888,\"#fdca26\"],[1.0,\"#f0f921\"]],\"type\":\"histogram2dcontour\"}],\"histogram2d\":[{\"colorbar\":{\"outlinewidth\":0,\"ticks\":\"\"},\"colorscale\":[[0.0,\"#0d0887\"],[0.1111111111111111,\"#46039f\"],[0.2222222222222222,\"#7201a8\"],[0.3333333333333333,\"#9c179e\"],[0.4444444444444444,\"#bd3786\"],[0.5555555555555556,\"#d8576b\"],[0.6666666666666666,\"#ed7953\"],[0.7777777777777778,\"#fb9f3a\"],[0.8888888888888888,\"#fdca26\"],[1.0,\"#f0f921\"]],\"type\":\"histogram2d\"}],\"histogram\":[{\"marker\":{\"pattern\":{\"fillmode\":\"overlay\",\"size\":10,\"solidity\":0.2}},\"type\":\"histogram\"}],\"mesh3d\":[{\"colorbar\":{\"outlinewidth\":0,\"ticks\":\"\"},\"type\":\"mesh3d\"}],\"parcoords\":[{\"line\":{\"colorbar\":{\"outlinewidth\":0,\"ticks\":\"\"}},\"type\":\"parcoords\"}],\"pie\":[{\"automargin\":true,\"type\":\"pie\"}],\"scatter3d\":[{\"line\":{\"colorbar\":{\"outlinewidth\":0,\"ticks\":\"\"}},\"marker\":{\"colorbar\":{\"outlinewidth\":0,\"ticks\":\"\"}},\"type\":\"scatter3d\"}],\"scattercarpet\":[{\"marker\":{\"colorbar\":{\"outlinewidth\":0,\"ticks\":\"\"}},\"type\":\"scattercarpet\"}],\"scattergeo\":[{\"marker\":{\"colorbar\":{\"outlinewidth\":0,\"ticks\":\"\"}},\"type\":\"scattergeo\"}],\"scattergl\":[{\"marker\":{\"line\":{\"color\":\"#283442\"}},\"type\":\"scattergl\"}],\"scattermapbox\":[{\"marker\":{\"colorbar\":{\"outlinewidth\":0,\"ticks\":\"\"}},\"type\":\"scattermapbox\"}],\"scatterpolargl\":[{\"marker\":{\"colorbar\":{\"outlinewidth\":0,\"ticks\":\"\"}},\"type\":\"scatterpolargl\"}],\"scatterpolar\":[{\"marker\":{\"colorbar\":{\"outlinewidth\":0,\"ticks\":\"\"}},\"type\":\"scatterpolar\"}],\"scatter\":[{\"marker\":{\"line\":{\"color\":\"#283442\"}},\"type\":\"scatter\"}],\"scatterternary\":[{\"marker\":{\"colorbar\":{\"outlinewidth\":0,\"ticks\":\"\"}},\"type\":\"scatterternary\"}],\"surface\":[{\"colorbar\":{\"outlinewidth\":0,\"ticks\":\"\"},\"colorscale\":[[0.0,\"#0d0887\"],[0.1111111111111111,\"#46039f\"],[0.2222222222222222,\"#7201a8\"],[0.3333333333333333,\"#9c179e\"],[0.4444444444444444,\"#bd3786\"],[0.5555555555555556,\"#d8576b\"],[0.6666666666666666,\"#ed7953\"],[0.7777777777777778,\"#fb9f3a\"],[0.8888888888888888,\"#fdca26\"],[1.0,\"#f0f921\"]],\"type\":\"surface\"}],\"table\":[{\"cells\":{\"fill\":{\"color\":\"#506784\"},\"line\":{\"color\":\"rgb(17,17,17)\"}},\"header\":{\"fill\":{\"color\":\"#2a3f5f\"},\"line\":{\"color\":\"rgb(17,17,17)\"}},\"type\":\"table\"}]},\"layout\":{\"annotationdefaults\":{\"arrowcolor\":\"#f2f5fa\",\"arrowhead\":0,\"arrowwidth\":1},\"autotypenumbers\":\"strict\",\"coloraxis\":{\"colorbar\":{\"outlinewidth\":0,\"ticks\":\"\"}},\"colorscale\":{\"diverging\":[[0,\"#8e0152\"],[0.1,\"#c51b7d\"],[0.2,\"#de77ae\"],[0.3,\"#f1b6da\"],[0.4,\"#fde0ef\"],[0.5,\"#f7f7f7\"],[0.6,\"#e6f5d0\"],[0.7,\"#b8e186\"],[0.8,\"#7fbc41\"],[0.9,\"#4d9221\"],[1,\"#276419\"]],\"sequential\":[[0.0,\"#0d0887\"],[0.1111111111111111,\"#46039f\"],[0.2222222222222222,\"#7201a8\"],[0.3333333333333333,\"#9c179e\"],[0.4444444444444444,\"#bd3786\"],[0.5555555555555556,\"#d8576b\"],[0.6666666666666666,\"#ed7953\"],[0.7777777777777778,\"#fb9f3a\"],[0.8888888888888888,\"#fdca26\"],[1.0,\"#f0f921\"]],\"sequentialminus\":[[0.0,\"#0d0887\"],[0.1111111111111111,\"#46039f\"],[0.2222222222222222,\"#7201a8\"],[0.3333333333333333,\"#9c179e\"],[0.4444444444444444,\"#bd3786\"],[0.5555555555555556,\"#d8576b\"],[0.6666666666666666,\"#ed7953\"],[0.7777777777777778,\"#fb9f3a\"],[0.8888888888888888,\"#fdca26\"],[1.0,\"#f0f921\"]]},\"colorway\":[\"#636efa\",\"#EF553B\",\"#00cc96\",\"#ab63fa\",\"#FFA15A\",\"#19d3f3\",\"#FF6692\",\"#B6E880\",\"#FF97FF\",\"#FECB52\"],\"font\":{\"color\":\"#f2f5fa\"},\"geo\":{\"bgcolor\":\"rgb(17,17,17)\",\"lakecolor\":\"rgb(17,17,17)\",\"landcolor\":\"rgb(17,17,17)\",\"showlakes\":true,\"showland\":true,\"subunitcolor\":\"#506784\"},\"hoverlabel\":{\"align\":\"left\"},\"hovermode\":\"closest\",\"mapbox\":{\"style\":\"dark\"},\"paper_bgcolor\":\"rgb(17,17,17)\",\"plot_bgcolor\":\"rgb(17,17,17)\",\"polar\":{\"angularaxis\":{\"gridcolor\":\"#506784\",\"linecolor\":\"#506784\",\"ticks\":\"\"},\"bgcolor\":\"rgb(17,17,17)\",\"radialaxis\":{\"gridcolor\":\"#506784\",\"linecolor\":\"#506784\",\"ticks\":\"\"}},\"scene\":{\"xaxis\":{\"backgroundcolor\":\"rgb(17,17,17)\",\"gridcolor\":\"#506784\",\"gridwidth\":2,\"linecolor\":\"#506784\",\"showbackground\":true,\"ticks\":\"\",\"zerolinecolor\":\"#C8D4E3\"},\"yaxis\":{\"backgroundcolor\":\"rgb(17,17,17)\",\"gridcolor\":\"#506784\",\"gridwidth\":2,\"linecolor\":\"#506784\",\"showbackground\":true,\"ticks\":\"\",\"zerolinecolor\":\"#C8D4E3\"},\"zaxis\":{\"backgroundcolor\":\"rgb(17,17,17)\",\"gridcolor\":\"#506784\",\"gridwidth\":2,\"linecolor\":\"#506784\",\"showbackground\":true,\"ticks\":\"\",\"zerolinecolor\":\"#C8D4E3\"}},\"shapedefaults\":{\"line\":{\"color\":\"#f2f5fa\"}},\"sliderdefaults\":{\"bgcolor\":\"#C8D4E3\",\"bordercolor\":\"rgb(17,17,17)\",\"borderwidth\":1,\"tickwidth\":0},\"ternary\":{\"aaxis\":{\"gridcolor\":\"#506784\",\"linecolor\":\"#506784\",\"ticks\":\"\"},\"baxis\":{\"gridcolor\":\"#506784\",\"linecolor\":\"#506784\",\"ticks\":\"\"},\"bgcolor\":\"rgb(17,17,17)\",\"caxis\":{\"gridcolor\":\"#506784\",\"linecolor\":\"#506784\",\"ticks\":\"\"}},\"title\":{\"x\":0.05},\"updatemenudefaults\":{\"bgcolor\":\"#506784\",\"borderwidth\":0},\"xaxis\":{\"automargin\":true,\"gridcolor\":\"#283442\",\"linecolor\":\"#506784\",\"ticks\":\"\",\"title\":{\"standoff\":15},\"zerolinecolor\":\"#283442\",\"zerolinewidth\":2},\"yaxis\":{\"automargin\":true,\"gridcolor\":\"#283442\",\"linecolor\":\"#506784\",\"ticks\":\"\",\"title\":{\"standoff\":15},\"zerolinecolor\":\"#283442\",\"zerolinewidth\":2}}},\"title\":{\"text\":\"Investment Growth Over Time\"},\"xaxis\":{\"title\":{\"text\":\"Year\"}},\"yaxis\":{\"title\":{\"text\":\"Value (USD)\"}}},                        {\"responsive\": true}                    ).then(function(){\n",
       "                            \n",
       "var gd = document.getElementById('dd2fa709-da0e-4a9d-b989-14889fc63920');\n",
       "var x = new MutationObserver(function (mutations, observer) {{\n",
       "        var display = window.getComputedStyle(gd).display;\n",
       "        if (!display || display === 'none') {{\n",
       "            console.log([gd, 'removed!']);\n",
       "            Plotly.purge(gd);\n",
       "            observer.disconnect();\n",
       "        }}\n",
       "}});\n",
       "\n",
       "// Listen for the removal of the full notebook cells\n",
       "var notebookContainer = gd.closest('#notebook-container');\n",
       "if (notebookContainer) {{\n",
       "    x.observe(notebookContainer, {childList: true});\n",
       "}}\n",
       "\n",
       "// Listen for the clearing of the current output cell\n",
       "var outputEl = gd.closest('.output');\n",
       "if (outputEl) {{\n",
       "    x.observe(outputEl, {childList: true});\n",
       "}}\n",
       "\n",
       "                        })                };                });            </script>        </div>"
      ]
     },
     "metadata": {},
     "output_type": "display_data"
    }
   ],
   "source": [
    "# Function to convert INR investments to USD\n",
    "def convert_inr_to_usd(inr_value, usd_inr_rate, usd_inr_mean_growth, usd_inr_std, years):\n",
    "    usd_values = [inr_value / usd_inr_rate]\n",
    "    for year in range(1, years + 1):\n",
    "        usd_inr_rate *= np.random.normal(1 + usd_inr_mean_growth, usd_inr_std)\n",
    "        usd_value = inr_value / usd_inr_rate\n",
    "        usd_values.append(usd_value)\n",
    "    return usd_values\n",
    "\n",
    " \n",
    "# Function to calculate mortgage payment (EMI)\n",
    "def calculate_mortgage_payment(principal, annual_rate, term_years):\n",
    "    monthly_rate = annual_rate / 12 / 100\n",
    "    payments = term_years * 12\n",
    "    return principal * monthly_rate / (1 - (1 + monthly_rate) ** -payments)\n",
    "\n",
    "# Function to calculate investment growth with beta adjustment and yearly additions\n",
    "def calculate_investment_growth_with_beta(current_value, mean_yoy_growthrate, std_yoy_growthrate, beta, additions_yearly, years):\n",
    "    values = [current_value]\n",
    "    for year in range(1, years + 1):\n",
    "        market_growth_rate = np.random.normal(stock_market_mean_yoy_growthrate_percent / 100, stock_market_std_yoy_growthrate)\n",
    "        adjusted_growth_rate = mean_yoy_growthrate / 100 + beta * (market_growth_rate - stock_market_mean_yoy_growthrate_percent / 100)\n",
    "        new_value = values[-1] * (1 + adjusted_growth_rate) + additions_yearly\n",
    "        values.append(new_value)\n",
    "    return values\n",
    "\n",
    "# Function to calculate investment growth for non-stock investments with yearly additions\n",
    "def calculate_investment_growth(current_value, mean_yoy_growthrate, std_yoy_growthrate, additions_yearly, years):\n",
    "    values = [current_value]\n",
    "    for year in range(1, years + 1):\n",
    "        growth_rate = np.random.normal(mean_yoy_growthrate / 100, std_yoy_growthrate)\n",
    "        new_value = values[-1] * (1 + growth_rate) + additions_yearly\n",
    "        values.append(new_value)\n",
    "    return values\n",
    "\n",
    "# Function to calculate real estate investment with mortgage, rental income, taxes, etc.\n",
    "def calculate_real_estate_investment(investment, years):\n",
    "    values = [investment['current_value']]\n",
    "    mortgage_principal = investment['current_value'] * (1 - investment['down_percent'] / 100)\n",
    "    mortgage_payment = calculate_mortgage_payment(mortgage_principal, investment['mortgage_percent'], investment['mortgage_term'])\n",
    "    for year in range(1, years + 1):\n",
    "        if current_year + year < investment['mortgage_start_year'] + investment['mortgage_term']:\n",
    "            mortgage_payment_yearly = mortgage_payment * 12\n",
    "        else:\n",
    "            mortgage_payment_yearly = 0\n",
    "        rental_income = investment['rental_income'] * (1 + investment['rental_income_yoy_inc_percent'] / 100) ** year\n",
    "        property_tax = investment['current_value'] * investment['property_tax_percent'] / 100\n",
    "        yearly_costs = mortgage_payment_yearly + property_tax + investment['HOA_or_maintainance'] * 12 + investment['home_insurance'] * 12 + investment['yearly_misc_repair_or_other']\n",
    "        new_value = values[-1] * (1 + investment['mean_yoy_growthrate_percent'] / 100) + rental_income - yearly_costs\n",
    "        values.append(new_value)\n",
    "    return values\n",
    "\n",
    "# Simulating the investment growth for each investment\n",
    "investment_values = {}\n",
    "for key, investment in Investments.items():\n",
    "    if investment['currency'] == 'INR':\n",
    "        converted_values = convert_inr_to_usd(investment['current_value'], USD_INR_rate, USD_INR_mean_growth_percent, USD_INR_STD, years_to_calculate)\n",
    "        investment['current_value'] = converted_values[0]  # Use the converted initial value\n",
    "        values = calculate_investment_growth(investment['current_value'], investment['mean_yoy_growthrate_percent'], 0, investment.get('additions_yearly', 0), years_to_calculate)\n",
    "        investment_values[key] = values\n",
    "    elif investment['type'] == 'stock':\n",
    "        values = calculate_investment_growth_with_beta(investment['current_value'],investment['mean_yoy_growthrate_percent'],investment['std_yoy_growthrate'], investment['beta'], investment['additions_yearly'], years_to_calculate)\n",
    "        investment_values[key] = values\n",
    "    elif investment['type'] == 'cash_certificate':\n",
    "        values = calculate_investment_growth(investment['current_value'], investment['mean_yoy_growthrate_percent'], 0, investment['additions_yearly'], years_to_calculate)\n",
    "        investment_values[key] = values\n",
    "    elif investment['type'] == 'real_estate':\n",
    "        values = calculate_real_estate_investment(investment, years_to_calculate)\n",
    "        investment_values[key] = values\n",
    "\n",
    "# Converting the investment values to a DataFrame for easier manipulation and visualization\n",
    "df_investments = pd.DataFrame(investment_values)\n",
    "df_investments.index = range(current_year, current_year + years_to_calculate + 1)\n",
    "\n",
    "# Plotting the investment values using Plotly\n",
    "fig = go.Figure()\n",
    "for column in df_investments.columns:\n",
    "    fig.add_trace(go.Scatter(x=df_investments.index, y=df_investments[column], mode='lines', name=column))\n",
    "\n",
    "fig.update_layout(\n",
    "    title='Investment Growth Over Time',\n",
    "    xaxis_title='Year',\n",
    "    yaxis_title='Value (USD)',\n",
    "    template='plotly_dark'\n",
    ")\n",
    "\n",
    "# Show the plot\n",
    "fig.show()\n"
   ]
  },
  {
   "cell_type": "code",
   "execution_count": null,
   "id": "a6ebcb0e-b305-4264-80ee-3be0e388d655",
   "metadata": {},
   "outputs": [],
   "source": []
  }
 ],
 "metadata": {
  "kernelspec": {
   "display_name": "Python 3 (ipykernel)",
   "language": "python",
   "name": "python3"
  },
  "language_info": {
   "codemirror_mode": {
    "name": "ipython",
    "version": 3
   },
   "file_extension": ".py",
   "mimetype": "text/x-python",
   "name": "python",
   "nbconvert_exporter": "python",
   "pygments_lexer": "ipython3",
   "version": "3.12.2"
  }
 },
 "nbformat": 4,
 "nbformat_minor": 5
}
