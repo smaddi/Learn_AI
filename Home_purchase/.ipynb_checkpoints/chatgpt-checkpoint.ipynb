{
 "cells": [
  {
   "cell_type": "code",
   "execution_count": 7,
   "id": "ee402717-c0b8-4061-85d3-afb36c16c522",
   "metadata": {},
   "outputs": [
    {
     "data": {
      "application/vnd.plotly.v1+json": {
       "config": {
        "plotlyServerURL": "https://plot.ly"
       },
       "data": [
        {
         "mode": "lines",
         "name": "Stock Investment",
         "type": "scatter",
         "x": [
          1,
          2,
          3,
          4,
          5,
          6,
          7,
          8,
          9,
          10,
          11,
          12,
          13,
          14,
          15,
          16,
          17,
          18,
          19,
          20,
          21,
          22,
          23,
          24,
          25,
          26,
          27,
          28,
          29,
          30
         ],
         "y": [
          5406,
          11190.419999999995,
          17379.749400000008,
          24002.33185800001,
          31088.495088060034,
          38670.68974422423,
          46783.63802631993,
          55464.49268816234,
          64753.00717633372,
          74691.71767867706,
          85326.1379161845,
          96704.96757031739,
          108880.31530023961,
          121907.93737125641,
          135847.49298724436,
          150762.8174963515,
          166722.2147210961,
          183798.76975157287,
          202070.683634183,
          221621.63148857577,
          242541.14569277613,
          264925.0258912705,
          288875.7777036594,
          314503.0821429156,
          341924.29789291974,
          371264.9987454241,
          402659.54865760385,
          436251.7170636361,
          472195.33725809073,
          510655.010866157
         ]
        },
        {
         "mode": "lines",
         "name": "Real Estate (Interest Rate: 3.0%)",
         "type": "scatter",
         "x": [
          1,
          2,
          3,
          4,
          5,
          6,
          7,
          8,
          9,
          10,
          11,
          12,
          13,
          14,
          15,
          16,
          17,
          18,
          19,
          20,
          21,
          22,
          23,
          24,
          25,
          26,
          27,
          28,
          29,
          30
         ],
         "y": [
          -21580.8426358571,
          1796.472772020934,
          25748.737377669167,
          50197.279653706544,
          73954.22980606084,
          98297.92862476176,
          123246.12378399237,
          148817.09980498947,
          175029.6942957975,
          201903.31468230177,
          229457.95544540105,
          257714.21587963606,
          286693.31838904595,
          316417.1273365072,
          346908.16846329946,
          378189.64889614907,
          410285.477759523,
          443220.2874114864,
          477019.4553219839,
          511709.12661298574,
          547316.2372805183,
          583868.5381192093,
          621394.619370603,
          659923.9361171391,
          699486.8344443563,
          740114.5783945627,
          781839.3777359136,
          824694.4165715725,
          868713.8828143647,
          913932.9985531105
         ]
        },
        {
         "mode": "lines",
         "name": "Real Estate (Interest Rate: 3.5%)",
         "type": "scatter",
         "x": [
          1,
          2,
          3,
          4,
          5,
          6,
          7,
          8,
          9,
          10,
          11,
          12,
          13,
          14,
          15,
          16,
          17,
          18,
          19,
          20,
          21,
          22,
          23,
          24,
          25,
          26,
          27,
          28,
          29,
          30
         ],
         "y": [
          -22764.046660379594,
          -531.465478112761,
          22317.498104737897,
          45707.28988196571,
          68453.31824803594,
          91837.37029104799,
          115880.81563878892,
          140605.74428368243,
          166034.99101332677,
          192192.16067423328,
          219101.65429732858,
          246788.69611476635,
          275279.36149861396,
          304600.60585303145,
          334780.2944926473,
          365847.23354096856,
          397831.2018838216,
          430762.9842140325,
          464674.4052048003,
          499598.3648505095,
          535568.8750150639,
          572621.0972292068,
          610791.3817797216,
          650117.3081348871,
          690637.7267520956,
          732392.8023151208,
          775424.0584501649,
          819774.4239715099,
          865488.2807093547,
          912611.5129742252
         ]
        },
        {
         "mode": "lines",
         "name": "Real Estate (Interest Rate: 4.0%)",
         "type": "scatter",
         "x": [
          1,
          2,
          3,
          4,
          5,
          6,
          7,
          8,
          9,
          10,
          11,
          12,
          13,
          14,
          15,
          16,
          17,
          18,
          19,
          20,
          21,
          22,
          23,
          24,
          25,
          26,
          27,
          28,
          29,
          30
         ],
         "y": [
          -23843.330550914994,
          -2738.7956770527453,
          18933.17404571987,
          41196.346240634346,
          62920.86148475655,
          85333.32253358467,
          108459.20474113864,
          132324.9447880822,
          156957.97755029608,
          182386.77440061333,
          208640.88300003725,
          235750.96863699792,
          263748.8571755215,
          292667.5796756038,
          322541.41875158815,
          353405.9567369613,
          385298.12572669215,
          418256.2595710669,
          452320.14789790683,
          487531.09224311163,
          523931.9643726435,
          561567.2668823774,
          600483.1961656668,
          640727.7078420593,
          682350.5847443001,
          725403.5075646379,
          769940.1282654486,
          816016.1463633927,
          863689.3882006535,
          913019.8893213278
         ]
        },
        {
         "mode": "lines",
         "name": "Real Estate (Interest Rate: 4.5%)",
         "type": "scatter",
         "x": [
          1,
          2,
          3,
          4,
          5,
          6,
          7,
          8,
          9,
          10,
          11,
          12,
          13,
          14,
          15,
          16,
          17,
          18,
          19,
          20,
          21,
          22,
          23,
          24,
          25,
          26,
          27,
          28,
          29,
          30
         ],
         "y": [
          -24768.217899507144,
          -4562.654018943635,
          16239.007948552295,
          37564.021674685224,
          58230.86543625627,
          79524.67497535938,
          101470.46505121174,
          124094.28595852494,
          147810.67831651896,
          172501.88310098162,
          198093.3936808411,
          224622.17868744838,
          252126.77334682993,
          280647.3474966388,
          310225.7766092297,
          340905.7159554006,
          372732.6780494187,
          405754.1135222995,
          440019.49557694484,
          475580.4081856889,
          512490.63819804834,
          550806.271534074,
          590585.7936466074,
          631890.1944440635,
          674783.0778740024,
          719330.7763768352,
          765602.4704284644,
          813670.3134005824,
          863609.5619776862,
          915498.7123807139
         ]
        },
        {
         "mode": "lines",
         "name": "Real Estate (Interest Rate: 5.0%)",
         "type": "scatter",
         "x": [
          1,
          2,
          3,
          4,
          5,
          6,
          7,
          8,
          9,
          10,
          11,
          12,
          13,
          14,
          15,
          16,
          17,
          18,
          19,
          20,
          21,
          22,
          23,
          24,
          25,
          26,
          27,
          28,
          29,
          30
         ],
         "y": [
          -25693.91641697174,
          -6389.798144434913,
          13537.610698939156,
          34018.731793789404,
          53875.455132616175,
          74396.58809833464,
          95611.09423649317,
          117549.26805524174,
          140242.7985938837,
          163724.83610793552,
          188030.0620260653,
          213423.5979618046,
          240438.40712172945,
          268569.8113175118,
          297868.5671951708,
          328387.8370928113,
          360183.3063869679,
          393313.3066706092,
          427838.9450560004,
          463824.239910465,
          501336.2633486978,
          540445.2908216594,
          581224.9581593288,
          623752.4264426782,
          668108.5550992684,
          714378.0836368586,
          762649.8224504252,
          813016.8531600714,
          865576.7389605173,
          920431.745487229
         ]
        }
       ],
       "layout": {
        "height": 600,
        "legend": {
         "title": {
          "text": "Investment Type"
         }
        },
        "template": {
         "data": {
          "bar": [
           {
            "error_x": {
             "color": "#2a3f5f"
            },
            "error_y": {
             "color": "#2a3f5f"
            },
            "marker": {
             "line": {
              "color": "#E5ECF6",
              "width": 0.5
             },
             "pattern": {
              "fillmode": "overlay",
              "size": 10,
              "solidity": 0.2
             }
            },
            "type": "bar"
           }
          ],
          "barpolar": [
           {
            "marker": {
             "line": {
              "color": "#E5ECF6",
              "width": 0.5
             },
             "pattern": {
              "fillmode": "overlay",
              "size": 10,
              "solidity": 0.2
             }
            },
            "type": "barpolar"
           }
          ],
          "carpet": [
           {
            "aaxis": {
             "endlinecolor": "#2a3f5f",
             "gridcolor": "white",
             "linecolor": "white",
             "minorgridcolor": "white",
             "startlinecolor": "#2a3f5f"
            },
            "baxis": {
             "endlinecolor": "#2a3f5f",
             "gridcolor": "white",
             "linecolor": "white",
             "minorgridcolor": "white",
             "startlinecolor": "#2a3f5f"
            },
            "type": "carpet"
           }
          ],
          "choropleth": [
           {
            "colorbar": {
             "outlinewidth": 0,
             "ticks": ""
            },
            "type": "choropleth"
           }
          ],
          "contour": [
           {
            "colorbar": {
             "outlinewidth": 0,
             "ticks": ""
            },
            "colorscale": [
             [
              0,
              "#0d0887"
             ],
             [
              0.1111111111111111,
              "#46039f"
             ],
             [
              0.2222222222222222,
              "#7201a8"
             ],
             [
              0.3333333333333333,
              "#9c179e"
             ],
             [
              0.4444444444444444,
              "#bd3786"
             ],
             [
              0.5555555555555556,
              "#d8576b"
             ],
             [
              0.6666666666666666,
              "#ed7953"
             ],
             [
              0.7777777777777778,
              "#fb9f3a"
             ],
             [
              0.8888888888888888,
              "#fdca26"
             ],
             [
              1,
              "#f0f921"
             ]
            ],
            "type": "contour"
           }
          ],
          "contourcarpet": [
           {
            "colorbar": {
             "outlinewidth": 0,
             "ticks": ""
            },
            "type": "contourcarpet"
           }
          ],
          "heatmap": [
           {
            "colorbar": {
             "outlinewidth": 0,
             "ticks": ""
            },
            "colorscale": [
             [
              0,
              "#0d0887"
             ],
             [
              0.1111111111111111,
              "#46039f"
             ],
             [
              0.2222222222222222,
              "#7201a8"
             ],
             [
              0.3333333333333333,
              "#9c179e"
             ],
             [
              0.4444444444444444,
              "#bd3786"
             ],
             [
              0.5555555555555556,
              "#d8576b"
             ],
             [
              0.6666666666666666,
              "#ed7953"
             ],
             [
              0.7777777777777778,
              "#fb9f3a"
             ],
             [
              0.8888888888888888,
              "#fdca26"
             ],
             [
              1,
              "#f0f921"
             ]
            ],
            "type": "heatmap"
           }
          ],
          "heatmapgl": [
           {
            "colorbar": {
             "outlinewidth": 0,
             "ticks": ""
            },
            "colorscale": [
             [
              0,
              "#0d0887"
             ],
             [
              0.1111111111111111,
              "#46039f"
             ],
             [
              0.2222222222222222,
              "#7201a8"
             ],
             [
              0.3333333333333333,
              "#9c179e"
             ],
             [
              0.4444444444444444,
              "#bd3786"
             ],
             [
              0.5555555555555556,
              "#d8576b"
             ],
             [
              0.6666666666666666,
              "#ed7953"
             ],
             [
              0.7777777777777778,
              "#fb9f3a"
             ],
             [
              0.8888888888888888,
              "#fdca26"
             ],
             [
              1,
              "#f0f921"
             ]
            ],
            "type": "heatmapgl"
           }
          ],
          "histogram": [
           {
            "marker": {
             "pattern": {
              "fillmode": "overlay",
              "size": 10,
              "solidity": 0.2
             }
            },
            "type": "histogram"
           }
          ],
          "histogram2d": [
           {
            "colorbar": {
             "outlinewidth": 0,
             "ticks": ""
            },
            "colorscale": [
             [
              0,
              "#0d0887"
             ],
             [
              0.1111111111111111,
              "#46039f"
             ],
             [
              0.2222222222222222,
              "#7201a8"
             ],
             [
              0.3333333333333333,
              "#9c179e"
             ],
             [
              0.4444444444444444,
              "#bd3786"
             ],
             [
              0.5555555555555556,
              "#d8576b"
             ],
             [
              0.6666666666666666,
              "#ed7953"
             ],
             [
              0.7777777777777778,
              "#fb9f3a"
             ],
             [
              0.8888888888888888,
              "#fdca26"
             ],
             [
              1,
              "#f0f921"
             ]
            ],
            "type": "histogram2d"
           }
          ],
          "histogram2dcontour": [
           {
            "colorbar": {
             "outlinewidth": 0,
             "ticks": ""
            },
            "colorscale": [
             [
              0,
              "#0d0887"
             ],
             [
              0.1111111111111111,
              "#46039f"
             ],
             [
              0.2222222222222222,
              "#7201a8"
             ],
             [
              0.3333333333333333,
              "#9c179e"
             ],
             [
              0.4444444444444444,
              "#bd3786"
             ],
             [
              0.5555555555555556,
              "#d8576b"
             ],
             [
              0.6666666666666666,
              "#ed7953"
             ],
             [
              0.7777777777777778,
              "#fb9f3a"
             ],
             [
              0.8888888888888888,
              "#fdca26"
             ],
             [
              1,
              "#f0f921"
             ]
            ],
            "type": "histogram2dcontour"
           }
          ],
          "mesh3d": [
           {
            "colorbar": {
             "outlinewidth": 0,
             "ticks": ""
            },
            "type": "mesh3d"
           }
          ],
          "parcoords": [
           {
            "line": {
             "colorbar": {
              "outlinewidth": 0,
              "ticks": ""
             }
            },
            "type": "parcoords"
           }
          ],
          "pie": [
           {
            "automargin": true,
            "type": "pie"
           }
          ],
          "scatter": [
           {
            "fillpattern": {
             "fillmode": "overlay",
             "size": 10,
             "solidity": 0.2
            },
            "type": "scatter"
           }
          ],
          "scatter3d": [
           {
            "line": {
             "colorbar": {
              "outlinewidth": 0,
              "ticks": ""
             }
            },
            "marker": {
             "colorbar": {
              "outlinewidth": 0,
              "ticks": ""
             }
            },
            "type": "scatter3d"
           }
          ],
          "scattercarpet": [
           {
            "marker": {
             "colorbar": {
              "outlinewidth": 0,
              "ticks": ""
             }
            },
            "type": "scattercarpet"
           }
          ],
          "scattergeo": [
           {
            "marker": {
             "colorbar": {
              "outlinewidth": 0,
              "ticks": ""
             }
            },
            "type": "scattergeo"
           }
          ],
          "scattergl": [
           {
            "marker": {
             "colorbar": {
              "outlinewidth": 0,
              "ticks": ""
             }
            },
            "type": "scattergl"
           }
          ],
          "scattermapbox": [
           {
            "marker": {
             "colorbar": {
              "outlinewidth": 0,
              "ticks": ""
             }
            },
            "type": "scattermapbox"
           }
          ],
          "scatterpolar": [
           {
            "marker": {
             "colorbar": {
              "outlinewidth": 0,
              "ticks": ""
             }
            },
            "type": "scatterpolar"
           }
          ],
          "scatterpolargl": [
           {
            "marker": {
             "colorbar": {
              "outlinewidth": 0,
              "ticks": ""
             }
            },
            "type": "scatterpolargl"
           }
          ],
          "scatterternary": [
           {
            "marker": {
             "colorbar": {
              "outlinewidth": 0,
              "ticks": ""
             }
            },
            "type": "scatterternary"
           }
          ],
          "surface": [
           {
            "colorbar": {
             "outlinewidth": 0,
             "ticks": ""
            },
            "colorscale": [
             [
              0,
              "#0d0887"
             ],
             [
              0.1111111111111111,
              "#46039f"
             ],
             [
              0.2222222222222222,
              "#7201a8"
             ],
             [
              0.3333333333333333,
              "#9c179e"
             ],
             [
              0.4444444444444444,
              "#bd3786"
             ],
             [
              0.5555555555555556,
              "#d8576b"
             ],
             [
              0.6666666666666666,
              "#ed7953"
             ],
             [
              0.7777777777777778,
              "#fb9f3a"
             ],
             [
              0.8888888888888888,
              "#fdca26"
             ],
             [
              1,
              "#f0f921"
             ]
            ],
            "type": "surface"
           }
          ],
          "table": [
           {
            "cells": {
             "fill": {
              "color": "#EBF0F8"
             },
             "line": {
              "color": "white"
             }
            },
            "header": {
             "fill": {
              "color": "#C8D4E3"
             },
             "line": {
              "color": "white"
             }
            },
            "type": "table"
           }
          ]
         },
         "layout": {
          "annotationdefaults": {
           "arrowcolor": "#2a3f5f",
           "arrowhead": 0,
           "arrowwidth": 1
          },
          "autotypenumbers": "strict",
          "coloraxis": {
           "colorbar": {
            "outlinewidth": 0,
            "ticks": ""
           }
          },
          "colorscale": {
           "diverging": [
            [
             0,
             "#8e0152"
            ],
            [
             0.1,
             "#c51b7d"
            ],
            [
             0.2,
             "#de77ae"
            ],
            [
             0.3,
             "#f1b6da"
            ],
            [
             0.4,
             "#fde0ef"
            ],
            [
             0.5,
             "#f7f7f7"
            ],
            [
             0.6,
             "#e6f5d0"
            ],
            [
             0.7,
             "#b8e186"
            ],
            [
             0.8,
             "#7fbc41"
            ],
            [
             0.9,
             "#4d9221"
            ],
            [
             1,
             "#276419"
            ]
           ],
           "sequential": [
            [
             0,
             "#0d0887"
            ],
            [
             0.1111111111111111,
             "#46039f"
            ],
            [
             0.2222222222222222,
             "#7201a8"
            ],
            [
             0.3333333333333333,
             "#9c179e"
            ],
            [
             0.4444444444444444,
             "#bd3786"
            ],
            [
             0.5555555555555556,
             "#d8576b"
            ],
            [
             0.6666666666666666,
             "#ed7953"
            ],
            [
             0.7777777777777778,
             "#fb9f3a"
            ],
            [
             0.8888888888888888,
             "#fdca26"
            ],
            [
             1,
             "#f0f921"
            ]
           ],
           "sequentialminus": [
            [
             0,
             "#0d0887"
            ],
            [
             0.1111111111111111,
             "#46039f"
            ],
            [
             0.2222222222222222,
             "#7201a8"
            ],
            [
             0.3333333333333333,
             "#9c179e"
            ],
            [
             0.4444444444444444,
             "#bd3786"
            ],
            [
             0.5555555555555556,
             "#d8576b"
            ],
            [
             0.6666666666666666,
             "#ed7953"
            ],
            [
             0.7777777777777778,
             "#fb9f3a"
            ],
            [
             0.8888888888888888,
             "#fdca26"
            ],
            [
             1,
             "#f0f921"
            ]
           ]
          },
          "colorway": [
           "#636efa",
           "#EF553B",
           "#00cc96",
           "#ab63fa",
           "#FFA15A",
           "#19d3f3",
           "#FF6692",
           "#B6E880",
           "#FF97FF",
           "#FECB52"
          ],
          "font": {
           "color": "#2a3f5f"
          },
          "geo": {
           "bgcolor": "white",
           "lakecolor": "white",
           "landcolor": "#E5ECF6",
           "showlakes": true,
           "showland": true,
           "subunitcolor": "white"
          },
          "hoverlabel": {
           "align": "left"
          },
          "hovermode": "closest",
          "mapbox": {
           "style": "light"
          },
          "paper_bgcolor": "white",
          "plot_bgcolor": "#E5ECF6",
          "polar": {
           "angularaxis": {
            "gridcolor": "white",
            "linecolor": "white",
            "ticks": ""
           },
           "bgcolor": "#E5ECF6",
           "radialaxis": {
            "gridcolor": "white",
            "linecolor": "white",
            "ticks": ""
           }
          },
          "scene": {
           "xaxis": {
            "backgroundcolor": "#E5ECF6",
            "gridcolor": "white",
            "gridwidth": 2,
            "linecolor": "white",
            "showbackground": true,
            "ticks": "",
            "zerolinecolor": "white"
           },
           "yaxis": {
            "backgroundcolor": "#E5ECF6",
            "gridcolor": "white",
            "gridwidth": 2,
            "linecolor": "white",
            "showbackground": true,
            "ticks": "",
            "zerolinecolor": "white"
           },
           "zaxis": {
            "backgroundcolor": "#E5ECF6",
            "gridcolor": "white",
            "gridwidth": 2,
            "linecolor": "white",
            "showbackground": true,
            "ticks": "",
            "zerolinecolor": "white"
           }
          },
          "shapedefaults": {
           "line": {
            "color": "#2a3f5f"
           }
          },
          "ternary": {
           "aaxis": {
            "gridcolor": "white",
            "linecolor": "white",
            "ticks": ""
           },
           "baxis": {
            "gridcolor": "white",
            "linecolor": "white",
            "ticks": ""
           },
           "bgcolor": "#E5ECF6",
           "caxis": {
            "gridcolor": "white",
            "linecolor": "white",
            "ticks": ""
           }
          },
          "title": {
           "x": 0.05
          },
          "xaxis": {
           "automargin": true,
           "gridcolor": "white",
           "linecolor": "white",
           "ticks": "",
           "title": {
            "standoff": 15
           },
           "zerolinecolor": "white",
           "zerolinewidth": 2
          },
          "yaxis": {
           "automargin": true,
           "gridcolor": "white",
           "linecolor": "white",
           "ticks": "",
           "title": {
            "standoff": 15
           },
           "zerolinecolor": "white",
           "zerolinewidth": 2
          }
         }
        },
        "title": {
         "text": "Real Estate vs Stock Investment Comparison"
        },
        "width": 1000,
        "xaxis": {
         "autorange": true,
         "range": [
          1,
          30
         ],
         "title": {
          "text": "Years"
         },
         "type": "linear"
        },
        "yaxis": {
         "autorange": true,
         "range": [
          -78256.45318942734,
          972994.2822596845
         ],
         "title": {
          "text": "Profit ($)"
         },
         "type": "linear"
        }
       }
      },
      "image/png": "[encoded data removed]",
      "text/html": [
       "<div>                            <div id=\"30000576-89d9-4b08-bd5e-36aa518d7d2d\" class=\"plotly-graph-div\" style=\"height:600px; width:1000px;\"></div>            <script type=\"text/javascript\">                require([\"plotly\"], function(Plotly) {                    window.PLOTLYENV=window.PLOTLYENV || {};                                    if (document.getElementById(\"30000576-89d9-4b08-bd5e-36aa518d7d2d\")) {                    Plotly.newPlot(                        \"30000576-89d9-4b08-bd5e-36aa518d7d2d\",                        [{\"mode\":\"lines\",\"name\":\"Stock Investment\",\"x\":[1,2,3,4,5,6,7,8,9,10,11,12,13,14,15,16,17,18,19,20,21,22,23,24,25,26,27,28,29,30],\"y\":[5406.0,11190.419999999995,17379.749400000008,24002.33185800001,31088.495088060034,38670.68974422423,46783.63802631993,55464.49268816234,64753.00717633372,74691.71767867706,85326.1379161845,96704.96757031739,108880.31530023961,121907.93737125641,135847.49298724436,150762.8174963515,166722.2147210961,183798.76975157287,202070.683634183,221621.63148857577,242541.14569277613,264925.0258912705,288875.7777036594,314503.0821429156,341924.29789291974,371264.9987454241,402659.54865760385,436251.7170636361,472195.33725809073,510655.010866157],\"type\":\"scatter\"},{\"mode\":\"lines\",\"name\":\"Real Estate (Interest Rate: 3.0%)\",\"x\":[1,2,3,4,5,6,7,8,9,10,11,12,13,14,15,16,17,18,19,20,21,22,23,24,25,26,27,28,29,30],\"y\":[-21580.8426358571,1796.472772020934,25748.737377669167,50197.279653706544,73954.22980606084,98297.92862476176,123246.12378399237,148817.09980498947,175029.6942957975,201903.31468230177,229457.95544540105,257714.21587963606,286693.31838904595,316417.1273365072,346908.16846329946,378189.64889614907,410285.477759523,443220.2874114864,477019.4553219839,511709.12661298574,547316.2372805183,583868.5381192093,621394.619370603,659923.9361171391,699486.8344443563,740114.5783945627,781839.3777359136,824694.4165715725,868713.8828143647,913932.9985531105],\"type\":\"scatter\"},{\"mode\":\"lines\",\"name\":\"Real Estate (Interest Rate: 3.5%)\",\"x\":[1,2,3,4,5,6,7,8,9,10,11,12,13,14,15,16,17,18,19,20,21,22,23,24,25,26,27,28,29,30],\"y\":[-22764.046660379594,-531.465478112761,22317.498104737897,45707.28988196571,68453.31824803594,91837.37029104799,115880.81563878892,140605.74428368243,166034.99101332677,192192.16067423328,219101.65429732858,246788.69611476635,275279.36149861396,304600.60585303145,334780.2944926473,365847.23354096856,397831.2018838216,430762.9842140325,464674.4052048003,499598.3648505095,535568.8750150639,572621.0972292068,610791.3817797216,650117.3081348871,690637.7267520956,732392.8023151208,775424.0584501649,819774.4239715099,865488.2807093547,912611.5129742252],\"type\":\"scatter\"},{\"mode\":\"lines\",\"name\":\"Real Estate (Interest Rate: 4.0%)\",\"x\":[1,2,3,4,5,6,7,8,9,10,11,12,13,14,15,16,17,18,19,20,21,22,23,24,25,26,27,28,29,30],\"y\":[-23843.330550914994,-2738.7956770527453,18933.17404571987,41196.346240634346,62920.86148475655,85333.32253358467,108459.20474113864,132324.9447880822,156957.97755029608,182386.77440061333,208640.88300003725,235750.96863699792,263748.8571755215,292667.5796756038,322541.41875158815,353405.9567369613,385298.12572669215,418256.2595710669,452320.14789790683,487531.09224311163,523931.9643726435,561567.2668823774,600483.1961656668,640727.7078420593,682350.5847443001,725403.5075646379,769940.1282654486,816016.1463633927,863689.3882006535,913019.8893213278],\"type\":\"scatter\"},{\"mode\":\"lines\",\"name\":\"Real Estate (Interest Rate: 4.5%)\",\"x\":[1,2,3,4,5,6,7,8,9,10,11,12,13,14,15,16,17,18,19,20,21,22,23,24,25,26,27,28,29,30],\"y\":[-24768.217899507144,-4562.654018943635,16239.007948552295,37564.021674685224,58230.86543625627,79524.67497535938,101470.46505121174,124094.28595852494,147810.67831651896,172501.88310098162,198093.3936808411,224622.17868744838,252126.77334682993,280647.3474966388,310225.7766092297,340905.7159554006,372732.6780494187,405754.1135222995,440019.49557694484,475580.4081856889,512490.63819804834,550806.271534074,590585.7936466074,631890.1944440635,674783.0778740024,719330.7763768352,765602.4704284644,813670.3134005824,863609.5619776862,915498.7123807139],\"type\":\"scatter\"},{\"mode\":\"lines\",\"name\":\"Real Estate (Interest Rate: 5.0%)\",\"x\":[1,2,3,4,5,6,7,8,9,10,11,12,13,14,15,16,17,18,19,20,21,22,23,24,25,26,27,28,29,30],\"y\":[-25693.91641697174,-6389.798144434913,13537.610698939156,34018.731793789404,53875.455132616175,74396.58809833464,95611.09423649317,117549.26805524174,140242.7985938837,163724.83610793552,188030.0620260653,213423.5979618046,240438.40712172945,268569.8113175118,297868.5671951708,328387.8370928113,360183.3063869679,393313.3066706092,427838.9450560004,463824.239910465,501336.2633486978,540445.2908216594,581224.9581593288,623752.4264426782,668108.5550992684,714378.0836368586,762649.8224504252,813016.8531600714,865576.7389605173,920431.745487229],\"type\":\"scatter\"}],                        {\"template\":{\"data\":{\"histogram2dcontour\":[{\"type\":\"histogram2dcontour\",\"colorbar\":{\"outlinewidth\":0,\"ticks\":\"\"},\"colorscale\":[[0.0,\"#0d0887\"],[0.1111111111111111,\"#46039f\"],[0.2222222222222222,\"#7201a8\"],[0.3333333333333333,\"#9c179e\"],[0.4444444444444444,\"#bd3786\"],[0.5555555555555556,\"#d8576b\"],[0.6666666666666666,\"#ed7953\"],[0.7777777777777778,\"#fb9f3a\"],[0.8888888888888888,\"#fdca26\"],[1.0,\"#f0f921\"]]}],\"choropleth\":[{\"type\":\"choropleth\",\"colorbar\":{\"outlinewidth\":0,\"ticks\":\"\"}}],\"histogram2d\":[{\"type\":\"histogram2d\",\"colorbar\":{\"outlinewidth\":0,\"ticks\":\"\"},\"colorscale\":[[0.0,\"#0d0887\"],[0.1111111111111111,\"#46039f\"],[0.2222222222222222,\"#7201a8\"],[0.3333333333333333,\"#9c179e\"],[0.4444444444444444,\"#bd3786\"],[0.5555555555555556,\"#d8576b\"],[0.6666666666666666,\"#ed7953\"],[0.7777777777777778,\"#fb9f3a\"],[0.8888888888888888,\"#fdca26\"],[1.0,\"#f0f921\"]]}],\"heatmap\":[{\"type\":\"heatmap\",\"colorbar\":{\"outlinewidth\":0,\"ticks\":\"\"},\"colorscale\":[[0.0,\"#0d0887\"],[0.1111111111111111,\"#46039f\"],[0.2222222222222222,\"#7201a8\"],[0.3333333333333333,\"#9c179e\"],[0.4444444444444444,\"#bd3786\"],[0.5555555555555556,\"#d8576b\"],[0.6666666666666666,\"#ed7953\"],[0.7777777777777778,\"#fb9f3a\"],[0.8888888888888888,\"#fdca26\"],[1.0,\"#f0f921\"]]}],\"heatmapgl\":[{\"type\":\"heatmapgl\",\"colorbar\":{\"outlinewidth\":0,\"ticks\":\"\"},\"colorscale\":[[0.0,\"#0d0887\"],[0.1111111111111111,\"#46039f\"],[0.2222222222222222,\"#7201a8\"],[0.3333333333333333,\"#9c179e\"],[0.4444444444444444,\"#bd3786\"],[0.5555555555555556,\"#d8576b\"],[0.6666666666666666,\"#ed7953\"],[0.7777777777777778,\"#fb9f3a\"],[0.8888888888888888,\"#fdca26\"],[1.0,\"#f0f921\"]]}],\"contourcarpet\":[{\"type\":\"contourcarpet\",\"colorbar\":{\"outlinewidth\":0,\"ticks\":\"\"}}],\"contour\":[{\"type\":\"contour\",\"colorbar\":{\"outlinewidth\":0,\"ticks\":\"\"},\"colorscale\":[[0.0,\"#0d0887\"],[0.1111111111111111,\"#46039f\"],[0.2222222222222222,\"#7201a8\"],[0.3333333333333333,\"#9c179e\"],[0.4444444444444444,\"#bd3786\"],[0.5555555555555556,\"#d8576b\"],[0.6666666666666666,\"#ed7953\"],[0.7777777777777778,\"#fb9f3a\"],[0.8888888888888888,\"#fdca26\"],[1.0,\"#f0f921\"]]}],\"surface\":[{\"type\":\"surface\",\"colorbar\":{\"outlinewidth\":0,\"ticks\":\"\"},\"colorscale\":[[0.0,\"#0d0887\"],[0.1111111111111111,\"#46039f\"],[0.2222222222222222,\"#7201a8\"],[0.3333333333333333,\"#9c179e\"],[0.4444444444444444,\"#bd3786\"],[0.5555555555555556,\"#d8576b\"],[0.6666666666666666,\"#ed7953\"],[0.7777777777777778,\"#fb9f3a\"],[0.8888888888888888,\"#fdca26\"],[1.0,\"#f0f921\"]]}],\"mesh3d\":[{\"type\":\"mesh3d\",\"colorbar\":{\"outlinewidth\":0,\"ticks\":\"\"}}],\"scatter\":[{\"fillpattern\":{\"fillmode\":\"overlay\",\"size\":10,\"solidity\":0.2},\"type\":\"scatter\"}],\"parcoords\":[{\"type\":\"parcoords\",\"line\":{\"colorbar\":{\"outlinewidth\":0,\"ticks\":\"\"}}}],\"scatterpolargl\":[{\"type\":\"scatterpolargl\",\"marker\":{\"colorbar\":{\"outlinewidth\":0,\"ticks\":\"\"}}}],\"bar\":[{\"error_x\":{\"color\":\"#2a3f5f\"},\"error_y\":{\"color\":\"#2a3f5f\"},\"marker\":{\"line\":{\"color\":\"#E5ECF6\",\"width\":0.5},\"pattern\":{\"fillmode\":\"overlay\",\"size\":10,\"solidity\":0.2}},\"type\":\"bar\"}],\"scattergeo\":[{\"type\":\"scattergeo\",\"marker\":{\"colorbar\":{\"outlinewidth\":0,\"ticks\":\"\"}}}],\"scatterpolar\":[{\"type\":\"scatterpolar\",\"marker\":{\"colorbar\":{\"outlinewidth\":0,\"ticks\":\"\"}}}],\"histogram\":[{\"marker\":{\"pattern\":{\"fillmode\":\"overlay\",\"size\":10,\"solidity\":0.2}},\"type\":\"histogram\"}],\"scattergl\":[{\"type\":\"scattergl\",\"marker\":{\"colorbar\":{\"outlinewidth\":0,\"ticks\":\"\"}}}],\"scatter3d\":[{\"type\":\"scatter3d\",\"line\":{\"colorbar\":{\"outlinewidth\":0,\"ticks\":\"\"}},\"marker\":{\"colorbar\":{\"outlinewidth\":0,\"ticks\":\"\"}}}],\"scattermapbox\":[{\"type\":\"scattermapbox\",\"marker\":{\"colorbar\":{\"outlinewidth\":0,\"ticks\":\"\"}}}],\"scatterternary\":[{\"type\":\"scatterternary\",\"marker\":{\"colorbar\":{\"outlinewidth\":0,\"ticks\":\"\"}}}],\"scattercarpet\":[{\"type\":\"scattercarpet\",\"marker\":{\"colorbar\":{\"outlinewidth\":0,\"ticks\":\"\"}}}],\"carpet\":[{\"aaxis\":{\"endlinecolor\":\"#2a3f5f\",\"gridcolor\":\"white\",\"linecolor\":\"white\",\"minorgridcolor\":\"white\",\"startlinecolor\":\"#2a3f5f\"},\"baxis\":{\"endlinecolor\":\"#2a3f5f\",\"gridcolor\":\"white\",\"linecolor\":\"white\",\"minorgridcolor\":\"white\",\"startlinecolor\":\"#2a3f5f\"},\"type\":\"carpet\"}],\"table\":[{\"cells\":{\"fill\":{\"color\":\"#EBF0F8\"},\"line\":{\"color\":\"white\"}},\"header\":{\"fill\":{\"color\":\"#C8D4E3\"},\"line\":{\"color\":\"white\"}},\"type\":\"table\"}],\"barpolar\":[{\"marker\":{\"line\":{\"color\":\"#E5ECF6\",\"width\":0.5},\"pattern\":{\"fillmode\":\"overlay\",\"size\":10,\"solidity\":0.2}},\"type\":\"barpolar\"}],\"pie\":[{\"automargin\":true,\"type\":\"pie\"}]},\"layout\":{\"autotypenumbers\":\"strict\",\"colorway\":[\"#636efa\",\"#EF553B\",\"#00cc96\",\"#ab63fa\",\"#FFA15A\",\"#19d3f3\",\"#FF6692\",\"#B6E880\",\"#FF97FF\",\"#FECB52\"],\"font\":{\"color\":\"#2a3f5f\"},\"hovermode\":\"closest\",\"hoverlabel\":{\"align\":\"left\"},\"paper_bgcolor\":\"white\",\"plot_bgcolor\":\"#E5ECF6\",\"polar\":{\"bgcolor\":\"#E5ECF6\",\"angularaxis\":{\"gridcolor\":\"white\",\"linecolor\":\"white\",\"ticks\":\"\"},\"radialaxis\":{\"gridcolor\":\"white\",\"linecolor\":\"white\",\"ticks\":\"\"}},\"ternary\":{\"bgcolor\":\"#E5ECF6\",\"aaxis\":{\"gridcolor\":\"white\",\"linecolor\":\"white\",\"ticks\":\"\"},\"baxis\":{\"gridcolor\":\"white\",\"linecolor\":\"white\",\"ticks\":\"\"},\"caxis\":{\"gridcolor\":\"white\",\"linecolor\":\"white\",\"ticks\":\"\"}},\"coloraxis\":{\"colorbar\":{\"outlinewidth\":0,\"ticks\":\"\"}},\"colorscale\":{\"sequential\":[[0.0,\"#0d0887\"],[0.1111111111111111,\"#46039f\"],[0.2222222222222222,\"#7201a8\"],[0.3333333333333333,\"#9c179e\"],[0.4444444444444444,\"#bd3786\"],[0.5555555555555556,\"#d8576b\"],[0.6666666666666666,\"#ed7953\"],[0.7777777777777778,\"#fb9f3a\"],[0.8888888888888888,\"#fdca26\"],[1.0,\"#f0f921\"]],\"sequentialminus\":[[0.0,\"#0d0887\"],[0.1111111111111111,\"#46039f\"],[0.2222222222222222,\"#7201a8\"],[0.3333333333333333,\"#9c179e\"],[0.4444444444444444,\"#bd3786\"],[0.5555555555555556,\"#d8576b\"],[0.6666666666666666,\"#ed7953\"],[0.7777777777777778,\"#fb9f3a\"],[0.8888888888888888,\"#fdca26\"],[1.0,\"#f0f921\"]],\"diverging\":[[0,\"#8e0152\"],[0.1,\"#c51b7d\"],[0.2,\"#de77ae\"],[0.3,\"#f1b6da\"],[0.4,\"#fde0ef\"],[0.5,\"#f7f7f7\"],[0.6,\"#e6f5d0\"],[0.7,\"#b8e186\"],[0.8,\"#7fbc41\"],[0.9,\"#4d9221\"],[1,\"#276419\"]]},\"xaxis\":{\"gridcolor\":\"white\",\"linecolor\":\"white\",\"ticks\":\"\",\"title\":{\"standoff\":15},\"zerolinecolor\":\"white\",\"automargin\":true,\"zerolinewidth\":2},\"yaxis\":{\"gridcolor\":\"white\",\"linecolor\":\"white\",\"ticks\":\"\",\"title\":{\"standoff\":15},\"zerolinecolor\":\"white\",\"automargin\":true,\"zerolinewidth\":2},\"scene\":{\"xaxis\":{\"backgroundcolor\":\"#E5ECF6\",\"gridcolor\":\"white\",\"linecolor\":\"white\",\"showbackground\":true,\"ticks\":\"\",\"zerolinecolor\":\"white\",\"gridwidth\":2},\"yaxis\":{\"backgroundcolor\":\"#E5ECF6\",\"gridcolor\":\"white\",\"linecolor\":\"white\",\"showbackground\":true,\"ticks\":\"\",\"zerolinecolor\":\"white\",\"gridwidth\":2},\"zaxis\":{\"backgroundcolor\":\"#E5ECF6\",\"gridcolor\":\"white\",\"linecolor\":\"white\",\"showbackground\":true,\"ticks\":\"\",\"zerolinecolor\":\"white\",\"gridwidth\":2}},\"shapedefaults\":{\"line\":{\"color\":\"#2a3f5f\"}},\"annotationdefaults\":{\"arrowcolor\":\"#2a3f5f\",\"arrowhead\":0,\"arrowwidth\":1},\"geo\":{\"bgcolor\":\"white\",\"landcolor\":\"#E5ECF6\",\"subunitcolor\":\"white\",\"showland\":true,\"showlakes\":true,\"lakecolor\":\"white\"},\"title\":{\"x\":0.05},\"mapbox\":{\"style\":\"light\"}}},\"title\":{\"text\":\"Real Estate vs Stock Investment Comparison\"},\"xaxis\":{\"title\":{\"text\":\"Years\"}},\"yaxis\":{\"title\":{\"text\":\"Profit ($)\"}},\"legend\":{\"title\":{\"text\":\"Investment Type\"}},\"height\":600,\"width\":1000},                        {\"responsive\": true}                    ).then(function(){\n",
       "                            \n",
       "var gd = document.getElementById('30000576-89d9-4b08-bd5e-36aa518d7d2d');\n",
       "var x = new MutationObserver(function (mutations, observer) {{\n",
       "        var display = window.getComputedStyle(gd).display;\n",
       "        if (!display || display === 'none') {{\n",
       "            console.log([gd, 'removed!']);\n",
       "            Plotly.purge(gd);\n",
       "            observer.disconnect();\n",
       "        }}\n",
       "}});\n",
       "\n",
       "// Listen for the removal of the full notebook cells\n",
       "var notebookContainer = gd.closest('#notebook-container');\n",
       "if (notebookContainer) {{\n",
       "    x.observe(notebookContainer, {childList: true});\n",
       "}}\n",
       "\n",
       "// Listen for the clearing of the current output cell\n",
       "var outputEl = gd.closest('.output');\n",
       "if (outputEl) {{\n",
       "    x.observe(outputEl, {childList: true});\n",
       "}}\n",
       "\n",
       "                        })                };                });            </script>        </div>"
      ]
     },
     "metadata": {},
     "output_type": "display_data"
    },
    {
     "name": "stdout",
     "output_type": "stream",
     "text": [
      "Stock profit after 30 years: $510,655.01\n",
      "Mortgage profit after 30 years (Interest Rate 3.0%): $913,933.00\n",
      "Mortgage profit after 30 years (Interest Rate 3.5%): $912,611.51\n",
      "Mortgage profit after 30 years (Interest Rate 4.0%): $913,019.89\n",
      "Mortgage profit after 30 years (Interest Rate 4.5%): $915,498.71\n",
      "Mortgage profit after 30 years (Interest Rate 5.0%): $920,431.75\n"
     ]
    }
   ],
   "source": [
    "# Chatgpt\n",
    "import numpy as np\n",
    "import plotly.graph_objects as go\n",
    "\n",
    "class MortgageInvestment:\n",
    "    def __init__(self, config):\n",
    "        self.purchase_price = config['purchase_price']\n",
    "        self.down_payment = config['down_payment']\n",
    "        self.interest_rate = config['interest_rate'] / 100\n",
    "        self.loan_term = config['loan_term']\n",
    "        self.property_tax_rate = config['property_tax_rate'] / 100\n",
    "        self.insurance_rate = config['insurance_rate'] / 100\n",
    "        self.maintenance_cost = config['maintenance_cost']\n",
    "        self.annual_appreciation = config['annual_appreciation'] / 100\n",
    "        self.rent_income = config['rent_income']\n",
    "        self.pmi_rate = config['pmi_rate'] / 100\n",
    "        self.origination_fee = config['origination_fee']\n",
    "        self.discount_points = config['discount_points']\n",
    "        self.closing_costs = config['closing_costs']\n",
    "        self.credit_score = config['credit_score']\n",
    "        self.dti_ratio = config['dti_ratio']\n",
    "        self.mip_rate = config.get('mip_rate', 0) / 100\n",
    "        self.is_fha = config.get('is_fha', False)\n",
    "        self.tax_rate = config['tax_rate'] / 100\n",
    "        self.standard_deduction = config['standard_deduction']\n",
    "\n",
    "        self.loan_amount = self.purchase_price - self.down_payment\n",
    "        self.ltv_ratio = self.loan_amount / self.purchase_price\n",
    "        self.monthly_payment = self.calculate_monthly_payment()\n",
    "        \n",
    "        self.initial_costs = self.down_payment + self.origination_fee + (self.discount_points / 100 * self.loan_amount) + self.closing_costs\n",
    "\n",
    "    def calculate_monthly_payment(self):\n",
    "        monthly_rate = self.interest_rate / 12\n",
    "        num_payments = self.loan_term * 12\n",
    "        principal_interest = (self.loan_amount * monthly_rate * (1 + monthly_rate) ** num_payments) / ((1 + monthly_rate) ** num_payments - 1)\n",
    "        \n",
    "        property_tax = (self.purchase_price * self.property_tax_rate) / 12\n",
    "        insurance = (self.purchase_price * self.insurance_rate) / 12\n",
    "        \n",
    "        pmi = (self.loan_amount * self.pmi_rate) / 12 if self.ltv_ratio > 0.8 else 0\n",
    "        mip = (self.loan_amount * self.mip_rate) / 12 if self.is_fha else 0\n",
    "        \n",
    "        return principal_interest + property_tax + insurance + pmi + mip\n",
    "\n",
    "    def calculate_profit(self, years_held, selling_params):\n",
    "        total_mortgage_payments = self.monthly_payment * 12 * years_held\n",
    "        total_maintenance = self.maintenance_cost * 12 * years_held\n",
    "        total_rent_income = self.rent_income * 12 * years_held\n",
    "\n",
    "        appreciated_value = self.purchase_price * (1 + self.annual_appreciation) ** years_held\n",
    "        \n",
    "        # Calculate selling costs\n",
    "        total_selling_costs = sum(selling_params.values())\n",
    "        if 'agent_commission_rate' in selling_params:\n",
    "            total_selling_costs += appreciated_value * selling_params['agent_commission_rate']\n",
    "        if 'closing_costs_sale_rate' in selling_params:\n",
    "            total_selling_costs += appreciated_value * selling_params['closing_costs_sale_rate']\n",
    "        \n",
    "        selling_price = appreciated_value - total_selling_costs\n",
    "\n",
    "        # Calculate remaining principal\n",
    "        monthly_rate = self.interest_rate / 12\n",
    "        num_payments = self.loan_term * 12\n",
    "        payments_made = years_held * 12\n",
    "        remaining_principal = self.loan_amount * (1 + monthly_rate)**payments_made - (self.monthly_payment * ((1 + monthly_rate)**payments_made - 1)) / monthly_rate\n",
    "\n",
    "        # Calculate tax deductions\n",
    "        total_interest_paid = total_mortgage_payments - (self.loan_amount - remaining_principal)\n",
    "        total_property_tax_paid = self.purchase_price * self.property_tax_rate * years_held\n",
    "        total_deductions = total_interest_paid + total_property_tax_paid\n",
    "        \n",
    "        tax_savings = max(0, (total_deductions - self.standard_deduction * years_held) * self.tax_rate)\n",
    "\n",
    "        # Calculate capital gains tax (assuming long-term capital gains tax rate of 15%)\n",
    "        capital_gains = max(0, selling_price - self.purchase_price)\n",
    "        capital_gains_tax = capital_gains * 0.15\n",
    "\n",
    "        profit = (selling_price - remaining_principal - capital_gains_tax) - (self.initial_costs + \n",
    "                  total_mortgage_payments + total_maintenance - total_rent_income - tax_savings)\n",
    "\n",
    "        return profit\n",
    "\n",
    "class StockInvestment:\n",
    "    def __init__(self, config):\n",
    "        self.initial_investment = config['initial_investment']\n",
    "        self.annual_return = config['annual_return'] / 100\n",
    "        self.dividend_yield = config['dividend_yield'] / 100\n",
    "\n",
    "    def calculate_profit(self, years_held):\n",
    "        total_value = self.initial_investment * (1 + self.annual_return) ** years_held\n",
    "        total_dividends = sum([self.initial_investment * (1 + self.annual_return) ** i * self.dividend_yield for i in range(years_held)])\n",
    "        \n",
    "        # Calculate capital gains tax (assuming long-term capital gains tax rate of 15%)\n",
    "        capital_gains = total_value - self.initial_investment\n",
    "        capital_gains_tax = capital_gains * 0.15\n",
    "        \n",
    "        profit = total_value + total_dividends - self.initial_investment - capital_gains_tax\n",
    "        return profit\n",
    "\n",
    "def compare_investments(mortgage_config, stock_config, years, interest_rates, selling_params):\n",
    "    stock = StockInvestment(stock_config)\n",
    "    stock_profits = [stock.calculate_profit(year) for year in range(1, years + 1)]\n",
    "\n",
    "    fig = go.Figure()\n",
    "\n",
    "    fig.add_trace(go.Scatter(x=list(range(1, years + 1)), y=stock_profits,\n",
    "                             mode='lines', name='Stock Investment'))\n",
    "\n",
    "    mortgage_profits_list = []\n",
    "    for rate in interest_rates:\n",
    "        mortgage_config['interest_rate'] = rate\n",
    "        mortgage = MortgageInvestment(mortgage_config)\n",
    "        mortgage_profits = [mortgage.calculate_profit(year, selling_params) for year in range(1, years + 1)]\n",
    "        mortgage_profits_list.append(mortgage_profits)\n",
    "        \n",
    "        fig.add_trace(go.Scatter(x=list(range(1, years + 1)), y=mortgage_profits,\n",
    "                                 mode='lines', name=f'Real Estate (Interest Rate: {rate}%)'))\n",
    "\n",
    "    fig.update_layout(\n",
    "        title=\"Real Estate vs Stock Investment Comparison\",\n",
    "        xaxis_title=\"Years\",\n",
    "        yaxis_title=\"Profit ($)\",\n",
    "        legend_title=\"Investment Type\",\n",
    "        height=600,\n",
    "        width=1000\n",
    "    )\n",
    "\n",
    "    fig.show()\n",
    "\n",
    "    return mortgage_profits_list, stock_profits\n",
    "\n",
    "# Configuration\n",
    "mortgage_config = {\n",
    "    'purchase_price': 300000,\n",
    "    'down_payment': 60000,\n",
    "    'interest_rate': 3.5,\n",
    "    'loan_term': 30,\n",
    "    'property_tax_rate': 1.2,\n",
    "    'insurance_rate': 0.5,\n",
    "    'maintenance_cost': 200,\n",
    "    'annual_appreciation': 3,\n",
    "    'rent_income': 2000,\n",
    "    'pmi_rate': 0.5,\n",
    "    'origination_fee': 3000,\n",
    "    'discount_points': 1,\n",
    "    'closing_costs': 5000,\n",
    "    'credit_score': 750,\n",
    "    'dti_ratio': 0.36,\n",
    "    'tax_rate': 22,\n",
    "    'standard_deduction': 12550  # 2021 standard deduction for single filers\n",
    "}\n",
    "\n",
    "selling_params = {\n",
    "    'agent_commission_rate': 0.06,\n",
    "    'title_transfer_fees': 1000,\n",
    "    'closing_costs_sale_rate': 0.02,\n",
    "    'prepayment_penalty': 0,\n",
    "    'home_inspection_cost': 500,\n",
    "    'repairs_and_renovations': 5000,\n",
    "    'staging_costs': 2000,\n",
    "    'legal_fees': 1500\n",
    "}\n",
    "\n",
    "stock_config = {\n",
    "    'initial_investment': 68000,  # Down payment + origination fee + closing costs\n",
    "    'annual_return': 7,\n",
    "    'dividend_yield': 2\n",
    "}\n",
    "\n",
    "interest_rates = [3.0, 3.5, 4.0, 4.5, 5.0]\n",
    "years = 30\n",
    "\n",
    "mortgage_profits_list, stock_profits = compare_investments(mortgage_config, stock_config, years, interest_rates, selling_params)\n",
    "\n",
    "print(f\"Stock profit after {years} years: ${stock_profits[-1]:,.2f}\")\n",
    "for rate, profits in zip(interest_rates, mortgage_profits_list):\n",
    "    print(f\"Mortgage profit after {years} years (Interest Rate {rate}%): ${profits[-1]:,.2f}\")\n"
   ]
  },
  {
   "cell_type": "code",
   "execution_count": 8,
   "id": "aa03122e-c44d-4691-aea9-28a9818d0e20",
   "metadata": {},
   "outputs": [
    {
     "data": {
      "application/vnd.plotly.v1+json": {
       "config": {
        "plotlyServerURL": "https://plot.ly"
       },
       "data": [
        {
         "mode": "lines",
         "name": "Stock Investment",
         "type": "scatter",
         "x": [
          1,
          2,
          3,
          4,
          5,
          6,
          7,
          8,
          9,
          10,
          11,
          12,
          13,
          14,
          15,
          16,
          17,
          18,
          19,
          20,
          21,
          22,
          23,
          24,
          25,
          26,
          27,
          28,
          29,
          30
         ],
         "y": [
          5406,
          11190.419999999995,
          17379.749400000008,
          24002.33185800001,
          31088.495088060034,
          38670.68974422423,
          46783.63802631993,
          55464.49268816234,
          64753.00717633372,
          74691.71767867706,
          85326.1379161845,
          96704.96757031739,
          108880.31530023961,
          121907.93737125641,
          135847.49298724436,
          150762.8174963515,
          166722.2147210961,
          183798.76975157287,
          202070.683634183,
          221621.63148857577,
          242541.14569277613,
          264925.0258912705,
          288875.7777036594,
          314503.0821429156,
          341924.29789291974,
          371264.9987454241,
          402659.54865760385,
          436251.7170636361,
          472195.33725809073,
          510655.010866157
         ]
        },
        {
         "mode": "lines",
         "name": "Real Estate (Interest Rate: 3.0%)",
         "type": "scatter",
         "x": [
          1,
          2,
          3,
          4,
          5,
          6,
          7,
          8,
          9,
          10,
          11,
          12,
          13,
          14,
          15,
          16,
          17,
          18,
          19,
          20,
          21,
          22,
          23,
          24,
          25,
          26,
          27,
          28,
          29,
          30
         ],
         "y": [
          -26029.63074269954,
          -7291.9049069619505,
          11824.165252100443,
          31233.92828171624,
          49743.35257727016,
          68624.42970088494,
          87888.36498099382,
          107546.70160137776,
          127611.3307883956,
          148094.50230540085,
          169008.8352636055,
          190367.32925893692,
          212183.37584471516,
          234470.7703502796,
          257243.72405599646,
          280516.87673539337,
          304305.3095754936,
          328624.5584867529,
          353490.62781434855,
          378920.00446292403,
          404929.6724472565,
          431537.1278816928,
          458760.39442158135,
          486618.0391703364,
          515129.1890661702,
          544313.5477629623,
          574191.4130201634,
          604783.694617089,
          636111.932807411,
          668198.3173301398
         ]
        },
        {
         "mode": "lines",
         "name": "Real Estate (Interest Rate: 3.5%)",
         "type": "scatter",
         "x": [
          1,
          2,
          3,
          4,
          5,
          6,
          7,
          8,
          9,
          10,
          11,
          12,
          13,
          14,
          15,
          16,
          17,
          18,
          19,
          20,
          21,
          22,
          23,
          24,
          25,
          26,
          27,
          28,
          29,
          30
         ],
         "y": [
          -26961.81224706951,
          -9147.366387969843,
          9055.254255188665,
          27562.378826640306,
          45181.01038679855,
          63184.23173759038,
          81584.39863569356,
          100394.26660649297,
          119627.00397199797,
          139296.20530640453,
          159415.90533343906,
          180000.5932800951,
          201065.2277018562,
          222625.25179500622,
          244696.60921214163,
          267295.760397545,
          290439.6994596263,
          314145.971598218,
          338432.6911051017,
          363318.5599567534,
          388822.8870189336,
          414965.60788339924,
          441767.30535769137,
          469249.2306296552,
          497433.3251290666,
          526342.2431094937,
          555999.3749742856,
          586428.8713713882,
          617655.668082504,
          649705.5117329723
         ]
        },
        {
         "mode": "lines",
         "name": "Real Estate (Interest Rate: 4.0%)",
         "type": "scatter",
         "x": [
          1,
          2,
          3,
          4,
          5,
          6,
          7,
          8,
          9,
          10,
          11,
          12,
          13,
          14,
          15,
          16,
          17,
          18,
          19,
          20,
          21,
          22,
          23,
          24,
          25,
          26,
          27,
          28,
          29,
          30
         ],
         "y": [
          -27895.07699428813,
          -11007.362965421875,
          6275.986124913281,
          23872.28808031566,
          40589.59925333774,
          57702.123870231066,
          75223.41091697261,
          93167.48480754762,
          111548.86245626271,
          130382.57097669104,
          149684.1660307103,
          169469.75085199194,
          189755.99596922463,
          210560.15965532162,
          231900.10912986172,
          253794.3425430567,
          276262.0117706146,
          299322.9460499945,
          322997.6764897128,
          347307.46148457343,
          372274.31307094975,
          397921.0242575598,
          424271.19736852235,
          451349.27343690966,
          479180.56268845766,
          507791.27615663584,
          537208.5584718453,
          567460.5218691688,
          598576.2814607947,
          630585.9918210162
         ]
        },
        {
         "mode": "lines",
         "name": "Real Estate (Interest Rate: 4.5%)",
         "type": "scatter",
         "x": [
          1,
          2,
          3,
          4,
          5,
          6,
          7,
          8,
          9,
          10,
          11,
          12,
          13,
          14,
          15,
          16,
          17,
          18,
          19,
          20,
          21,
          22,
          23,
          24,
          25,
          26,
          27,
          28,
          29,
          30
         ],
         "y": [
          -28829.29843309526,
          -12871.380415308653,
          3487.499581640055,
          20165.63071080527,
          35972.11490191974,
          52182.28080226524,
          68810.88554002668,
          85873.25054510875,
          103385.2840639129,
          121363.50460616553,
          139825.06536354605,
          158787.77964160012,
          178270.14734823236,
          198291.3825839653,
          218871.4423811255,
          240031.05664118277,
          261791.7593216201,
          284175.9209259654,
          307206.78235296474,
          330908.4901633319,
          355306.1333250754,
          380425.7815010809,
          406294.52494542324,
          432940.5160778117,
          460393.01280861505,
          488682.42369011336,
          517840.354972943,
          547899.659650195,
          578894.4885752489,
          610860.3437432338
         ]
        },
        {
         "mode": "lines",
         "name": "Real Estate (Interest Rate: 5.0%)",
         "type": "scatter",
         "x": [
          1,
          2,
          3,
          4,
          5,
          6,
          7,
          8,
          9,
          10,
          11,
          12,
          13,
          14,
          15,
          16,
          17,
          18,
          19,
          20,
          21,
          22,
          23,
          24,
          25,
          26,
          27,
          28,
          29,
          30
         ],
         "y": [
          -29764.357012442415,
          -14738.930801455375,
          690.8799740484101,
          16444.29734796707,
          31331.43867087677,
          46628.73637306491,
          62352.14592138942,
          78518.28822731617,
          95144.47916630714,
          112248.7604716969,
          129849.93206930235,
          147967.58592228507,
          166622.14145920795,
          185834.88266183794,
          205627.9968930225,
          226024.6155489462,
          247048.85662423997,
          268725.8692827994,
          291081.8805317683,
          314144.2441009737,
          337941.4916351727,
          362503.38631180295,
          387860.97900251823,
          414046.6671026764,
          441094.2561591125,
          469039.02443301864,
          497917.79054155794,
          527768.9843289946,
          558632.7211256337,
          590550.8795607536
         ]
        }
       ],
       "layout": {
        "height": 600,
        "legend": {
         "title": {
          "text": "Investment Type"
         }
        },
        "template": {
         "data": {
          "bar": [
           {
            "error_x": {
             "color": "#2a3f5f"
            },
            "error_y": {
             "color": "#2a3f5f"
            },
            "marker": {
             "line": {
              "color": "#E5ECF6",
              "width": 0.5
             },
             "pattern": {
              "fillmode": "overlay",
              "size": 10,
              "solidity": 0.2
             }
            },
            "type": "bar"
           }
          ],
          "barpolar": [
           {
            "marker": {
             "line": {
              "color": "#E5ECF6",
              "width": 0.5
             },
             "pattern": {
              "fillmode": "overlay",
              "size": 10,
              "solidity": 0.2
             }
            },
            "type": "barpolar"
           }
          ],
          "carpet": [
           {
            "aaxis": {
             "endlinecolor": "#2a3f5f",
             "gridcolor": "white",
             "linecolor": "white",
             "minorgridcolor": "white",
             "startlinecolor": "#2a3f5f"
            },
            "baxis": {
             "endlinecolor": "#2a3f5f",
             "gridcolor": "white",
             "linecolor": "white",
             "minorgridcolor": "white",
             "startlinecolor": "#2a3f5f"
            },
            "type": "carpet"
           }
          ],
          "choropleth": [
           {
            "colorbar": {
             "outlinewidth": 0,
             "ticks": ""
            },
            "type": "choropleth"
           }
          ],
          "contour": [
           {
            "colorbar": {
             "outlinewidth": 0,
             "ticks": ""
            },
            "colorscale": [
             [
              0,
              "#0d0887"
             ],
             [
              0.1111111111111111,
              "#46039f"
             ],
             [
              0.2222222222222222,
              "#7201a8"
             ],
             [
              0.3333333333333333,
              "#9c179e"
             ],
             [
              0.4444444444444444,
              "#bd3786"
             ],
             [
              0.5555555555555556,
              "#d8576b"
             ],
             [
              0.6666666666666666,
              "#ed7953"
             ],
             [
              0.7777777777777778,
              "#fb9f3a"
             ],
             [
              0.8888888888888888,
              "#fdca26"
             ],
             [
              1,
              "#f0f921"
             ]
            ],
            "type": "contour"
           }
          ],
          "contourcarpet": [
           {
            "colorbar": {
             "outlinewidth": 0,
             "ticks": ""
            },
            "type": "contourcarpet"
           }
          ],
          "heatmap": [
           {
            "colorbar": {
             "outlinewidth": 0,
             "ticks": ""
            },
            "colorscale": [
             [
              0,
              "#0d0887"
             ],
             [
              0.1111111111111111,
              "#46039f"
             ],
             [
              0.2222222222222222,
              "#7201a8"
             ],
             [
              0.3333333333333333,
              "#9c179e"
             ],
             [
              0.4444444444444444,
              "#bd3786"
             ],
             [
              0.5555555555555556,
              "#d8576b"
             ],
             [
              0.6666666666666666,
              "#ed7953"
             ],
             [
              0.7777777777777778,
              "#fb9f3a"
             ],
             [
              0.8888888888888888,
              "#fdca26"
             ],
             [
              1,
              "#f0f921"
             ]
            ],
            "type": "heatmap"
           }
          ],
          "heatmapgl": [
           {
            "colorbar": {
             "outlinewidth": 0,
             "ticks": ""
            },
            "colorscale": [
             [
              0,
              "#0d0887"
             ],
             [
              0.1111111111111111,
              "#46039f"
             ],
             [
              0.2222222222222222,
              "#7201a8"
             ],
             [
              0.3333333333333333,
              "#9c179e"
             ],
             [
              0.4444444444444444,
              "#bd3786"
             ],
             [
              0.5555555555555556,
              "#d8576b"
             ],
             [
              0.6666666666666666,
              "#ed7953"
             ],
             [
              0.7777777777777778,
              "#fb9f3a"
             ],
             [
              0.8888888888888888,
              "#fdca26"
             ],
             [
              1,
              "#f0f921"
             ]
            ],
            "type": "heatmapgl"
           }
          ],
          "histogram": [
           {
            "marker": {
             "pattern": {
              "fillmode": "overlay",
              "size": 10,
              "solidity": 0.2
             }
            },
            "type": "histogram"
           }
          ],
          "histogram2d": [
           {
            "colorbar": {
             "outlinewidth": 0,
             "ticks": ""
            },
            "colorscale": [
             [
              0,
              "#0d0887"
             ],
             [
              0.1111111111111111,
              "#46039f"
             ],
             [
              0.2222222222222222,
              "#7201a8"
             ],
             [
              0.3333333333333333,
              "#9c179e"
             ],
             [
              0.4444444444444444,
              "#bd3786"
             ],
             [
              0.5555555555555556,
              "#d8576b"
             ],
             [
              0.6666666666666666,
              "#ed7953"
             ],
             [
              0.7777777777777778,
              "#fb9f3a"
             ],
             [
              0.8888888888888888,
              "#fdca26"
             ],
             [
              1,
              "#f0f921"
             ]
            ],
            "type": "histogram2d"
           }
          ],
          "histogram2dcontour": [
           {
            "colorbar": {
             "outlinewidth": 0,
             "ticks": ""
            },
            "colorscale": [
             [
              0,
              "#0d0887"
             ],
             [
              0.1111111111111111,
              "#46039f"
             ],
             [
              0.2222222222222222,
              "#7201a8"
             ],
             [
              0.3333333333333333,
              "#9c179e"
             ],
             [
              0.4444444444444444,
              "#bd3786"
             ],
             [
              0.5555555555555556,
              "#d8576b"
             ],
             [
              0.6666666666666666,
              "#ed7953"
             ],
             [
              0.7777777777777778,
              "#fb9f3a"
             ],
             [
              0.8888888888888888,
              "#fdca26"
             ],
             [
              1,
              "#f0f921"
             ]
            ],
            "type": "histogram2dcontour"
           }
          ],
          "mesh3d": [
           {
            "colorbar": {
             "outlinewidth": 0,
             "ticks": ""
            },
            "type": "mesh3d"
           }
          ],
          "parcoords": [
           {
            "line": {
             "colorbar": {
              "outlinewidth": 0,
              "ticks": ""
             }
            },
            "type": "parcoords"
           }
          ],
          "pie": [
           {
            "automargin": true,
            "type": "pie"
           }
          ],
          "scatter": [
           {
            "fillpattern": {
             "fillmode": "overlay",
             "size": 10,
             "solidity": 0.2
            },
            "type": "scatter"
           }
          ],
          "scatter3d": [
           {
            "line": {
             "colorbar": {
              "outlinewidth": 0,
              "ticks": ""
             }
            },
            "marker": {
             "colorbar": {
              "outlinewidth": 0,
              "ticks": ""
             }
            },
            "type": "scatter3d"
           }
          ],
          "scattercarpet": [
           {
            "marker": {
             "colorbar": {
              "outlinewidth": 0,
              "ticks": ""
             }
            },
            "type": "scattercarpet"
           }
          ],
          "scattergeo": [
           {
            "marker": {
             "colorbar": {
              "outlinewidth": 0,
              "ticks": ""
             }
            },
            "type": "scattergeo"
           }
          ],
          "scattergl": [
           {
            "marker": {
             "colorbar": {
              "outlinewidth": 0,
              "ticks": ""
             }
            },
            "type": "scattergl"
           }
          ],
          "scattermapbox": [
           {
            "marker": {
             "colorbar": {
              "outlinewidth": 0,
              "ticks": ""
             }
            },
            "type": "scattermapbox"
           }
          ],
          "scatterpolar": [
           {
            "marker": {
             "colorbar": {
              "outlinewidth": 0,
              "ticks": ""
             }
            },
            "type": "scatterpolar"
           }
          ],
          "scatterpolargl": [
           {
            "marker": {
             "colorbar": {
              "outlinewidth": 0,
              "ticks": ""
             }
            },
            "type": "scatterpolargl"
           }
          ],
          "scatterternary": [
           {
            "marker": {
             "colorbar": {
              "outlinewidth": 0,
              "ticks": ""
             }
            },
            "type": "scatterternary"
           }
          ],
          "surface": [
           {
            "colorbar": {
             "outlinewidth": 0,
             "ticks": ""
            },
            "colorscale": [
             [
              0,
              "#0d0887"
             ],
             [
              0.1111111111111111,
              "#46039f"
             ],
             [
              0.2222222222222222,
              "#7201a8"
             ],
             [
              0.3333333333333333,
              "#9c179e"
             ],
             [
              0.4444444444444444,
              "#bd3786"
             ],
             [
              0.5555555555555556,
              "#d8576b"
             ],
             [
              0.6666666666666666,
              "#ed7953"
             ],
             [
              0.7777777777777778,
              "#fb9f3a"
             ],
             [
              0.8888888888888888,
              "#fdca26"
             ],
             [
              1,
              "#f0f921"
             ]
            ],
            "type": "surface"
           }
          ],
          "table": [
           {
            "cells": {
             "fill": {
              "color": "#EBF0F8"
             },
             "line": {
              "color": "white"
             }
            },
            "header": {
             "fill": {
              "color": "#C8D4E3"
             },
             "line": {
              "color": "white"
             }
            },
            "type": "table"
           }
          ]
         },
         "layout": {
          "annotationdefaults": {
           "arrowcolor": "#2a3f5f",
           "arrowhead": 0,
           "arrowwidth": 1
          },
          "autotypenumbers": "strict",
          "coloraxis": {
           "colorbar": {
            "outlinewidth": 0,
            "ticks": ""
           }
          },
          "colorscale": {
           "diverging": [
            [
             0,
             "#8e0152"
            ],
            [
             0.1,
             "#c51b7d"
            ],
            [
             0.2,
             "#de77ae"
            ],
            [
             0.3,
             "#f1b6da"
            ],
            [
             0.4,
             "#fde0ef"
            ],
            [
             0.5,
             "#f7f7f7"
            ],
            [
             0.6,
             "#e6f5d0"
            ],
            [
             0.7,
             "#b8e186"
            ],
            [
             0.8,
             "#7fbc41"
            ],
            [
             0.9,
             "#4d9221"
            ],
            [
             1,
             "#276419"
            ]
           ],
           "sequential": [
            [
             0,
             "#0d0887"
            ],
            [
             0.1111111111111111,
             "#46039f"
            ],
            [
             0.2222222222222222,
             "#7201a8"
            ],
            [
             0.3333333333333333,
             "#9c179e"
            ],
            [
             0.4444444444444444,
             "#bd3786"
            ],
            [
             0.5555555555555556,
             "#d8576b"
            ],
            [
             0.6666666666666666,
             "#ed7953"
            ],
            [
             0.7777777777777778,
             "#fb9f3a"
            ],
            [
             0.8888888888888888,
             "#fdca26"
            ],
            [
             1,
             "#f0f921"
            ]
           ],
           "sequentialminus": [
            [
             0,
             "#0d0887"
            ],
            [
             0.1111111111111111,
             "#46039f"
            ],
            [
             0.2222222222222222,
             "#7201a8"
            ],
            [
             0.3333333333333333,
             "#9c179e"
            ],
            [
             0.4444444444444444,
             "#bd3786"
            ],
            [
             0.5555555555555556,
             "#d8576b"
            ],
            [
             0.6666666666666666,
             "#ed7953"
            ],
            [
             0.7777777777777778,
             "#fb9f3a"
            ],
            [
             0.8888888888888888,
             "#fdca26"
            ],
            [
             1,
             "#f0f921"
            ]
           ]
          },
          "colorway": [
           "#636efa",
           "#EF553B",
           "#00cc96",
           "#ab63fa",
           "#FFA15A",
           "#19d3f3",
           "#FF6692",
           "#B6E880",
           "#FF97FF",
           "#FECB52"
          ],
          "font": {
           "color": "#2a3f5f"
          },
          "geo": {
           "bgcolor": "white",
           "lakecolor": "white",
           "landcolor": "#E5ECF6",
           "showlakes": true,
           "showland": true,
           "subunitcolor": "white"
          },
          "hoverlabel": {
           "align": "left"
          },
          "hovermode": "closest",
          "mapbox": {
           "style": "light"
          },
          "paper_bgcolor": "white",
          "plot_bgcolor": "#E5ECF6",
          "polar": {
           "angularaxis": {
            "gridcolor": "white",
            "linecolor": "white",
            "ticks": ""
           },
           "bgcolor": "#E5ECF6",
           "radialaxis": {
            "gridcolor": "white",
            "linecolor": "white",
            "ticks": ""
           }
          },
          "scene": {
           "xaxis": {
            "backgroundcolor": "#E5ECF6",
            "gridcolor": "white",
            "gridwidth": 2,
            "linecolor": "white",
            "showbackground": true,
            "ticks": "",
            "zerolinecolor": "white"
           },
           "yaxis": {
            "backgroundcolor": "#E5ECF6",
            "gridcolor": "white",
            "gridwidth": 2,
            "linecolor": "white",
            "showbackground": true,
            "ticks": "",
            "zerolinecolor": "white"
           },
           "zaxis": {
            "backgroundcolor": "#E5ECF6",
            "gridcolor": "white",
            "gridwidth": 2,
            "linecolor": "white",
            "showbackground": true,
            "ticks": "",
            "zerolinecolor": "white"
           }
          },
          "shapedefaults": {
           "line": {
            "color": "#2a3f5f"
           }
          },
          "ternary": {
           "aaxis": {
            "gridcolor": "white",
            "linecolor": "white",
            "ticks": ""
           },
           "baxis": {
            "gridcolor": "white",
            "linecolor": "white",
            "ticks": ""
           },
           "bgcolor": "#E5ECF6",
           "caxis": {
            "gridcolor": "white",
            "linecolor": "white",
            "ticks": ""
           }
          },
          "title": {
           "x": 0.05
          },
          "xaxis": {
           "automargin": true,
           "gridcolor": "white",
           "linecolor": "white",
           "ticks": "",
           "title": {
            "standoff": 15
           },
           "zerolinecolor": "white",
           "zerolinewidth": 2
          },
          "yaxis": {
           "automargin": true,
           "gridcolor": "white",
           "linecolor": "white",
           "ticks": "",
           "title": {
            "standoff": 15
           },
           "zerolinecolor": "white",
           "zerolinewidth": 2
          }
         }
        },
        "title": {
         "text": "Real Estate vs Stock Investment Comparison"
        },
        "width": 1000,
        "xaxis": {
         "autorange": true,
         "range": [
          1,
          30
         ],
         "title": {
          "text": "Years"
         },
         "type": "linear"
        },
        "yaxis": {
         "autorange": true,
         "range": [
          -68540.06114258588,
          706974.0214602833
         ],
         "title": {
          "text": "Profit ($)"
         },
         "type": "linear"
        }
       }
      },
      "image/png": "[encoded data removed]",
      "text/html": [
       "<div>                            <div id=\"02bc4f95-28b7-40c0-b646-a76439a7beb1\" class=\"plotly-graph-div\" style=\"height:600px; width:1000px;\"></div>            <script type=\"text/javascript\">                require([\"plotly\"], function(Plotly) {                    window.PLOTLYENV=window.PLOTLYENV || {};                                    if (document.getElementById(\"02bc4f95-28b7-40c0-b646-a76439a7beb1\")) {                    Plotly.newPlot(                        \"02bc4f95-28b7-40c0-b646-a76439a7beb1\",                        [{\"mode\":\"lines\",\"name\":\"Stock Investment\",\"x\":[1,2,3,4,5,6,7,8,9,10,11,12,13,14,15,16,17,18,19,20,21,22,23,24,25,26,27,28,29,30],\"y\":[5406.0,11190.419999999995,17379.749400000008,24002.33185800001,31088.495088060034,38670.68974422423,46783.63802631993,55464.49268816234,64753.00717633372,74691.71767867706,85326.1379161845,96704.96757031739,108880.31530023961,121907.93737125641,135847.49298724436,150762.8174963515,166722.2147210961,183798.76975157287,202070.683634183,221621.63148857577,242541.14569277613,264925.0258912705,288875.7777036594,314503.0821429156,341924.29789291974,371264.9987454241,402659.54865760385,436251.7170636361,472195.33725809073,510655.010866157],\"type\":\"scatter\"},{\"mode\":\"lines\",\"name\":\"Real Estate (Interest Rate: 3.0%)\",\"x\":[1,2,3,4,5,6,7,8,9,10,11,12,13,14,15,16,17,18,19,20,21,22,23,24,25,26,27,28,29,30],\"y\":[-26029.63074269954,-7291.9049069619505,11824.165252100443,31233.92828171624,49743.35257727016,68624.42970088494,87888.36498099382,107546.70160137776,127611.3307883956,148094.50230540085,169008.8352636055,190367.32925893692,212183.37584471516,234470.7703502796,257243.72405599646,280516.87673539337,304305.3095754936,328624.5584867529,353490.62781434855,378920.00446292403,404929.6724472565,431537.1278816928,458760.39442158135,486618.0391703364,515129.1890661702,544313.5477629623,574191.4130201634,604783.694617089,636111.932807411,668198.3173301398],\"type\":\"scatter\"},{\"mode\":\"lines\",\"name\":\"Real Estate (Interest Rate: 3.5%)\",\"x\":[1,2,3,4,5,6,7,8,9,10,11,12,13,14,15,16,17,18,19,20,21,22,23,24,25,26,27,28,29,30],\"y\":[-26961.81224706951,-9147.366387969843,9055.254255188665,27562.378826640306,45181.01038679855,63184.23173759038,81584.39863569356,100394.26660649297,119627.00397199797,139296.20530640453,159415.90533343906,180000.5932800951,201065.2277018562,222625.25179500622,244696.60921214163,267295.760397545,290439.6994596263,314145.971598218,338432.6911051017,363318.5599567534,388822.8870189336,414965.60788339924,441767.30535769137,469249.2306296552,497433.3251290666,526342.2431094937,555999.3749742856,586428.8713713882,617655.668082504,649705.5117329723],\"type\":\"scatter\"},{\"mode\":\"lines\",\"name\":\"Real Estate (Interest Rate: 4.0%)\",\"x\":[1,2,3,4,5,6,7,8,9,10,11,12,13,14,15,16,17,18,19,20,21,22,23,24,25,26,27,28,29,30],\"y\":[-27895.07699428813,-11007.362965421875,6275.986124913281,23872.28808031566,40589.59925333774,57702.123870231066,75223.41091697261,93167.48480754762,111548.86245626271,130382.57097669104,149684.1660307103,169469.75085199194,189755.99596922463,210560.15965532162,231900.10912986172,253794.3425430567,276262.0117706146,299322.9460499945,322997.6764897128,347307.46148457343,372274.31307094975,397921.0242575598,424271.19736852235,451349.27343690966,479180.56268845766,507791.27615663584,537208.5584718453,567460.5218691688,598576.2814607947,630585.9918210162],\"type\":\"scatter\"},{\"mode\":\"lines\",\"name\":\"Real Estate (Interest Rate: 4.5%)\",\"x\":[1,2,3,4,5,6,7,8,9,10,11,12,13,14,15,16,17,18,19,20,21,22,23,24,25,26,27,28,29,30],\"y\":[-28829.29843309526,-12871.380415308653,3487.499581640055,20165.63071080527,35972.11490191974,52182.28080226524,68810.88554002668,85873.25054510875,103385.2840639129,121363.50460616553,139825.06536354605,158787.77964160012,178270.14734823236,198291.3825839653,218871.4423811255,240031.05664118277,261791.7593216201,284175.9209259654,307206.78235296474,330908.4901633319,355306.1333250754,380425.7815010809,406294.52494542324,432940.5160778117,460393.01280861505,488682.42369011336,517840.354972943,547899.659650195,578894.4885752489,610860.3437432338],\"type\":\"scatter\"},{\"mode\":\"lines\",\"name\":\"Real Estate (Interest Rate: 5.0%)\",\"x\":[1,2,3,4,5,6,7,8,9,10,11,12,13,14,15,16,17,18,19,20,21,22,23,24,25,26,27,28,29,30],\"y\":[-29764.357012442415,-14738.930801455375,690.8799740484101,16444.29734796707,31331.43867087677,46628.73637306491,62352.14592138942,78518.28822731617,95144.47916630714,112248.7604716969,129849.93206930235,147967.58592228507,166622.14145920795,185834.88266183794,205627.9968930225,226024.6155489462,247048.85662423997,268725.8692827994,291081.8805317683,314144.2441009737,337941.4916351727,362503.38631180295,387860.97900251823,414046.6671026764,441094.2561591125,469039.02443301864,497917.79054155794,527768.9843289946,558632.7211256337,590550.8795607536],\"type\":\"scatter\"}],                        {\"template\":{\"data\":{\"histogram2dcontour\":[{\"type\":\"histogram2dcontour\",\"colorbar\":{\"outlinewidth\":0,\"ticks\":\"\"},\"colorscale\":[[0.0,\"#0d0887\"],[0.1111111111111111,\"#46039f\"],[0.2222222222222222,\"#7201a8\"],[0.3333333333333333,\"#9c179e\"],[0.4444444444444444,\"#bd3786\"],[0.5555555555555556,\"#d8576b\"],[0.6666666666666666,\"#ed7953\"],[0.7777777777777778,\"#fb9f3a\"],[0.8888888888888888,\"#fdca26\"],[1.0,\"#f0f921\"]]}],\"choropleth\":[{\"type\":\"choropleth\",\"colorbar\":{\"outlinewidth\":0,\"ticks\":\"\"}}],\"histogram2d\":[{\"type\":\"histogram2d\",\"colorbar\":{\"outlinewidth\":0,\"ticks\":\"\"},\"colorscale\":[[0.0,\"#0d0887\"],[0.1111111111111111,\"#46039f\"],[0.2222222222222222,\"#7201a8\"],[0.3333333333333333,\"#9c179e\"],[0.4444444444444444,\"#bd3786\"],[0.5555555555555556,\"#d8576b\"],[0.6666666666666666,\"#ed7953\"],[0.7777777777777778,\"#fb9f3a\"],[0.8888888888888888,\"#fdca26\"],[1.0,\"#f0f921\"]]}],\"heatmap\":[{\"type\":\"heatmap\",\"colorbar\":{\"outlinewidth\":0,\"ticks\":\"\"},\"colorscale\":[[0.0,\"#0d0887\"],[0.1111111111111111,\"#46039f\"],[0.2222222222222222,\"#7201a8\"],[0.3333333333333333,\"#9c179e\"],[0.4444444444444444,\"#bd3786\"],[0.5555555555555556,\"#d8576b\"],[0.6666666666666666,\"#ed7953\"],[0.7777777777777778,\"#fb9f3a\"],[0.8888888888888888,\"#fdca26\"],[1.0,\"#f0f921\"]]}],\"heatmapgl\":[{\"type\":\"heatmapgl\",\"colorbar\":{\"outlinewidth\":0,\"ticks\":\"\"},\"colorscale\":[[0.0,\"#0d0887\"],[0.1111111111111111,\"#46039f\"],[0.2222222222222222,\"#7201a8\"],[0.3333333333333333,\"#9c179e\"],[0.4444444444444444,\"#bd3786\"],[0.5555555555555556,\"#d8576b\"],[0.6666666666666666,\"#ed7953\"],[0.7777777777777778,\"#fb9f3a\"],[0.8888888888888888,\"#fdca26\"],[1.0,\"#f0f921\"]]}],\"contourcarpet\":[{\"type\":\"contourcarpet\",\"colorbar\":{\"outlinewidth\":0,\"ticks\":\"\"}}],\"contour\":[{\"type\":\"contour\",\"colorbar\":{\"outlinewidth\":0,\"ticks\":\"\"},\"colorscale\":[[0.0,\"#0d0887\"],[0.1111111111111111,\"#46039f\"],[0.2222222222222222,\"#7201a8\"],[0.3333333333333333,\"#9c179e\"],[0.4444444444444444,\"#bd3786\"],[0.5555555555555556,\"#d8576b\"],[0.6666666666666666,\"#ed7953\"],[0.7777777777777778,\"#fb9f3a\"],[0.8888888888888888,\"#fdca26\"],[1.0,\"#f0f921\"]]}],\"surface\":[{\"type\":\"surface\",\"colorbar\":{\"outlinewidth\":0,\"ticks\":\"\"},\"colorscale\":[[0.0,\"#0d0887\"],[0.1111111111111111,\"#46039f\"],[0.2222222222222222,\"#7201a8\"],[0.3333333333333333,\"#9c179e\"],[0.4444444444444444,\"#bd3786\"],[0.5555555555555556,\"#d8576b\"],[0.6666666666666666,\"#ed7953\"],[0.7777777777777778,\"#fb9f3a\"],[0.8888888888888888,\"#fdca26\"],[1.0,\"#f0f921\"]]}],\"mesh3d\":[{\"type\":\"mesh3d\",\"colorbar\":{\"outlinewidth\":0,\"ticks\":\"\"}}],\"scatter\":[{\"fillpattern\":{\"fillmode\":\"overlay\",\"size\":10,\"solidity\":0.2},\"type\":\"scatter\"}],\"parcoords\":[{\"type\":\"parcoords\",\"line\":{\"colorbar\":{\"outlinewidth\":0,\"ticks\":\"\"}}}],\"scatterpolargl\":[{\"type\":\"scatterpolargl\",\"marker\":{\"colorbar\":{\"outlinewidth\":0,\"ticks\":\"\"}}}],\"bar\":[{\"error_x\":{\"color\":\"#2a3f5f\"},\"error_y\":{\"color\":\"#2a3f5f\"},\"marker\":{\"line\":{\"color\":\"#E5ECF6\",\"width\":0.5},\"pattern\":{\"fillmode\":\"overlay\",\"size\":10,\"solidity\":0.2}},\"type\":\"bar\"}],\"scattergeo\":[{\"type\":\"scattergeo\",\"marker\":{\"colorbar\":{\"outlinewidth\":0,\"ticks\":\"\"}}}],\"scatterpolar\":[{\"type\":\"scatterpolar\",\"marker\":{\"colorbar\":{\"outlinewidth\":0,\"ticks\":\"\"}}}],\"histogram\":[{\"marker\":{\"pattern\":{\"fillmode\":\"overlay\",\"size\":10,\"solidity\":0.2}},\"type\":\"histogram\"}],\"scattergl\":[{\"type\":\"scattergl\",\"marker\":{\"colorbar\":{\"outlinewidth\":0,\"ticks\":\"\"}}}],\"scatter3d\":[{\"type\":\"scatter3d\",\"line\":{\"colorbar\":{\"outlinewidth\":0,\"ticks\":\"\"}},\"marker\":{\"colorbar\":{\"outlinewidth\":0,\"ticks\":\"\"}}}],\"scattermapbox\":[{\"type\":\"scattermapbox\",\"marker\":{\"colorbar\":{\"outlinewidth\":0,\"ticks\":\"\"}}}],\"scatterternary\":[{\"type\":\"scatterternary\",\"marker\":{\"colorbar\":{\"outlinewidth\":0,\"ticks\":\"\"}}}],\"scattercarpet\":[{\"type\":\"scattercarpet\",\"marker\":{\"colorbar\":{\"outlinewidth\":0,\"ticks\":\"\"}}}],\"carpet\":[{\"aaxis\":{\"endlinecolor\":\"#2a3f5f\",\"gridcolor\":\"white\",\"linecolor\":\"white\",\"minorgridcolor\":\"white\",\"startlinecolor\":\"#2a3f5f\"},\"baxis\":{\"endlinecolor\":\"#2a3f5f\",\"gridcolor\":\"white\",\"linecolor\":\"white\",\"minorgridcolor\":\"white\",\"startlinecolor\":\"#2a3f5f\"},\"type\":\"carpet\"}],\"table\":[{\"cells\":{\"fill\":{\"color\":\"#EBF0F8\"},\"line\":{\"color\":\"white\"}},\"header\":{\"fill\":{\"color\":\"#C8D4E3\"},\"line\":{\"color\":\"white\"}},\"type\":\"table\"}],\"barpolar\":[{\"marker\":{\"line\":{\"color\":\"#E5ECF6\",\"width\":0.5},\"pattern\":{\"fillmode\":\"overlay\",\"size\":10,\"solidity\":0.2}},\"type\":\"barpolar\"}],\"pie\":[{\"automargin\":true,\"type\":\"pie\"}]},\"layout\":{\"autotypenumbers\":\"strict\",\"colorway\":[\"#636efa\",\"#EF553B\",\"#00cc96\",\"#ab63fa\",\"#FFA15A\",\"#19d3f3\",\"#FF6692\",\"#B6E880\",\"#FF97FF\",\"#FECB52\"],\"font\":{\"color\":\"#2a3f5f\"},\"hovermode\":\"closest\",\"hoverlabel\":{\"align\":\"left\"},\"paper_bgcolor\":\"white\",\"plot_bgcolor\":\"#E5ECF6\",\"polar\":{\"bgcolor\":\"#E5ECF6\",\"angularaxis\":{\"gridcolor\":\"white\",\"linecolor\":\"white\",\"ticks\":\"\"},\"radialaxis\":{\"gridcolor\":\"white\",\"linecolor\":\"white\",\"ticks\":\"\"}},\"ternary\":{\"bgcolor\":\"#E5ECF6\",\"aaxis\":{\"gridcolor\":\"white\",\"linecolor\":\"white\",\"ticks\":\"\"},\"baxis\":{\"gridcolor\":\"white\",\"linecolor\":\"white\",\"ticks\":\"\"},\"caxis\":{\"gridcolor\":\"white\",\"linecolor\":\"white\",\"ticks\":\"\"}},\"coloraxis\":{\"colorbar\":{\"outlinewidth\":0,\"ticks\":\"\"}},\"colorscale\":{\"sequential\":[[0.0,\"#0d0887\"],[0.1111111111111111,\"#46039f\"],[0.2222222222222222,\"#7201a8\"],[0.3333333333333333,\"#9c179e\"],[0.4444444444444444,\"#bd3786\"],[0.5555555555555556,\"#d8576b\"],[0.6666666666666666,\"#ed7953\"],[0.7777777777777778,\"#fb9f3a\"],[0.8888888888888888,\"#fdca26\"],[1.0,\"#f0f921\"]],\"sequentialminus\":[[0.0,\"#0d0887\"],[0.1111111111111111,\"#46039f\"],[0.2222222222222222,\"#7201a8\"],[0.3333333333333333,\"#9c179e\"],[0.4444444444444444,\"#bd3786\"],[0.5555555555555556,\"#d8576b\"],[0.6666666666666666,\"#ed7953\"],[0.7777777777777778,\"#fb9f3a\"],[0.8888888888888888,\"#fdca26\"],[1.0,\"#f0f921\"]],\"diverging\":[[0,\"#8e0152\"],[0.1,\"#c51b7d\"],[0.2,\"#de77ae\"],[0.3,\"#f1b6da\"],[0.4,\"#fde0ef\"],[0.5,\"#f7f7f7\"],[0.6,\"#e6f5d0\"],[0.7,\"#b8e186\"],[0.8,\"#7fbc41\"],[0.9,\"#4d9221\"],[1,\"#276419\"]]},\"xaxis\":{\"gridcolor\":\"white\",\"linecolor\":\"white\",\"ticks\":\"\",\"title\":{\"standoff\":15},\"zerolinecolor\":\"white\",\"automargin\":true,\"zerolinewidth\":2},\"yaxis\":{\"gridcolor\":\"white\",\"linecolor\":\"white\",\"ticks\":\"\",\"title\":{\"standoff\":15},\"zerolinecolor\":\"white\",\"automargin\":true,\"zerolinewidth\":2},\"scene\":{\"xaxis\":{\"backgroundcolor\":\"#E5ECF6\",\"gridcolor\":\"white\",\"linecolor\":\"white\",\"showbackground\":true,\"ticks\":\"\",\"zerolinecolor\":\"white\",\"gridwidth\":2},\"yaxis\":{\"backgroundcolor\":\"#E5ECF6\",\"gridcolor\":\"white\",\"linecolor\":\"white\",\"showbackground\":true,\"ticks\":\"\",\"zerolinecolor\":\"white\",\"gridwidth\":2},\"zaxis\":{\"backgroundcolor\":\"#E5ECF6\",\"gridcolor\":\"white\",\"linecolor\":\"white\",\"showbackground\":true,\"ticks\":\"\",\"zerolinecolor\":\"white\",\"gridwidth\":2}},\"shapedefaults\":{\"line\":{\"color\":\"#2a3f5f\"}},\"annotationdefaults\":{\"arrowcolor\":\"#2a3f5f\",\"arrowhead\":0,\"arrowwidth\":1},\"geo\":{\"bgcolor\":\"white\",\"landcolor\":\"#E5ECF6\",\"subunitcolor\":\"white\",\"showland\":true,\"showlakes\":true,\"lakecolor\":\"white\"},\"title\":{\"x\":0.05},\"mapbox\":{\"style\":\"light\"}}},\"title\":{\"text\":\"Real Estate vs Stock Investment Comparison\"},\"xaxis\":{\"title\":{\"text\":\"Years\"}},\"yaxis\":{\"title\":{\"text\":\"Profit ($)\"}},\"legend\":{\"title\":{\"text\":\"Investment Type\"}},\"height\":600,\"width\":1000},                        {\"responsive\": true}                    ).then(function(){\n",
       "                            \n",
       "var gd = document.getElementById('02bc4f95-28b7-40c0-b646-a76439a7beb1');\n",
       "var x = new MutationObserver(function (mutations, observer) {{\n",
       "        var display = window.getComputedStyle(gd).display;\n",
       "        if (!display || display === 'none') {{\n",
       "            console.log([gd, 'removed!']);\n",
       "            Plotly.purge(gd);\n",
       "            observer.disconnect();\n",
       "        }}\n",
       "}});\n",
       "\n",
       "// Listen for the removal of the full notebook cells\n",
       "var notebookContainer = gd.closest('#notebook-container');\n",
       "if (notebookContainer) {{\n",
       "    x.observe(notebookContainer, {childList: true});\n",
       "}}\n",
       "\n",
       "// Listen for the clearing of the current output cell\n",
       "var outputEl = gd.closest('.output');\n",
       "if (outputEl) {{\n",
       "    x.observe(outputEl, {childList: true});\n",
       "}}\n",
       "\n",
       "                        })                };                });            </script>        </div>"
      ]
     },
     "metadata": {},
     "output_type": "display_data"
    },
    {
     "name": "stdout",
     "output_type": "stream",
     "text": [
      "Stock profit after 30 years: $510,655.01\n",
      "Mortgage profit after 30 years (Interest Rate 3.0%): $668,198.32\n",
      "Mortgage profit after 30 years (Interest Rate 3.5%): $649,705.51\n",
      "Mortgage profit after 30 years (Interest Rate 4.0%): $630,585.99\n",
      "Mortgage profit after 30 years (Interest Rate 4.5%): $610,860.34\n",
      "Mortgage profit after 30 years (Interest Rate 5.0%): $590,550.88\n"
     ]
    }
   ],
   "source": [
    "# Claude\n",
    "import numpy as np\n",
    "import plotly.graph_objects as go\n",
    "\n",
    "class MortgageInvestment:\n",
    "    def __init__(self, config):\n",
    "        self.purchase_price = config['purchase_price']\n",
    "        self.down_payment = config['down_payment']\n",
    "        self.interest_rate = config['interest_rate'] / 100\n",
    "        self.loan_term = config['loan_term']\n",
    "        self.property_tax_rate = config['property_tax_rate'] / 100\n",
    "        self.insurance_rate = config['insurance_rate'] / 100\n",
    "        self.maintenance_cost = config['maintenance_cost']\n",
    "        self.annual_appreciation = config['annual_appreciation'] / 100\n",
    "        self.rent_income = config['rent_income']\n",
    "        self.pmi_rate = config['pmi_rate'] / 100\n",
    "        self.origination_fee = config['origination_fee']\n",
    "        self.discount_points = config['discount_points']\n",
    "        self.closing_costs = config['closing_costs']\n",
    "        self.credit_score = config['credit_score']\n",
    "        self.dti_ratio = config['dti_ratio']\n",
    "        self.mip_rate = config.get('mip_rate', 0) / 100\n",
    "        self.is_fha = config.get('is_fha', False)\n",
    "        self.tax_rate = config['tax_rate'] / 100\n",
    "        self.standard_deduction = config['standard_deduction']\n",
    "\n",
    "        self.loan_amount = self.purchase_price - self.down_payment\n",
    "        self.ltv_ratio = self.loan_amount / self.purchase_price\n",
    "        self.monthly_payment = self.calculate_monthly_payment()\n",
    "        \n",
    "        self.initial_costs = self.down_payment + self.origination_fee + (self.discount_points / 100 * self.loan_amount) + self.closing_costs\n",
    "\n",
    "    def calculate_monthly_payment(self):\n",
    "        monthly_rate = self.interest_rate / 12\n",
    "        num_payments = self.loan_term * 12\n",
    "        principal_interest = (self.loan_amount * monthly_rate * (1 + monthly_rate) ** num_payments) / ((1 + monthly_rate) ** num_payments - 1)\n",
    "        \n",
    "        property_tax = (self.purchase_price * self.property_tax_rate) / 12\n",
    "        insurance = (self.purchase_price * self.insurance_rate) / 12\n",
    "        \n",
    "        pmi = (self.loan_amount * self.pmi_rate) / 12 if self.ltv_ratio > 0.8 else 0\n",
    "        mip = (self.loan_amount * self.mip_rate) / 12 if self.is_fha else 0\n",
    "        \n",
    "        return principal_interest + property_tax + insurance + pmi + mip\n",
    "\n",
    "    def calculate_profit(self, years_held, selling_params):\n",
    "        total_mortgage_payments = self.monthly_payment * 12 * years_held\n",
    "        total_maintenance = self.maintenance_cost * 12 * years_held\n",
    "        total_rent_income = self.rent_income * 12 * years_held\n",
    "\n",
    "        appreciated_value = self.purchase_price * (1 + self.annual_appreciation) ** years_held\n",
    "        \n",
    "        # Calculate selling costs\n",
    "        total_selling_costs = sum(selling_params.values())\n",
    "        if 'agent_commission_rate' in selling_params:\n",
    "            total_selling_costs += appreciated_value * selling_params['agent_commission_rate']\n",
    "        if 'closing_costs_sale_rate' in selling_params:\n",
    "            total_selling_costs += appreciated_value * selling_params['closing_costs_sale_rate']\n",
    "        \n",
    "        selling_price = appreciated_value - total_selling_costs\n",
    "\n",
    "        remaining_principal = self.loan_amount * (1 - (1 + self.interest_rate / 12) ** (-self.loan_term * 12 + years_held * 12)) / (1 - (1 + self.interest_rate / 12) ** (-self.loan_term * 12))\n",
    "\n",
    "        # Calculate tax deductions\n",
    "        total_interest_paid = total_mortgage_payments - (self.loan_amount - remaining_principal)\n",
    "        total_property_tax_paid = self.purchase_price * self.property_tax_rate * years_held\n",
    "        total_deductions = total_interest_paid + total_property_tax_paid\n",
    "        \n",
    "        tax_savings = max(0, (total_deductions - self.standard_deduction * years_held) * self.tax_rate)\n",
    "\n",
    "        # Calculate capital gains tax (assuming long-term capital gains tax rate of 15%)\n",
    "        capital_gains = max(0, selling_price - self.purchase_price)\n",
    "        capital_gains_tax = capital_gains * 0.15\n",
    "\n",
    "        profit = (selling_price - remaining_principal - capital_gains_tax) - (self.initial_costs + \n",
    "                  total_mortgage_payments + total_maintenance - total_rent_income - tax_savings)\n",
    "\n",
    "        return profit\n",
    "\n",
    "class StockInvestment:\n",
    "    def __init__(self, config):\n",
    "        self.initial_investment = config['initial_investment']\n",
    "        self.annual_return = config['annual_return'] / 100\n",
    "        self.dividend_yield = config['dividend_yield'] / 100\n",
    "\n",
    "    def calculate_profit(self, years_held):\n",
    "        total_value = self.initial_investment * (1 + self.annual_return) ** years_held\n",
    "        total_dividends = sum([self.initial_investment * (1 + self.annual_return) ** i * self.dividend_yield for i in range(years_held)])\n",
    "        \n",
    "        # Calculate capital gains tax (assuming long-term capital gains tax rate of 15%)\n",
    "        capital_gains = total_value - self.initial_investment\n",
    "        capital_gains_tax = capital_gains * 0.15\n",
    "        \n",
    "        profit = total_value + total_dividends - self.initial_investment - capital_gains_tax\n",
    "        return profit\n",
    "\n",
    "def compare_investments(mortgage_config, stock_config, years, interest_rates, selling_params):\n",
    "    stock = StockInvestment(stock_config)\n",
    "    stock_profits = [stock.calculate_profit(year) for year in range(1, years + 1)]\n",
    "\n",
    "    fig = go.Figure()\n",
    "\n",
    "    fig.add_trace(go.Scatter(x=list(range(1, years + 1)), y=stock_profits,\n",
    "                             mode='lines', name='Stock Investment'))\n",
    "\n",
    "    mortgage_profits_list = []\n",
    "    for rate in interest_rates:\n",
    "        mortgage_config['interest_rate'] = rate\n",
    "        mortgage = MortgageInvestment(mortgage_config)\n",
    "        mortgage_profits = [mortgage.calculate_profit(year, selling_params) for year in range(1, years + 1)]\n",
    "        mortgage_profits_list.append(mortgage_profits)\n",
    "        \n",
    "        fig.add_trace(go.Scatter(x=list(range(1, years + 1)), y=mortgage_profits,\n",
    "                                 mode='lines', name=f'Real Estate (Interest Rate: {rate}%)'))\n",
    "\n",
    "    fig.update_layout(\n",
    "        title=\"Real Estate vs Stock Investment Comparison\",\n",
    "        xaxis_title=\"Years\",\n",
    "        yaxis_title=\"Profit ($)\",\n",
    "        legend_title=\"Investment Type\",\n",
    "        height=600,\n",
    "        width=1000\n",
    "    )\n",
    "\n",
    "    fig.show()\n",
    "\n",
    "    return mortgage_profits_list, stock_profits\n",
    "\n",
    "# Configuration\n",
    "mortgage_config = {\n",
    "    'purchase_price': 300000,\n",
    "    'down_payment': 60000,\n",
    "    'interest_rate': 3.5,\n",
    "    'loan_term': 30,\n",
    "    'property_tax_rate': 1.2,\n",
    "    'insurance_rate': 0.5,\n",
    "    'maintenance_cost': 200,\n",
    "    'annual_appreciation': 3,\n",
    "    'rent_income': 2000,\n",
    "    'pmi_rate': 0.5,\n",
    "    'origination_fee': 3000,\n",
    "    'discount_points': 1,\n",
    "    'closing_costs': 5000,\n",
    "    'credit_score': 750,\n",
    "    'dti_ratio': 0.36,\n",
    "    'tax_rate': 22,\n",
    "    'standard_deduction': 12550  # 2021 standard deduction for single filers\n",
    "}\n",
    "\n",
    "stock_config = {\n",
    "    'initial_investment': 68000,  # Down payment + origination fee + closing costs\n",
    "    'annual_return': 7,\n",
    "    'dividend_yield': 2\n",
    "}\n",
    "\n",
    "selling_params = {\n",
    "    'agent_commission_rate': 0.06,\n",
    "    'title_transfer_fees': 1000,\n",
    "    'closing_costs_sale_rate': 0.02,\n",
    "    'prepayment_penalty': 0,\n",
    "    'home_inspection_cost': 500,\n",
    "    'repairs_and_renovations': 5000,\n",
    "    'staging_costs': 2000,\n",
    "    'legal_fees': 1500\n",
    "}\n",
    "\n",
    "interest_rates = [3.0, 3.5, 4.0, 4.5, 5.0]\n",
    "years = 30\n",
    "\n",
    "mortgage_profits_list, stock_profits = compare_investments(mortgage_config, stock_config, years, interest_rates, selling_params)\n",
    "\n",
    "print(f\"Stock profit after {years} years: ${stock_profits[-1]:,.2f}\")\n",
    "for rate, profits in zip(interest_rates, mortgage_profits_list):\n",
    "    print(f\"Mortgage profit after {years} years (Interest Rate {rate}%): ${profits[-1]:,.2f}\")"
   ]
  }
 ],
 "metadata": {
  "kernelspec": {
   "display_name": "Python 3 (ipykernel)",
   "language": "python",
   "name": "python3"
  },
  "language_info": {
   "codemirror_mode": {
    "name": "ipython",
    "version": 3
   },
   "file_extension": ".py",
   "mimetype": "text/x-python",
   "name": "python",
   "nbconvert_exporter": "python",
   "pygments_lexer": "ipython3",
   "version": "3.12.2"
  }
 },
 "nbformat": 4,
 "nbformat_minor": 5
}
